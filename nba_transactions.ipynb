{
 "cells": [
  {
   "cell_type": "code",
   "execution_count": 24,
   "metadata": {},
   "outputs": [],
   "source": [
    "import requests\n",
    "import psycopg2\n",
    "import pandas as pd"
   ]
  },
  {
   "attachments": {},
   "cell_type": "markdown",
   "metadata": {},
   "source": [
    "Create Database in Postgres"
   ]
  },
  {
   "cell_type": "code",
   "execution_count": 25,
   "metadata": {},
   "outputs": [],
   "source": [
    "def create_database():\n",
    "    # Connect to default database\n",
    "    conn = psycopg2.connect(\"host=localhost port=5432 dbname=postgres user=postgres password=root\")\n",
    "    conn.set_session(autocommit=True)\n",
    "    cur = conn.cursor()\n",
    "\n",
    "    # Create nba_transactions database\n",
    "    cur.execute(\"DROP DATABASE IF EXISTS nba_transactions;\")\n",
    "    cur.execute(\"CREATE DATABASE nba_transactions;\")\n",
    "\n",
    "    # Close connection to default DB\n",
    "    conn.close()\n",
    "\n",
    "    # Connect to nba_transactions DB\n",
    "    conn = psycopg2.connect(\"host=localhost port=5432 dbname=nba_transactions user=postgres password=root\")\n",
    "    conn.set_session(autocommit=True)\n",
    "    cur = conn.cursor()\n",
    "\n",
    "    return conn, cur"
   ]
  },
  {
   "attachments": {},
   "cell_type": "markdown",
   "metadata": {},
   "source": [
    "Extract data from ESPN"
   ]
  },
  {
   "cell_type": "code",
   "execution_count": 26,
   "metadata": {},
   "outputs": [
    {
     "name": "stdout",
     "output_type": "stream",
     "text": [
      "{\"timestamp\":\"2023-07-01T13:36:28Z\",\"status\":\"success\",\"season\":{\"year\":2023,\"type\":3,\"name\":\"Postseason\",\"displayName\":\"2022-23\"},\"requestedYear\":{\"year\":2023,\"displayName\":\"2023\"},\"count\":114,\"pageIndex\":1,\"pageSize\":1000,\"pageCount\":1,\"transactions\":[{\"date\":\"2023-06-30T07:00Z\",\"description\":\"Waived F Trendon Watford.\",\"team\":{\"id\":\"22\",\"location\":\"Portland\",\"name\":\"Trail Blazers\",\"abbreviation\":\"POR\",\"displayName\":\"Portland Trail Blazers\",\"color\":\"e03a3e\",\"alternateColor\":\"000000\",\"logos\":[{\"href\":\"https://a.espncdn.com/i/teamlogos/nba/500/por.png\",\"width\":500,\"height\":500,\"alt\":\"\",\"rel\":[\"full\",\"default\"],\"lastUpdated\":\"2018-06-05T12:08Z\"},{\"href\":\"https://a.espncdn.com/i/teamlogos/nba/500-dark/por.png\",\"width\":500,\"height\":500,\"alt\":\"\",\"rel\":[\"full\",\"dark\"],\"lastUpdated\":\"2018-06-05T12:08Z\"},{\"href\":\"https://a.espncdn.com/i/teamlogos/nba/500/scoreboard/por.png\",\"width\":500,\"height\":500,\"alt\":\"\",\"rel\":[\"full\",\"scoreboard\"],\"lastUpdated\":\"2018-06-05T12:08Z\"},{\"href\":\"https://a.espncdn.com/i/teamlogos/nba/500-dark/scoreboard/por.png\",\"width\":500,\"height\":500,\"alt\":\"\",\"rel\":[\"full\",\"scoreboard\",\"dark\"],\"lastUpdated\":\"2018-06-05T12:08Z\"}],\"links\":[{\"language\":\"en-US\",\"rel\":[\"clubhouse\",\"desktop\",\"team\"],\"href\":\"https://www.espn.com/nba/team/_/name/por/portland-trail-blazers\",\"text\":\"Clubhouse\",\"shortText\":\"Clubhouse\",\"isExternal\":false,\"isPremium\":false}]}},{\"date\":\"2023-06-30T07:00Z\",\"description\":\"Named Corliss Williamson assistant coach.\",\"team\":{\"id\":\"16\",\"location\":\"Minnesota\",\"name\":\"Timberwolves\",\"abbreviation\":\"MIN\",\"displayName\":\"Minnesota Timberwolves\",\"color\":\"266092\",\"alternateColor\":\"79bc43\",\"logos\":[{\"href\":\"https://a.espncdn.com/i/teamlogos/nba/500/min.png\",\"width\":500,\"height\":500,\"alt\":\"\",\"rel\":[\"full\",\"default\"],\"lastUpdated\":\"2018-06-05T12:08Z\"},{\"href\":\"https://a.espncdn.com/i/teamlogos/nba/500-dark/min.png\",\"width\":500,\"height\":500,\"alt\":\"\",\"rel\":[\"full\",\"dark\"],\"lastUpdated\":\"2018-06-05T12:08Z\"},{\"href\":\"https://a.espncdn.com/i/teamlogos/nba/500/scoreboard/min.png\",\"width\":500,\"height\":500,\"alt\":\"\",\"rel\":[\"full\",\"scoreboard\"],\"lastUpdated\":\"2018-06-05T12:08Z\"},{\"href\":\"https://a.espncdn.com/i/teamlogos/nba/500-dark/scoreboard/min.png\",\"width\":500,\"height\":500,\"alt\":\"\",\"rel\":[\"full\",\"scoreboard\",\"dark\"],\"lastUpdated\":\"2018-06-05T12:08Z\"}],\"links\":[{\"language\":\"en-US\",\"rel\":[\"clubhouse\",\"desktop\",\"team\"],\"href\":\"https://www.espn.com/nba/team/_/name/min/minnesota-timberwolves\",\"text\":\"Clubhouse\",\"shortText\":\"Clubhouse\",\"isExternal\":false,\"isPremium\":false}]}},{\"date\":\"2023-06-29T07:00Z\",\"description\":\"Waived C Mo Bamba and G Shaquille Harrison.\",\"team\":{\"id\":\"13\",\"location\":\"Los Angeles\",\"name\":\"Lakers\",\"abbreviation\":\"LAL\",\"displayName\":\"Los Angeles Lakers\",\"color\":\"552583\",\"alternateColor\":\"fdb927\",\"logos\":[{\"href\":\"https://a.espncdn.com/i/teamlogos/nba/500/lal.png\",\"width\":500,\"height\":500,\"alt\":\"\",\"rel\":[\"full\",\"default\"],\"lastUpdated\":\"2018-06-05T12:08Z\"},{\"href\":\"https://a.espncdn.com/i/teamlogos/nba/500-dark/lal.png\",\"width\":500,\"height\":500,\"alt\":\"\",\"rel\":[\"full\",\"dark\"],\"lastUpdated\":\"2018-06-05T12:08Z\"},{\"href\":\"https://a.espncdn.com/i/teamlogos/nba/500/scoreboard/lal.png\",\"width\":500,\"height\":500,\"alt\":\"\",\"rel\":[\"full\",\"scoreboard\"],\"lastUpdated\":\"2018-06-05T12:08Z\"},{\"href\":\"https://a.espncdn.com/i/teamlogos/nba/500-dark/scoreboard/lal.png\",\"width\":500,\"height\":500,\"alt\":\"\",\"rel\":[\"full\",\"scoreboard\",\"dark\"],\"lastUpdated\":\"2018-06-05T12:08Z\"}],\"links\":[{\"language\":\"en-US\",\"rel\":[\"clubhouse\",\"desktop\",\"team\"],\"href\":\"https://www.espn.com/nba/team/_/name/lal/los-angeles-lakers\",\"text\":\"Clubhouse\",\"shortText\":\"Clubhouse\",\"isExternal\":false,\"isPremium\":false}]}},{\"date\":\"2023-06-28T07:00Z\",\"description\":\"Signed C Naz Reid to a contract extension.\",\"team\":{\"id\":\"16\",\"location\":\"Minnesota\",\"name\":\"Timberwolves\",\"abbreviation\":\"MIN\",\"displayName\":\"Minnesota Timberwolves\",\"color\":\"266092\",\"alternateColor\":\"79bc43\",\"logos\":[{\"href\":\"https://a.espncdn.com/i/teamlogos/nba/500/min.png\",\"width\":500,\"height\":500,\"alt\":\"\",\"rel\":[\"full\",\"default\"],\"lastUpdated\":\"2018-06-05T12:08Z\"},{\"href\":\"https://a.espncdn.com/i/teamlogos/nba/500-dark/min.png\",\"width\":500,\"height\":500,\"alt\":\"\",\"rel\":[\"full\",\"dark\"],\"lastUpdated\":\"2018-06-05T12:08Z\"},{\"href\":\"https://a.espncdn.com/i/teamlogos/nba/500/scoreboard/min.png\",\"width\":500,\"height\":500,\"alt\":\"\",\"rel\":[\"full\",\"scoreboard\"],\"lastUpdated\":\"2018-06-05T12:08Z\"},{\"href\":\"https://a.espncdn.com/i/teamlogos/nba/500-dark/scoreboard/min.png\",\"width\":500,\"height\":500,\"alt\":\"\",\"rel\":[\"full\",\"scoreboard\",\"dark\"],\"lastUpdated\":\"2018-06-05T12:08Z\"}],\"links\":[{\"language\":\"en-US\",\"rel\":[\"clubhouse\",\"desktop\",\"team\"],\"href\":\"https://www.espn.com/nba/team/_/name/min/minnesota-timberwolves\",\"text\":\"Clubhouse\",\"shortText\":\"Clubhouse\",\"isExternal\":false,\"isPremium\":false}]}},{\"date\":\"2023-06-23T07:00Z\",\"description\":\"Traded draft considerations to Boston Celtics for G Marcus Smart.\",\"team\":{\"id\":\"29\",\"location\":\"Memphis\",\"name\":\"Grizzlies\",\"abbreviation\":\"MEM\",\"displayName\":\"Memphis Grizzlies\",\"color\":\"5d76a9\",\"alternateColor\":\"12173f\",\"logos\":[{\"href\":\"https://a.espncdn.com/i/teamlogos/nba/500/mem.png\",\"width\":500,\"height\":500,\"alt\":\"\",\"rel\":[\"full\",\"default\"],\"lastUpdated\":\"2018-10-12T14:51Z\"},{\"href\":\"https://a.espncdn.com/i/teamlogos/nba/500-dark/mem.png\",\"width\":500,\"height\":500,\"alt\":\"\",\"rel\":[\"full\",\"dark\"],\"lastUpdated\":\"2018-10-12T14:51Z\"},{\"href\":\"https://a.espncdn.com/i/teamlogos/nba/500/scoreboard/mem.png\",\"width\":500,\"height\":500,\"alt\":\"\",\"rel\":[\"full\",\"scoreboard\"],\"lastUpdated\":\"2018-10-12T14:52Z\"},{\"href\":\"https://a.espncdn.com/i/teamlogos/nba/500-dark/scoreboard/mem.png\",\"width\":500,\"height\":500,\"alt\":\"\",\"rel\":[\"full\",\"scoreboard\",\"dark\"],\"lastUpdated\":\"2018-10-12T14:50Z\"}],\"links\":[{\"language\":\"en-US\",\"rel\":[\"clubhouse\",\"desktop\",\"team\"],\"href\":\"https://www.espn.com/nba/team/_/name/mem/memphis-grizzlies\",\"text\":\"Clubhouse\",\"shortText\":\"Clubhouse\",\"isExternal\":false,\"isPremium\":false}]}},{\"date\":\"2023-06-23T07:00Z\",\"description\":\"Acquired Fs Mike Muscala and Danilo Gallinari from Boston Celtics for F Kristaps Porzingis.\",\"team\":{\"id\":\"27\",\"location\":\"Washington\",\"name\":\"Wizards\",\"abbreviation\":\"WSH\",\"displayName\":\"Washington Wizards\",\"color\":\"e31837\",\"alternateColor\":\"002b5c\",\"logos\":[{\"href\":\"https://a.espncdn.com/i/teamlogos/nba/500/wsh.png\",\"width\":500,\"height\":500,\"alt\":\"\",\"rel\":[\"full\",\"default\"],\"lastUpdated\":\"2018-06-05T12:08Z\"},{\"href\":\"https://a.espncdn.com/i/teamlogos/nba/500-dark/wsh.png\",\"width\":500,\"height\":500,\"alt\":\"\",\"rel\":[\"full\",\"dark\"],\"lastUpdated\":\"2018-06-05T12:08Z\"},{\"href\":\"https://a.espncdn.com/i/teamlogos/nba/500/scoreboard/wsh.png\",\"width\":500,\"height\":500,\"alt\":\"\",\"rel\":[\"full\",\"scoreboard\"],\"lastUpdated\":\"2018-06-05T12:08Z\"},{\"href\":\"https://a.espncdn.com/i/teamlogos/nba/500-dark/scoreboard/wsh.png\",\"width\":500,\"height\":500,\"alt\":\"\",\"rel\":[\"full\",\"scoreboard\",\"dark\"],\"lastUpdated\":\"2018-06-05T12:08Z\"}],\"links\":[{\"language\":\"en-US\",\"rel\":[\"clubhouse\",\"desktop\",\"team\"],\"href\":\"https://www.espn.com/nba/team/_/name/wsh/washington-wizards\",\"text\":\"Clubhouse\",\"shortText\":\"Clubhouse\",\"isExternal\":false,\"isPremium\":false}]}},{\"date\":\"2023-06-23T07:00Z\",\"description\":\"Traded G Marcus Smart to Memphis in exchange for draft considerations. Acquired F Kristaps Porzingis from Washington in exchange for Fs Mike Muscala and Danilo Gallinari.\",\"team\":{\"id\":\"2\",\"location\":\"Boston\",\"name\":\"Celtics\",\"abbreviation\":\"BOS\",\"displayName\":\"Boston Celtics\",\"color\":\"008348\",\"alternateColor\":\"bb9753\",\"logos\":[{\"href\":\"https://a.espncdn.com/i/teamlogos/nba/500/bos.png\",\"width\":500,\"height\":500,\"alt\":\"\",\"rel\":[\"full\",\"default\"],\"lastUpdated\":\"2019-03-28T21:04Z\"},{\"href\":\"https://a.espncdn.com/i/teamlogos/nba/500-dark/bos.png\",\"width\":500,\"height\":500,\"alt\":\"\",\"rel\":[\"full\",\"dark\"],\"lastUpdated\":\"2018-06-05T12:08Z\"},{\"href\":\"https://a.espncdn.com/i/teamlogos/nba/500/scoreboard/bos.png\",\"width\":500,\"height\":500,\"alt\":\"\",\"rel\":[\"full\",\"scoreboard\"],\"lastUpdated\":\"2018-06-05T12:08Z\"},{\"href\":\"https://a.espncdn.com/i/teamlogos/nba/500-dark/scoreboard/bos.png\",\"width\":500,\"height\":500,\"alt\":\"\",\"rel\":[\"full\",\"scoreboard\",\"dark\"],\"lastUpdated\":\"2018-06-05T12:08Z\"}],\"links\":[{\"language\":\"en-US\",\"rel\":[\"clubhouse\",\"desktop\",\"team\"],\"href\":\"https://www.espn.com/nba/team/_/name/bos/boston-celtics\",\"text\":\"Clubhouse\",\"shortText\":\"Clubhouse\",\"isExternal\":false,\"isPremium\":false}]}},{\"date\":\"2023-06-21T07:00Z\",\"description\":\"Named Kevin Young associate head coach and David Fizdale, Quinton Crawford, Miles Simon, Greg St. Jean, John Lucas III, Dru Anthrop and Jon Pastorek assistant coaches.\",\"team\":{\"id\":\"21\",\"location\":\"Phoenix\",\"name\":\"Suns\",\"abbreviation\":\"PHX\",\"displayName\":\"Phoenix Suns\",\"color\":\"29127a\",\"alternateColor\":\"e56020\",\"logos\":[{\"href\":\"https://a.espncdn.com/i/teamlogos/nba/500/phx.png\",\"width\":500,\"height\":500,\"alt\":\"\",\"rel\":[\"full\",\"default\"],\"lastUpdated\":\"2018-06-05T12:08Z\"},{\"href\":\"https://a.espncdn.com/i/teamlogos/nba/500-dark/phx.png\",\"width\":500,\"height\":500,\"alt\":\"\",\"rel\":[\"full\",\"dark\"],\"lastUpdated\":\"2018-06-05T12:08Z\"},{\"href\":\"https://a.espncdn.com/i/teamlogos/nba/500/scoreboard/phx.png\",\"width\":500,\"height\":500,\"alt\":\"\",\"rel\":[\"full\",\"scoreboard\"],\"lastUpdated\":\"2018-06-05T12:08Z\"},{\"href\":\"https://a.espncdn.com/i/teamlogos/nba/500-dark/scoreboard/phx.png\",\"width\":500,\"height\":500,\"alt\":\"\",\"rel\":[\"full\",\"scoreboard\",\"dark\"],\"lastUpdated\":\"2018-06-05T12:08Z\"}],\"links\":[{\"language\":\"en-US\",\"rel\":[\"clubhouse\",\"desktop\",\"team\"],\"href\":\"https://www.espn.com/nba/team/_/name/phx/phoenix-suns\",\"text\":\"Clubhouse\",\"shortText\":\"Clubhouse\",\"isExternal\":false,\"isPremium\":false}]}},{\"date\":\"2023-06-18T07:00Z\",\"description\":\"Announced the retirement of G Lou Williams.\",\"team\":{\"id\":\"1\",\"location\":\"Atlanta\",\"name\":\"Hawks\",\"abbreviation\":\"ATL\",\"displayName\":\"Atlanta Hawks\",\"color\":\"c8102e\",\"alternateColor\":\"fdb927\",\"logos\":[{\"href\":\"https://a.espncdn.com/i/teamlogos/nba/500/atl.png\",\"width\":500,\"height\":500,\"alt\":\"\",\"rel\":[\"full\",\"default\"],\"lastUpdated\":\"2021-02-04T15:47Z\"},{\"href\":\"https://a.espncdn.com/i/teamlogos/nba/500-dark/atl.png\",\"width\":500,\"height\":500,\"alt\":\"\",\"rel\":[\"full\",\"dark\"],\"lastUpdated\":\"2018-06-05T12:08Z\"},{\"href\":\"https://a.espncdn.com/i/teamlogos/nba/500/scoreboard/atl.png\",\"width\":500,\"height\":500,\"alt\":\"\",\"rel\":[\"full\",\"scoreboard\"],\"lastUpdated\":\"2018-06-05T12:08Z\"},{\"href\":\"https://a.espncdn.com/i/teamlogos/nba/500-dark/scoreboard/atl.png\",\"width\":500,\"height\":500,\"alt\":\"\",\"rel\":[\"full\",\"scoreboard\",\"dark\"],\"lastUpdated\":\"2018-06-05T12:08Z\"}],\"links\":[{\"language\":\"en-US\",\"rel\":[\"clubhouse\",\"desktop\",\"team\"],\"href\":\"https://www.espn.com/nba/team/_/name/atl/atlanta-hawks\",\"text\":\"Clubhouse\",\"shortText\":\"Clubhouse\",\"isExternal\":false,\"isPremium\":false}]}},{\"date\":\"2023-06-14T07:00Z\",\"description\":\"Named Bryan Bailey, Mike Brey, Brittni Donaldson, Steve Klei, Igor Kokoskov, Antonio Lang, Sanjay Lumpkin, Ekpe Udoh and Jeff Watkinson assistant coaches, Reggis Onwukamuche player development coach and Bryan George to player development/advance scouting and video staff.\",\"team\":{\"id\":\"1\",\"location\":\"Atlanta\",\"name\":\"Hawks\",\"abbreviation\":\"ATL\",\"displayName\":\"Atlanta Hawks\",\"color\":\"c8102e\",\"alternateColor\":\"fdb927\",\"logos\":[{\"href\":\"https://a.espncdn.com/i/teamlogos/nba/500/atl.png\",\"width\":500,\"height\":500,\"alt\":\"\",\"rel\":[\"full\",\"default\"],\"lastUpdated\":\"2021-02-04T15:47Z\"},{\"href\":\"https://a.espncdn.com/i/teamlogos/nba/500-dark/atl.png\",\"width\":500,\"height\":500,\"alt\":\"\",\"rel\":[\"full\",\"dark\"],\"lastUpdated\":\"2018-06-05T12:08Z\"},{\"href\":\"https://a.espncdn.com/i/teamlogos/nba/500/scoreboard/atl.png\",\"width\":500,\"height\":500,\"alt\":\"\",\"rel\":[\"full\",\"scoreboard\"],\"lastUpdated\":\"2018-06-05T12:08Z\"},{\"href\":\"https://a.espncdn.com/i/teamlogos/nba/500-dark/scoreboard/atl.png\",\"width\":500,\"height\":500,\"alt\":\"\",\"rel\":[\"full\",\"scoreboard\",\"dark\"],\"lastUpdated\":\"2018-06-05T12:08Z\"}],\"links\":[{\"language\":\"en-US\",\"rel\":[\"clubhouse\",\"desktop\",\"team\"],\"href\":\"https://www.espn.com/nba/team/_/name/atl/atlanta-hawks\",\"text\":\"Clubhouse\",\"shortText\":\"Clubhouse\",\"isExternal\":false,\"isPremium\":false}]}},{\"date\":\"2023-06-06T07:00Z\",\"description\":\"Named Frank Vogel head coach.\",\"team\":{\"id\":\"21\",\"location\":\"Phoenix\",\"name\":\"Suns\",\"abbreviation\":\"PHX\",\"displayName\":\"Phoenix Suns\",\"color\":\"29127a\",\"alternateColor\":\"e56020\",\"logos\":[{\"href\":\"https://a.espncdn.com/i/teamlogos/nba/500/phx.png\",\"width\":500,\"height\":500,\"alt\":\"\",\"rel\":[\"full\",\"default\"],\"lastUpdated\":\"2018-06-05T12:08Z\"},{\"href\":\"https://a.espncdn.com/i/teamlogos/nba/500-dark/phx.png\",\"width\":500,\"height\":500,\"alt\":\"\",\"rel\":[\"full\",\"dark\"],\"lastUpdated\":\"2018-06-05T12:08Z\"},{\"href\":\"https://a.espncdn.com/i/teamlogos/nba/500/scoreboard/phx.png\",\"width\":500,\"height\":500,\"alt\":\"\",\"rel\":[\"full\",\"scoreboard\"],\"lastUpdated\":\"2018-06-05T12:08Z\"},{\"href\":\"https://a.espncdn.com/i/teamlogos/nba/500-dark/scoreboard/phx.png\",\"width\":500,\"height\":500,\"alt\":\"\",\"rel\":[\"full\",\"scoreboard\",\"dark\"],\"lastUpdated\":\"2018-06-05T12:08Z\"}],\"links\":[{\"language\":\"en-US\",\"rel\":[\"clubhouse\",\"desktop\",\"team\"],\"href\":\"https://www.espn.com/nba/team/_/name/phx/phoenix-suns\",\"text\":\"Clubhouse\",\"shortText\":\"Clubhouse\",\"isExternal\":false,\"isPremium\":false}]}},{\"date\":\"2023-05-13T07:00Z\",\"description\":\"Fired head coach Monty Williams.\",\"team\":{\"id\":\"21\",\"location\":\"Phoenix\",\"name\":\"Suns\",\"abbreviation\":\"PHX\",\"displayName\":\"Phoenix Suns\",\"color\":\"29127a\",\"alternateColor\":\"e56020\",\"logos\":[{\"href\":\"https://a.espncdn.com/i/teamlogos/nba/500/phx.png\",\"width\":500,\"height\":500,\"alt\":\"\",\"rel\":[\"full\",\"default\"],\"lastUpdated\":\"2018-06-05T12:08Z\"},{\"href\":\"https://a.espncdn.com/i/teamlogos/nba/500-dark/phx.png\",\"width\":500,\"height\":500,\"alt\":\"\",\"rel\":[\"full\",\"dark\"],\"lastUpdated\":\"2018-06-05T12:08Z\"},{\"href\":\"https://a.espncdn.com/i/teamlogos/nba/500/scoreboard/phx.png\",\"width\":500,\"height\":500,\"alt\":\"\",\"rel\":[\"full\",\"scoreboard\"],\"lastUpdated\":\"2018-06-05T12:08Z\"},{\"href\":\"https://a.espncdn.com/i/teamlogos/nba/500-dark/scoreboard/phx.png\",\"width\":500,\"height\":500,\"alt\":\"\",\"rel\":[\"full\",\"scoreboard\",\"dark\"],\"lastUpdated\":\"2018-06-05T12:08Z\"}],\"links\":[{\"language\":\"en-US\",\"rel\":[\"clubhouse\",\"desktop\",\"team\"],\"href\":\"https://www.espn.com/nba/team/_/name/phx/phoenix-suns\",\"text\":\"Clubhouse\",\"shortText\":\"Clubhouse\",\"isExternal\":false,\"isPremium\":false}]}},{\"date\":\"2023-04-21T07:00Z\",\"description\":\"Fired head coach Nick Nurse.\",\"team\":{\"id\":\"28\",\"location\":\"Toronto\",\"name\":\"Raptors\",\"abbreviation\":\"TOR\",\"displayName\":\"Toronto Raptors\",\"color\":\"d91244\",\"alternateColor\":\"000000\",\"logos\":[{\"href\":\"https://a.espncdn.com/i/teamlogos/nba/500/tor.png\",\"width\":500,\"height\":500,\"alt\":\"\",\"rel\":[\"full\",\"default\"],\"lastUpdated\":\"2019-04-09T18:15Z\"},{\"href\":\"https://a.espncdn.com/i/teamlogos/nba/500-dark/tor.png\",\"width\":500,\"height\":500,\"alt\":\"\",\"rel\":[\"full\",\"dark\"],\"lastUpdated\":\"2019-05-31T20:44Z\"},{\"href\":\"https://a.espncdn.com/i/teamlogos/nba/500/scoreboard/tor.png\",\"width\":500,\"height\":500,\"alt\":\"\",\"rel\":[\"full\",\"scoreboard\"],\"lastUpdated\":\"2018-10-11T13:47Z\"},{\"href\":\"https://a.espncdn.com/i/teamlogos/nba/500-dark/scoreboard/tor.png\",\"width\":500,\"height\":500,\"alt\":\"\",\"rel\":[\"full\",\"scoreboard\",\"dark\"],\"lastUpdated\":\"2020-10-08T19:46Z\"}],\"links\":[{\"language\":\"en-US\",\"rel\":[\"clubhouse\",\"desktop\",\"team\"],\"href\":\"https://www.espn.com/nba/team/_/name/tor/toronto-raptors\",\"text\":\"Clubhouse\",\"shortText\":\"Clubhouse\",\"isExternal\":false,\"isPremium\":false}]}},{\"date\":\"2023-04-10T07:00Z\",\"description\":\"Named Josh Bartlestein chief executive officer.\",\"team\":{\"id\":\"21\",\"location\":\"Phoenix\",\"name\":\"Suns\",\"abbreviation\":\"PHX\",\"displayName\":\"Phoenix Suns\",\"color\":\"29127a\",\"alternateColor\":\"e56020\",\"logos\":[{\"href\":\"https://a.espncdn.com/i/teamlogos/nba/500/phx.png\",\"width\":500,\"height\":500,\"alt\":\"\",\"rel\":[\"full\",\"default\"],\"lastUpdated\":\"2018-06-05T12:08Z\"},{\"href\":\"https://a.espncdn.com/i/teamlogos/nba/500-dark/phx.png\",\"width\":500,\"height\":500,\"alt\":\"\",\"rel\":[\"full\",\"dark\"],\"lastUpdated\":\"2018-06-05T12:08Z\"},{\"href\":\"https://a.espncdn.com/i/teamlogos/nba/500/scoreboard/phx.png\",\"width\":500,\"height\":500,\"alt\":\"\",\"rel\":[\"full\",\"scoreboard\"],\"lastUpdated\":\"2018-06-05T12:08Z\"},{\"href\":\"https://a.espncdn.com/i/teamlogos/nba/500-dark/scoreboard/phx.png\",\"width\":500,\"height\":500,\"alt\":\"\",\"rel\":[\"full\",\"scoreboard\",\"dark\"],\"lastUpdated\":\"2018-06-05T12:08Z\"}],\"links\":[{\"language\":\"en-US\",\"rel\":[\"clubhouse\",\"desktop\",\"team\"],\"href\":\"https://www.espn.com/nba/team/_/name/phx/phoenix-suns\",\"text\":\"Clubhouse\",\"shortText\":\"Clubhouse\",\"isExternal\":false,\"isPremium\":false}]}},{\"date\":\"2023-04-10T07:00Z\",\"description\":\"Suspended C Rucy Gobert for his actions following an April 8 game against New Orleans.\",\"team\":{\"id\":\"16\",\"location\":\"Minnesota\",\"name\":\"Timberwolves\",\"abbreviation\":\"MIN\",\"displayName\":\"Minnesota Timberwolves\",\"color\":\"266092\",\"alternateColor\":\"79bc43\",\"logos\":[{\"href\":\"https://a.espncdn.com/i/teamlogos/nba/500/min.png\",\"width\":500,\"height\":500,\"alt\":\"\",\"rel\":[\"full\",\"default\"],\"lastUpdated\":\"2018-06-05T12:08Z\"},{\"href\":\"https://a.espncdn.com/i/teamlogos/nba/500-dark/min.png\",\"width\":500,\"height\":500,\"alt\":\"\",\"rel\":[\"full\",\"dark\"],\"lastUpdated\":\"2018-06-05T12:08Z\"},{\"href\":\"https://a.espncdn.com/i/teamlogos/nba/500/scoreboard/min.png\",\"width\":500,\"height\":500,\"alt\":\"\",\"rel\":[\"full\",\"scoreboard\"],\"lastUpdated\":\"2018-06-05T12:08Z\"},{\"href\":\"https://a.espncdn.com/i/teamlogos/nba/500-dark/scoreboard/min.png\",\"width\":500,\"height\":500,\"alt\":\"\",\"rel\":[\"full\",\"scoreboard\",\"dark\"],\"lastUpdated\":\"2018-06-05T12:08Z\"}],\"links\":[{\"language\":\"en-US\",\"rel\":[\"clubhouse\",\"desktop\",\"team\"],\"href\":\"https://www.espn.com/nba/team/_/name/min/minnesota-timberwolves\",\"text\":\"Clubhouse\",\"shortText\":\"Clubhouse\",\"isExternal\":false,\"isPremium\":false}]}},{\"date\":\"2023-04-09T07:00Z\",\"description\":\"Signed G Skylar Mays to a 10-day contract.\",\"team\":{\"id\":\"22\",\"location\":\"Portland\",\"name\":\"Trail Blazers\",\"abbreviation\":\"POR\",\"displayName\":\"Portland Trail Blazers\",\"color\":\"e03a3e\",\"alternateColor\":\"000000\",\"logos\":[{\"href\":\"https://a.espncdn.com/i/teamlogos/nba/500/por.png\",\"width\":500,\"height\":500,\"alt\":\"\",\"rel\":[\"full\",\"default\"],\"lastUpdated\":\"2018-06-05T12:08Z\"},{\"href\":\"https://a.espncdn.com/i/teamlogos/nba/500-dark/por.png\",\"width\":500,\"height\":500,\"alt\":\"\",\"rel\":[\"full\",\"dark\"],\"lastUpdated\":\"2018-06-05T12:08Z\"},{\"href\":\"https://a.espncdn.com/i/teamlogos/nba/500/scoreboard/por.png\",\"width\":500,\"height\":500,\"alt\":\"\",\"rel\":[\"full\",\"scoreboard\"],\"lastUpdated\":\"2018-06-05T12:08Z\"},{\"href\":\"https://a.espncdn.com/i/teamlogos/nba/500-dark/scoreboard/por.png\",\"width\":500,\"height\":500,\"alt\":\"\",\"rel\":[\"full\",\"scoreboard\",\"dark\"],\"lastUpdated\":\"2018-06-05T12:08Z\"}],\"links\":[{\"language\":\"en-US\",\"rel\":[\"clubhouse\",\"desktop\",\"team\"],\"href\":\"https://www.espn.com/nba/team/_/name/por/portland-trail-blazers\",\"text\":\"Clubhouse\",\"shortText\":\"Clubhouse\",\"isExternal\":false,\"isPremium\":false}]}},{\"date\":\"2023-04-09T07:00Z\",\"description\":\"Signed F Isaiah Roby to a rest-of-season contract.\",\"team\":{\"id\":\"18\",\"location\":\"New York\",\"name\":\"Knicks\",\"abbreviation\":\"NY\",\"displayName\":\"New York Knicks\",\"color\":\"1d428a\",\"alternateColor\":\"f58426\",\"logos\":[{\"href\":\"https://a.espncdn.com/i/teamlogos/nba/500/ny.png\",\"width\":500,\"height\":500,\"alt\":\"\",\"rel\":[\"full\",\"default\"],\"lastUpdated\":\"2018-06-05T12:08Z\"},{\"href\":\"https://a.espncdn.com/i/teamlogos/nba/500-dark/ny.png\",\"width\":500,\"height\":500,\"alt\":\"\",\"rel\":[\"full\",\"dark\"],\"lastUpdated\":\"2018-06-05T12:08Z\"},{\"href\":\"https://a.espncdn.com/i/teamlogos/nba/500/scoreboard/ny.png\",\"width\":500,\"height\":500,\"alt\":\"\",\"rel\":[\"full\",\"scoreboard\"],\"lastUpdated\":\"2018-06-05T12:08Z\"},{\"href\":\"https://a.espncdn.com/i/teamlogos/nba/500-dark/scoreboard/ny.png\",\"width\":500,\"height\":500,\"alt\":\"\",\"rel\":[\"full\",\"scoreboard\",\"dark\"],\"lastUpdated\":\"2018-06-05T12:08Z\"}],\"links\":[{\"language\":\"en-US\",\"rel\":[\"clubhouse\",\"desktop\",\"team\"],\"href\":\"https://www.espn.com/nba/team/_/name/ny/new-york-knicks\",\"text\":\"Clubhouse\",\"shortText\":\"Clubhouse\",\"isExternal\":false,\"isPremium\":false}]}},{\"date\":\"2023-04-09T07:00Z\",\"description\":\"Signed C Willie Cauley-Stein to a rest-of-season contract.\",\"team\":{\"id\":\"10\",\"location\":\"Houston\",\"name\":\"Rockets\",\"abbreviation\":\"HOU\",\"displayName\":\"Houston Rockets\",\"color\":\"ce1141\",\"alternateColor\":\"000000\",\"logos\":[{\"href\":\"https://a.espncdn.com/i/teamlogos/nba/500/hou.png\",\"width\":500,\"height\":500,\"alt\":\"\",\"rel\":[\"full\",\"default\"],\"lastUpdated\":\"2018-06-05T12:08Z\"},{\"href\":\"https://a.espncdn.com/i/teamlogos/nba/500-dark/hou.png\",\"width\":500,\"height\":500,\"alt\":\"\",\"rel\":[\"full\",\"dark\"],\"lastUpdated\":\"2018-06-05T12:08Z\"},{\"href\":\"https://a.espncdn.com/i/teamlogos/nba/500/scoreboard/hou.png\",\"width\":500,\"height\":500,\"alt\":\"\",\"rel\":[\"full\",\"scoreboard\"],\"lastUpdated\":\"2018-06-05T12:08Z\"},{\"href\":\"https://a.espncdn.com/i/teamlogos/nba/500-dark/scoreboard/hou.png\",\"width\":500,\"height\":500,\"alt\":\"\",\"rel\":[\"full\",\"scoreboard\",\"dark\"],\"lastUpdated\":\"2018-06-05T12:08Z\"}],\"links\":[{\"language\":\"en-US\",\"rel\":[\"clubhouse\",\"desktop\",\"team\"],\"href\":\"https://www.espn.com/nba/team/_/name/hou/houston-rockets\",\"text\":\"Clubhouse\",\"shortText\":\"Clubhouse\",\"isExternal\":false,\"isPremium\":false}]}},{\"date\":\"2023-04-09T07:00Z\",\"description\":\"Signed G Dereon Seabron to a two-way contract.\",\"team\":{\"id\":\"3\",\"location\":\"New Orleans\",\"name\":\"Pelicans\",\"abbreviation\":\"NO\",\"displayName\":\"New Orleans Pelicans\",\"color\":\"0a2240\",\"alternateColor\":\"b4975a\",\"logos\":[{\"href\":\"https://a.espncdn.com/i/teamlogos/nba/500/no.png\",\"width\":500,\"height\":500,\"alt\":\"\",\"rel\":[\"full\",\"default\"],\"lastUpdated\":\"2018-06-05T12:08Z\"},{\"href\":\"https://a.espncdn.com/i/teamlogos/nba/500-dark/no.png\",\"width\":500,\"height\":500,\"alt\":\"\",\"rel\":[\"full\",\"dark\"],\"lastUpdated\":\"2018-06-05T12:08Z\"},{\"href\":\"https://a.espncdn.com/i/teamlogos/nba/500/scoreboard/no.png\",\"width\":500,\"height\":500,\"alt\":\"\",\"rel\":[\"full\",\"scoreboard\"],\"lastUpdated\":\"2018-06-05T12:08Z\"},{\"href\":\"https://a.espncdn.com/i/teamlogos/nba/500-dark/scoreboard/no.png\",\"width\":500,\"height\":500,\"alt\":\"\",\"rel\":[\"full\",\"scoreboard\",\"dark\"],\"lastUpdated\":\"2018-06-05T12:08Z\"}],\"links\":[{\"language\":\"en-US\",\"rel\":[\"clubhouse\",\"desktop\",\"team\"],\"href\":\"https://www.espn.com/nba/team/_/name/no/new-orleans-pelicans\",\"text\":\"Clubhouse\",\"shortText\":\"Clubhouse\",\"isExternal\":false,\"isPremium\":false}]}},{\"date\":\"2023-04-08T07:00Z\",\"description\":\"Signed F Kenneth Lofton Jr. to a rest-of-season contract. Signed G Jacob Gilyard to a two-way contract. Waived G Kennedy Chandler.\",\"team\":{\"id\":\"29\",\"location\":\"Memphis\",\"name\":\"Grizzlies\",\"abbreviation\":\"MEM\",\"displayName\":\"Memphis Grizzlies\",\"color\":\"5d76a9\",\"alternateColor\":\"12173f\",\"logos\":[{\"href\":\"https://a.espncdn.com/i/teamlogos/nba/500/mem.png\",\"width\":500,\"height\":500,\"alt\":\"\",\"rel\":[\"full\",\"default\"],\"lastUpdated\":\"2018-10-12T14:51Z\"},{\"href\":\"https://a.espncdn.com/i/teamlogos/nba/500-dark/mem.png\",\"width\":500,\"height\":500,\"alt\":\"\",\"rel\":[\"full\",\"dark\"],\"lastUpdated\":\"2018-10-12T14:51Z\"},{\"href\":\"https://a.espncdn.com/i/teamlogos/nba/500/scoreboard/mem.png\",\"width\":500,\"height\":500,\"alt\":\"\",\"rel\":[\"full\",\"scoreboard\"],\"lastUpdated\":\"2018-10-12T14:52Z\"},{\"href\":\"https://a.espncdn.com/i/teamlogos/nba/500-dark/scoreboard/mem.png\",\"width\":500,\"height\":500,\"alt\":\"\",\"rel\":[\"full\",\"scoreboard\",\"dark\"],\"lastUpdated\":\"2018-10-12T14:50Z\"}],\"links\":[{\"language\":\"en-US\",\"rel\":[\"clubhouse\",\"desktop\",\"team\"],\"href\":\"https://www.espn.com/nba/team/_/name/mem/memphis-grizzlies\",\"text\":\"Clubhouse\",\"shortText\":\"Clubhouse\",\"isExternal\":false,\"isPremium\":false}]}},{\"date\":\"2023-04-08T07:00Z\",\"description\":\"Signed F RaiQuan Gray to a two-way contract.\",\"team\":{\"id\":\"17\",\"location\":\"Brooklyn\",\"name\":\"Nets\",\"abbreviation\":\"BKN\",\"displayName\":\"Brooklyn Nets\",\"color\":\"000000\",\"alternateColor\":\"ffffff\",\"logos\":[{\"href\":\"https://a.espncdn.com/i/teamlogos/nba/500/bkn.png\",\"width\":500,\"height\":500,\"alt\":\"\",\"rel\":[\"full\",\"default\"],\"lastUpdated\":\"2018-06-05T12:08Z\"},{\"href\":\"https://a.espncdn.com/i/teamlogos/nba/500-dark/bkn.png\",\"width\":500,\"height\":500,\"alt\":\"\",\"rel\":[\"full\",\"dark\"],\"lastUpdated\":\"2018-06-05T12:08Z\"},{\"href\":\"https://a.espncdn.com/i/teamlogos/nba/500/scoreboard/bkn.png\",\"width\":500,\"height\":500,\"alt\":\"\",\"rel\":[\"full\",\"scoreboard\"],\"lastUpdated\":\"2018-06-05T12:08Z\"},{\"href\":\"https://a.espncdn.com/i/teamlogos/nba/500-dark/scoreboard/bkn.png\",\"width\":500,\"height\":500,\"alt\":\"\",\"rel\":[\"full\",\"scoreboard\",\"dark\"],\"lastUpdated\":\"2018-06-05T12:08Z\"}],\"links\":[{\"language\":\"en-US\",\"rel\":[\"clubhouse\",\"desktop\",\"team\"],\"href\":\"https://www.espn.com/nba/team/_/name/bkn/brooklyn-nets\",\"text\":\"Clubhouse\",\"shortText\":\"Clubhouse\",\"isExternal\":false,\"isPremium\":false}]}},{\"date\":\"2023-04-07T07:00Z\",\"description\":\"Signed G Kobi Simmons to a multi-year contract and F Xavier Sneed to a two-way contract.\",\"team\":{\"id\":\"30\",\"location\":\"Charlotte\",\"name\":\"Hornets\",\"abbreviation\":\"CHA\",\"displayName\":\"Charlotte Hornets\",\"color\":\"008ca8\",\"alternateColor\":\"1d1060\",\"logos\":[{\"href\":\"https://a.espncdn.com/i/teamlogos/nba/500/cha.png\",\"width\":500,\"height\":500,\"alt\":\"\",\"rel\":[\"full\",\"default\"],\"lastUpdated\":\"2018-06-05T12:08Z\"},{\"href\":\"https://a.espncdn.com/i/teamlogos/nba/500-dark/cha.png\",\"width\":500,\"height\":500,\"alt\":\"\",\"rel\":[\"full\",\"dark\"],\"lastUpdated\":\"2018-06-05T12:08Z\"},{\"href\":\"https://a.espncdn.com/i/teamlogos/nba/500/scoreboard/cha.png\",\"width\":500,\"height\":500,\"alt\":\"\",\"rel\":[\"full\",\"scoreboard\"],\"lastUpdated\":\"2018-06-05T12:08Z\"},{\"href\":\"https://a.espncdn.com/i/teamlogos/nba/500-dark/scoreboard/cha.png\",\"width\":500,\"height\":500,\"alt\":\"\",\"rel\":[\"full\",\"scoreboard\",\"dark\"],\"lastUpdated\":\"2018-06-05T12:08Z\"}],\"links\":[{\"language\":\"en-US\",\"rel\":[\"clubhouse\",\"desktop\",\"team\"],\"href\":\"https://www.espn.com/nba/team/_/name/cha/charlotte-hornets\",\"text\":\"Clubhouse\",\"shortText\":\"Clubhouse\",\"isExternal\":false,\"isPremium\":false}]}},{\"date\":\"2023-04-07T07:00Z\",\"description\":\"Converted the contract of G David Duke Jr. to an NBA contract.\",\"team\":{\"id\":\"17\",\"location\":\"Brooklyn\",\"name\":\"Nets\",\"abbreviation\":\"BKN\",\"displayName\":\"Brooklyn Nets\",\"color\":\"000000\",\"alternateColor\":\"ffffff\",\"logos\":[{\"href\":\"https://a.espncdn.com/i/teamlogos/nba/500/bkn.png\",\"width\":500,\"height\":500,\"alt\":\"\",\"rel\":[\"full\",\"default\"],\"lastUpdated\":\"2018-06-05T12:08Z\"},{\"href\":\"https://a.espncdn.com/i/teamlogos/nba/500-dark/bkn.png\",\"width\":500,\"height\":500,\"alt\":\"\",\"rel\":[\"full\",\"dark\"],\"lastUpdated\":\"2018-06-05T12:08Z\"},{\"href\":\"https://a.espncdn.com/i/teamlogos/nba/500/scoreboard/bkn.png\",\"width\":500,\"height\":500,\"alt\":\"\",\"rel\":[\"full\",\"scoreboard\"],\"lastUpdated\":\"2018-06-05T12:08Z\"},{\"href\":\"https://a.espncdn.com/i/teamlogos/nba/500-dark/scoreboard/bkn.png\",\"width\":500,\"height\":500,\"alt\":\"\",\"rel\":[\"full\",\"scoreboard\",\"dark\"],\"lastUpdated\":\"2018-06-05T12:08Z\"}],\"links\":[{\"language\":\"en-US\",\"rel\":[\"clubhouse\",\"desktop\",\"team\"],\"href\":\"https://www.espn.com/nba/team/_/name/bkn/brooklyn-nets\",\"text\":\"Clubhouse\",\"shortText\":\"Clubhouse\",\"isExternal\":false,\"isPremium\":false}]}},{\"date\":\"2023-04-07T07:00Z\",\"description\":\"Signed G Justin Champagnie to a rest-of-season contract.\",\"team\":{\"id\":\"2\",\"location\":\"Boston\",\"name\":\"Celtics\",\"abbreviation\":\"BOS\",\"displayName\":\"Boston Celtics\",\"color\":\"008348\",\"alternateColor\":\"bb9753\",\"logos\":[{\"href\":\"https://a.espncdn.com/i/teamlogos/nba/500/bos.png\",\"width\":500,\"height\":500,\"alt\":\"\",\"rel\":[\"full\",\"default\"],\"lastUpdated\":\"2019-03-28T21:04Z\"},{\"href\":\"https://a.espncdn.com/i/teamlogos/nba/500-dark/bos.png\",\"width\":500,\"height\":500,\"alt\":\"\",\"rel\":[\"full\",\"dark\"],\"lastUpdated\":\"2018-06-05T12:08Z\"},{\"href\":\"https://a.espncdn.com/i/teamlogos/nba/500/scoreboard/bos.png\",\"width\":500,\"height\":500,\"alt\":\"\",\"rel\":[\"full\",\"scoreboard\"],\"lastUpdated\":\"2018-06-05T12:08Z\"},{\"href\":\"https://a.espncdn.com/i/teamlogos/nba/500-dark/scoreboard/bos.png\",\"width\":500,\"height\":500,\"alt\":\"\",\"rel\":[\"full\",\"scoreboard\",\"dark\"],\"lastUpdated\":\"2018-06-05T12:08Z\"}],\"links\":[{\"language\":\"en-US\",\"rel\":[\"clubhouse\",\"desktop\",\"team\"],\"href\":\"https://www.espn.com/nba/team/_/name/bos/boston-celtics\",\"text\":\"Clubhouse\",\"shortText\":\"Clubhouse\",\"isExternal\":false,\"isPremium\":false}]}},{\"date\":\"2023-04-06T07:00Z\",\"description\":\"Waived G Dereon Seabron.\",\"team\":{\"id\":\"3\",\"location\":\"New Orleans\",\"name\":\"Pelicans\",\"abbreviation\":\"NO\",\"displayName\":\"New Orleans Pelicans\",\"color\":\"0a2240\",\"alternateColor\":\"b4975a\",\"logos\":[{\"href\":\"https://a.espncdn.com/i/teamlogos/nba/500/no.png\",\"width\":500,\"height\":500,\"alt\":\"\",\"rel\":[\"full\",\"default\"],\"lastUpdated\":\"2018-06-05T12:08Z\"},{\"href\":\"https://a.espncdn.com/i/teamlogos/nba/500-dark/no.png\",\"width\":500,\"height\":500,\"alt\":\"\",\"rel\":[\"full\",\"dark\"],\"lastUpdated\":\"2018-06-05T12:08Z\"},{\"href\":\"https://a.espncdn.com/i/teamlogos/nba/500/scoreboard/no.png\",\"width\":500,\"height\":500,\"alt\":\"\",\"rel\":[\"full\",\"scoreboard\"],\"lastUpdated\":\"2018-06-05T12:08Z\"},{\"href\":\"https://a.espncdn.com/i/teamlogos/nba/500-dark/scoreboard/no.png\",\"width\":500,\"height\":500,\"alt\":\"\",\"rel\":[\"full\",\"scoreboard\",\"dark\"],\"lastUpdated\":\"2018-06-05T12:08Z\"}],\"links\":[{\"language\":\"en-US\",\"rel\":[\"clubhouse\",\"desktop\",\"team\"],\"href\":\"https://www.espn.com/nba/team/_/name/no/new-orleans-pelicans\",\"text\":\"Clubhouse\",\"shortText\":\"Clubhouse\",\"isExternal\":false,\"isPremium\":false}]}},{\"date\":\"2023-03-28T07:00Z\",\"description\":\"Signed F Xavier Sneed to a 10-day contract.\",\"team\":{\"id\":\"30\",\"location\":\"Charlotte\",\"name\":\"Hornets\",\"abbreviation\":\"CHA\",\"displayName\":\"Charlotte Hornets\",\"color\":\"008ca8\",\"alternateColor\":\"1d1060\",\"logos\":[{\"href\":\"https://a.espncdn.com/i/teamlogos/nba/500/cha.png\",\"width\":500,\"height\":500,\"alt\":\"\",\"rel\":[\"full\",\"default\"],\"lastUpdated\":\"2018-06-05T12:08Z\"},{\"href\":\"https://a.espncdn.com/i/teamlogos/nba/500-dark/cha.png\",\"width\":500,\"height\":500,\"alt\":\"\",\"rel\":[\"full\",\"dark\"],\"lastUpdated\":\"2018-06-05T12:08Z\"},{\"href\":\"https://a.espncdn.com/i/teamlogos/nba/500/scoreboard/cha.png\",\"width\":500,\"height\":500,\"alt\":\"\",\"rel\":[\"full\",\"scoreboard\"],\"lastUpdated\":\"2018-06-05T12:08Z\"},{\"href\":\"https://a.espncdn.com/i/teamlogos/nba/500-dark/scoreboard/cha.png\",\"width\":500,\"height\":500,\"alt\":\"\",\"rel\":[\"full\",\"scoreboard\",\"dark\"],\"lastUpdated\":\"2018-06-05T12:08Z\"}],\"links\":[{\"language\":\"en-US\",\"rel\":[\"clubhouse\",\"desktop\",\"team\"],\"href\":\"https://www.espn.com/nba/team/_/name/cha/charlotte-hornets\",\"text\":\"Clubhouse\",\"shortText\":\"Clubhouse\",\"isExternal\":false,\"isPremium\":false}]}},{\"date\":\"2023-03-28T07:00Z\",\"description\":\"Signed F Luka Samanic to a 10-day contract.\",\"team\":{\"id\":\"26\",\"location\":\"Utah\",\"name\":\"Jazz\",\"abbreviation\":\"UTAH\",\"displayName\":\"Utah Jazz\",\"color\":\"fff21f\",\"alternateColor\":\"000000\",\"logos\":[{\"href\":\"https://a.espncdn.com/i/teamlogos/nba/500/utah.png\",\"width\":500,\"height\":500,\"alt\":\"\",\"rel\":[\"full\",\"default\"],\"lastUpdated\":\"2022-11-23T20:20Z\"},{\"href\":\"https://a.espncdn.com/i/teamlogos/nba/500-dark/utah.png\",\"width\":500,\"height\":500,\"alt\":\"\",\"rel\":[\"full\",\"dark\"],\"lastUpdated\":\"2023-03-01T12:03Z\"},{\"href\":\"https://a.espncdn.com/i/teamlogos/nba/500/scoreboard/utah.png\",\"width\":500,\"height\":500,\"alt\":\"\",\"rel\":[\"full\",\"scoreboard\"],\"lastUpdated\":\"2022-11-23T20:22Z\"},{\"href\":\"https://a.espncdn.com/i/teamlogos/nba/500-dark/scoreboard/utah.png\",\"width\":500,\"height\":500,\"alt\":\"\",\"rel\":[\"full\",\"scoreboard\",\"dark\"],\"lastUpdated\":\"2023-03-01T12:03Z\"}],\"links\":[{\"language\":\"en-US\",\"rel\":[\"clubhouse\",\"desktop\",\"team\"],\"href\":\"https://www.espn.com/nba/team/_/name/utah/utah-jazz\",\"text\":\"Clubhouse\",\"shortText\":\"Clubhouse\",\"isExternal\":false,\"isPremium\":false}]}},{\"date\":\"2023-03-28T07:00Z\",\"description\":\"Signed C Moses Brown to a 10-day contract.\",\"team\":{\"id\":\"17\",\"location\":\"Brooklyn\",\"name\":\"Nets\",\"abbreviation\":\"BKN\",\"displayName\":\"Brooklyn Nets\",\"color\":\"000000\",\"alternateColor\":\"ffffff\",\"logos\":[{\"href\":\"https://a.espncdn.com/i/teamlogos/nba/500/bkn.png\",\"width\":500,\"height\":500,\"alt\":\"\",\"rel\":[\"full\",\"default\"],\"lastUpdated\":\"2018-06-05T12:08Z\"},{\"href\":\"https://a.espncdn.com/i/teamlogos/nba/500-dark/bkn.png\",\"width\":500,\"height\":500,\"alt\":\"\",\"rel\":[\"full\",\"dark\"],\"lastUpdated\":\"2018-06-05T12:08Z\"},{\"href\":\"https://a.espncdn.com/i/teamlogos/nba/500/scoreboard/bkn.png\",\"width\":500,\"height\":500,\"alt\":\"\",\"rel\":[\"full\",\"scoreboard\"],\"lastUpdated\":\"2018-06-05T12:08Z\"},{\"href\":\"https://a.espncdn.com/i/teamlogos/nba/500-dark/scoreboard/bkn.png\",\"width\":500,\"height\":500,\"alt\":\"\",\"rel\":[\"full\",\"scoreboard\",\"dark\"],\"lastUpdated\":\"2018-06-05T12:08Z\"}],\"links\":[{\"language\":\"en-US\",\"rel\":[\"clubhouse\",\"desktop\",\"team\"],\"href\":\"https://www.espn.com/nba/team/_/name/bkn/brooklyn-nets\",\"text\":\"Clubhouse\",\"shortText\":\"Clubhouse\",\"isExternal\":false,\"isPremium\":false}]}},{\"date\":\"2023-03-26T07:00Z\",\"description\":\"Signed G DaQuan Jeffries to a rest-of-season contract.\",\"team\":{\"id\":\"18\",\"location\":\"New York\",\"name\":\"Knicks\",\"abbreviation\":\"NY\",\"displayName\":\"New York Knicks\",\"color\":\"1d428a\",\"alternateColor\":\"f58426\",\"logos\":[{\"href\":\"https://a.espncdn.com/i/teamlogos/nba/500/ny.png\",\"width\":500,\"height\":500,\"alt\":\"\",\"rel\":[\"full\",\"default\"],\"lastUpdated\":\"2018-06-05T12:08Z\"},{\"href\":\"https://a.espncdn.com/i/teamlogos/nba/500-dark/ny.png\",\"width\":500,\"height\":500,\"alt\":\"\",\"rel\":[\"full\",\"dark\"],\"lastUpdated\":\"2018-06-05T12:08Z\"},{\"href\":\"https://a.espncdn.com/i/teamlogos/nba/500/scoreboard/ny.png\",\"width\":500,\"height\":500,\"alt\":\"\",\"rel\":[\"full\",\"scoreboard\"],\"lastUpdated\":\"2018-06-05T12:08Z\"},{\"href\":\"https://a.espncdn.com/i/teamlogos/nba/500-dark/scoreboard/ny.png\",\"width\":500,\"height\":500,\"alt\":\"\",\"rel\":[\"full\",\"scoreboard\",\"dark\"],\"lastUpdated\":\"2018-06-05T12:08Z\"}],\"links\":[{\"language\":\"en-US\",\"rel\":[\"clubhouse\",\"desktop\",\"team\"],\"href\":\"https://www.espn.com/nba/team/_/name/ny/new-york-knicks\",\"text\":\"Clubhouse\",\"shortText\":\"Clubhouse\",\"isExternal\":false,\"isPremium\":false}]}},{\"date\":\"2023-03-24T07:00Z\",\"description\":\"Signed G Jay Scrubb to a two-way contract.\",\"team\":{\"id\":\"19\",\"location\":\"Orlando\",\"name\":\"Magic\",\"abbreviation\":\"ORL\",\"displayName\":\"Orlando Magic\",\"color\":\"0077c0\",\"alternateColor\":\"c4ced4\",\"logos\":[{\"href\":\"https://a.espncdn.com/i/teamlogos/nba/500/orl.png\",\"width\":500,\"height\":500,\"alt\":\"\",\"rel\":[\"full\",\"default\"],\"lastUpdated\":\"2018-06-05T12:08Z\"},{\"href\":\"https://a.espncdn.com/i/teamlogos/nba/500-dark/orl.png\",\"width\":500,\"height\":500,\"alt\":\"\",\"rel\":[\"full\",\"dark\"],\"lastUpdated\":\"2018-06-05T12:08Z\"},{\"href\":\"https://a.espncdn.com/i/teamlogos/nba/500/scoreboard/orl.png\",\"width\":500,\"height\":500,\"alt\":\"\",\"rel\":[\"full\",\"scoreboard\"],\"lastUpdated\":\"2018-06-05T12:08Z\"},{\"href\":\"https://a.espncdn.com/i/teamlogos/nba/500-dark/scoreboard/orl.png\",\"width\":500,\"height\":500,\"alt\":\"\",\"rel\":[\"full\",\"scoreboard\",\"dark\"],\"lastUpdated\":\"2018-06-05T12:08Z\"}],\"links\":[{\"language\":\"en-US\",\"rel\":[\"clubhouse\",\"desktop\",\"team\"],\"href\":\"https://www.espn.com/nba/team/_/name/orl/orlando-magic\",\"text\":\"Clubhouse\",\"shortText\":\"Clubhouse\",\"isExternal\":false,\"isPremium\":false}]}},{\"date\":\"2023-03-23T07:00Z\",\"description\":\"Signed G D.J. Augustin to a remainder-of-season contract.\",\"team\":{\"id\":\"10\",\"location\":\"Houston\",\"name\":\"Rockets\",\"abbreviation\":\"HOU\",\"displayName\":\"Houston Rockets\",\"color\":\"ce1141\",\"alternateColor\":\"000000\",\"logos\":[{\"href\":\"https://a.espncdn.com/i/teamlogos/nba/500/hou.png\",\"width\":500,\"height\":500,\"alt\":\"\",\"rel\":[\"full\",\"default\"],\"lastUpdated\":\"2018-06-05T12:08Z\"},{\"href\":\"https://a.espncdn.com/i/teamlogos/nba/500-dark/hou.png\",\"width\":500,\"height\":500,\"alt\":\"\",\"rel\":[\"full\",\"dark\"],\"lastUpdated\":\"2018-06-05T12:08Z\"},{\"href\":\"https://a.espncdn.com/i/teamlogos/nba/500/scoreboard/hou.png\",\"width\":500,\"height\":500,\"alt\":\"\",\"rel\":[\"full\",\"scoreboard\"],\"lastUpdated\":\"2018-06-05T12:08Z\"},{\"href\":\"https://a.espncdn.com/i/teamlogos/nba/500-dark/scoreboard/hou.png\",\"width\":500,\"height\":500,\"alt\":\"\",\"rel\":[\"full\",\"scoreboard\",\"dark\"],\"lastUpdated\":\"2018-06-05T12:08Z\"}],\"links\":[{\"language\":\"en-US\",\"rel\":[\"clubhouse\",\"desktop\",\"team\"],\"href\":\"https://www.espn.com/nba/team/_/name/hou/houston-rockets\",\"text\":\"Clubhouse\",\"shortText\":\"Clubhouse\",\"isExternal\":false,\"isPremium\":false}]}},{\"date\":\"2023-03-23T07:00Z\",\"description\":\"Signed F Eugene Omoruyi to a remainder-of-season contract.\",\"team\":{\"id\":\"8\",\"location\":\"Detroit\",\"name\":\"Pistons\",\"abbreviation\":\"DET\",\"displayName\":\"Detroit Pistons\",\"color\":\"1d428a\",\"alternateColor\":\"c8102e\",\"logos\":[{\"href\":\"https://a.espncdn.com/i/teamlogos/nba/500/det.png\",\"width\":500,\"height\":500,\"alt\":\"\",\"rel\":[\"full\",\"default\"],\"lastUpdated\":\"2018-06-05T12:08Z\"},{\"href\":\"https://a.espncdn.com/i/teamlogos/nba/500-dark/det.png\",\"width\":500,\"height\":500,\"alt\":\"\",\"rel\":[\"full\",\"dark\"],\"lastUpdated\":\"2018-06-05T12:08Z\"},{\"href\":\"https://a.espncdn.com/i/teamlogos/nba/500/scoreboard/det.png\",\"width\":500,\"height\":500,\"alt\":\"\",\"rel\":[\"full\",\"scoreboard\"],\"lastUpdated\":\"2018-06-05T12:08Z\"},{\"href\":\"https://a.espncdn.com/i/teamlogos/nba/500-dark/scoreboard/det.png\",\"width\":500,\"height\":500,\"alt\":\"\",\"rel\":[\"full\",\"scoreboard\",\"dark\"],\"lastUpdated\":\"2018-06-05T12:08Z\"}],\"links\":[{\"language\":\"en-US\",\"rel\":[\"clubhouse\",\"desktop\",\"team\"],\"href\":\"https://www.espn.com/nba/team/_/name/det/detroit-pistons\",\"text\":\"Clubhouse\",\"shortText\":\"Clubhouse\",\"isExternal\":false,\"isPremium\":false}]}},{\"date\":\"2023-03-18T07:00Z\",\"description\":\"Signed F Jarrell Brantley to a 10-day contract.\",\"team\":{\"id\":\"26\",\"location\":\"Utah\",\"name\":\"Jazz\",\"abbreviation\":\"UTAH\",\"displayName\":\"Utah Jazz\",\"color\":\"fff21f\",\"alternateColor\":\"000000\",\"logos\":[{\"href\":\"https://a.espncdn.com/i/teamlogos/nba/500/utah.png\",\"width\":500,\"height\":500,\"alt\":\"\",\"rel\":[\"full\",\"default\"],\"lastUpdated\":\"2022-11-23T20:20Z\"},{\"href\":\"https://a.espncdn.com/i/teamlogos/nba/500-dark/utah.png\",\"width\":500,\"height\":500,\"alt\":\"\",\"rel\":[\"full\",\"dark\"],\"lastUpdated\":\"2023-03-01T12:03Z\"},{\"href\":\"https://a.espncdn.com/i/teamlogos/nba/500/scoreboard/utah.png\",\"width\":500,\"height\":500,\"alt\":\"\",\"rel\":[\"full\",\"scoreboard\"],\"lastUpdated\":\"2022-11-23T20:22Z\"},{\"href\":\"https://a.espncdn.com/i/teamlogos/nba/500-dark/scoreboard/utah.png\",\"width\":500,\"height\":500,\"alt\":\"\",\"rel\":[\"full\",\"scoreboard\",\"dark\"],\"lastUpdated\":\"2023-03-01T12:03Z\"}],\"links\":[{\"language\":\"en-US\",\"rel\":[\"clubhouse\",\"desktop\",\"team\"],\"href\":\"https://www.espn.com/nba/team/_/name/utah/utah-jazz\",\"text\":\"Clubhouse\",\"shortText\":\"Clubhouse\",\"isExternal\":false,\"isPremium\":false}]}},{\"date\":\"2023-03-17T07:00Z\",\"description\":\"Signed F Xavier Cooks to a rest-of-season contract.\",\"team\":{\"id\":\"27\",\"location\":\"Washington\",\"name\":\"Wizards\",\"abbreviation\":\"WSH\",\"displayName\":\"Washington Wizards\",\"color\":\"e31837\",\"alternateColor\":\"002b5c\",\"logos\":[{\"href\":\"https://a.espncdn.com/i/teamlogos/nba/500/wsh.png\",\"width\":500,\"height\":500,\"alt\":\"\",\"rel\":[\"full\",\"default\"],\"lastUpdated\":\"2018-06-05T12:08Z\"},{\"href\":\"https://a.espncdn.com/i/teamlogos/nba/500-dark/wsh.png\",\"width\":500,\"height\":500,\"alt\":\"\",\"rel\":[\"full\",\"dark\"],\"lastUpdated\":\"2018-06-05T12:08Z\"},{\"href\":\"https://a.espncdn.com/i/teamlogos/nba/500/scoreboard/wsh.png\",\"width\":500,\"height\":500,\"alt\":\"\",\"rel\":[\"full\",\"scoreboard\"],\"lastUpdated\":\"2018-06-05T12:08Z\"},{\"href\":\"https://a.espncdn.com/i/teamlogos/nba/500-dark/scoreboard/wsh.png\",\"width\":500,\"height\":500,\"alt\":\"\",\"rel\":[\"full\",\"scoreboard\",\"dark\"],\"lastUpdated\":\"2018-06-05T12:08Z\"}],\"links\":[{\"language\":\"en-US\",\"rel\":[\"clubhouse\",\"desktop\",\"team\"],\"href\":\"https://www.espn.com/nba/team/_/name/wsh/washington-wizards\",\"text\":\"Clubhouse\",\"shortText\":\"Clubhouse\",\"isExternal\":false,\"isPremium\":false}]}},{\"date\":\"2023-03-17T07:00Z\",\"description\":\"Signed C Moses Brown to a 10-day contract.\",\"team\":{\"id\":\"17\",\"location\":\"Brooklyn\",\"name\":\"Nets\",\"abbreviation\":\"BKN\",\"displayName\":\"Brooklyn Nets\",\"color\":\"000000\",\"alternateColor\":\"ffffff\",\"logos\":[{\"href\":\"https://a.espncdn.com/i/teamlogos/nba/500/bkn.png\",\"width\":500,\"height\":500,\"alt\":\"\",\"rel\":[\"full\",\"default\"],\"lastUpdated\":\"2018-06-05T12:08Z\"},{\"href\":\"https://a.espncdn.com/i/teamlogos/nba/500-dark/bkn.png\",\"width\":500,\"height\":500,\"alt\":\"\",\"rel\":[\"full\",\"dark\"],\"lastUpdated\":\"2018-06-05T12:08Z\"},{\"href\":\"https://a.espncdn.com/i/teamlogos/nba/500/scoreboard/bkn.png\",\"width\":500,\"height\":500,\"alt\":\"\",\"rel\":[\"full\",\"scoreboard\"],\"lastUpdated\":\"2018-06-05T12:08Z\"},{\"href\":\"https://a.espncdn.com/i/teamlogos/nba/500-dark/scoreboard/bkn.png\",\"width\":500,\"height\":500,\"alt\":\"\",\"rel\":[\"full\",\"scoreboard\",\"dark\"],\"lastUpdated\":\"2018-06-05T12:08Z\"}],\"links\":[{\"language\":\"en-US\",\"rel\":[\"clubhouse\",\"desktop\",\"team\"],\"href\":\"https://www.espn.com/nba/team/_/name/bkn/brooklyn-nets\",\"text\":\"Clubhouse\",\"shortText\":\"Clubhouse\",\"isExternal\":false,\"isPremium\":false}]}},{\"date\":\"2023-03-17T07:00Z\",\"description\":\"Converted the contract of F Anthony Lamb to an NBA Contract. Signed G Lester Quinones to a two-way contract.\",\"team\":{\"id\":\"9\",\"location\":\"Golden State\",\"name\":\"Warriors\",\"abbreviation\":\"GS\",\"displayName\":\"Golden State Warriors\",\"color\":\"1d428a\",\"alternateColor\":\"fdb927\",\"logos\":[{\"href\":\"https://a.espncdn.com/i/teamlogos/nba/500/gs.png\",\"width\":500,\"height\":500,\"alt\":\"\",\"rel\":[\"full\",\"default\"],\"lastUpdated\":\"2019-09-23T15:45Z\"},{\"href\":\"https://a.espncdn.com/i/teamlogos/nba/500-dark/gs.png\",\"width\":500,\"height\":500,\"alt\":\"\",\"rel\":[\"full\",\"dark\"],\"lastUpdated\":\"2019-09-30T14:23Z\"},{\"href\":\"https://a.espncdn.com/i/teamlogos/nba/500/scoreboard/gs.png\",\"width\":500,\"height\":500,\"alt\":\"\",\"rel\":[\"full\",\"scoreboard\"],\"lastUpdated\":\"2019-09-30T14:23Z\"},{\"href\":\"https://a.espncdn.com/i/teamlogos/nba/500-dark/scoreboard/gs.png\",\"width\":500,\"height\":500,\"alt\":\"\",\"rel\":[\"full\",\"scoreboard\",\"dark\"],\"lastUpdated\":\"2019-09-30T20:00Z\"}],\"links\":[{\"language\":\"en-US\",\"rel\":[\"clubhouse\",\"desktop\",\"team\"],\"href\":\"https://www.espn.com/nba/team/_/name/gs/golden-state-warriors\",\"text\":\"Clubhouse\",\"shortText\":\"Clubhouse\",\"isExternal\":false,\"isPremium\":false}]}},{\"date\":\"2023-03-16T07:00Z\",\"description\":\"Signed G DaQuan Jeffries to a 10-day contract.\",\"team\":{\"id\":\"18\",\"location\":\"New York\",\"name\":\"Knicks\",\"abbreviation\":\"NY\",\"displayName\":\"New York Knicks\",\"color\":\"1d428a\",\"alternateColor\":\"f58426\",\"logos\":[{\"href\":\"https://a.espncdn.com/i/teamlogos/nba/500/ny.png\",\"width\":500,\"height\":500,\"alt\":\"\",\"rel\":[\"full\",\"default\"],\"lastUpdated\":\"2018-06-05T12:08Z\"},{\"href\":\"https://a.espncdn.com/i/teamlogos/nba/500-dark/ny.png\",\"width\":500,\"height\":500,\"alt\":\"\",\"rel\":[\"full\",\"dark\"],\"lastUpdated\":\"2018-06-05T12:08Z\"},{\"href\":\"https://a.espncdn.com/i/teamlogos/nba/500/scoreboard/ny.png\",\"width\":500,\"height\":500,\"alt\":\"\",\"rel\":[\"full\",\"scoreboard\"],\"lastUpdated\":\"2018-06-05T12:08Z\"},{\"href\":\"https://a.espncdn.com/i/teamlogos/nba/500-dark/scoreboard/ny.png\",\"width\":500,\"height\":500,\"alt\":\"\",\"rel\":[\"full\",\"scoreboard\",\"dark\"],\"lastUpdated\":\"2018-06-05T12:08Z\"}],\"links\":[{\"language\":\"en-US\",\"rel\":[\"clubhouse\",\"desktop\",\"team\"],\"href\":\"https://www.espn.com/nba/team/_/name/ny/new-york-knicks\",\"text\":\"Clubhouse\",\"shortText\":\"Clubhouse\",\"isExternal\":false,\"isPremium\":false}]}},{\"date\":\"2023-03-15T07:00Z\",\"description\":\"Named Gerald Madkins as assistant general manager and vice president of personnel evaluation.\",\"team\":{\"id\":\"21\",\"location\":\"Phoenix\",\"name\":\"Suns\",\"abbreviation\":\"PHX\",\"displayName\":\"Phoenix Suns\",\"color\":\"29127a\",\"alternateColor\":\"e56020\",\"logos\":[{\"href\":\"https://a.espncdn.com/i/teamlogos/nba/500/phx.png\",\"width\":500,\"height\":500,\"alt\":\"\",\"rel\":[\"full\",\"default\"],\"lastUpdated\":\"2018-06-05T12:08Z\"},{\"href\":\"https://a.espncdn.com/i/teamlogos/nba/500-dark/phx.png\",\"width\":500,\"height\":500,\"alt\":\"\",\"rel\":[\"full\",\"dark\"],\"lastUpdated\":\"2018-06-05T12:08Z\"},{\"href\":\"https://a.espncdn.com/i/teamlogos/nba/500/scoreboard/phx.png\",\"width\":500,\"height\":500,\"alt\":\"\",\"rel\":[\"full\",\"scoreboard\"],\"lastUpdated\":\"2018-06-05T12:08Z\"},{\"href\":\"https://a.espncdn.com/i/teamlogos/nba/500-dark/scoreboard/phx.png\",\"width\":500,\"height\":500,\"alt\":\"\",\"rel\":[\"full\",\"scoreboard\",\"dark\"],\"lastUpdated\":\"2018-06-05T12:08Z\"}],\"links\":[{\"language\":\"en-US\",\"rel\":[\"clubhouse\",\"desktop\",\"team\"],\"href\":\"https://www.espn.com/nba/team/_/name/phx/phoenix-suns\",\"text\":\"Clubhouse\",\"shortText\":\"Clubhouse\",\"isExternal\":false,\"isPremium\":false}]}},{\"date\":\"2023-03-14T07:00Z\",\"description\":\"Signed G Kris Dunn to a rest-of-season contract.\",\"team\":{\"id\":\"26\",\"location\":\"Utah\",\"name\":\"Jazz\",\"abbreviation\":\"UTAH\",\"displayName\":\"Utah Jazz\",\"color\":\"fff21f\",\"alternateColor\":\"000000\",\"logos\":[{\"href\":\"https://a.espncdn.com/i/teamlogos/nba/500/utah.png\",\"width\":500,\"height\":500,\"alt\":\"\",\"rel\":[\"full\",\"default\"],\"lastUpdated\":\"2022-11-23T20:20Z\"},{\"href\":\"https://a.espncdn.com/i/teamlogos/nba/500-dark/utah.png\",\"width\":500,\"height\":500,\"alt\":\"\",\"rel\":[\"full\",\"dark\"],\"lastUpdated\":\"2023-03-01T12:03Z\"},{\"href\":\"https://a.espncdn.com/i/teamlogos/nba/500/scoreboard/utah.png\",\"width\":500,\"height\":500,\"alt\":\"\",\"rel\":[\"full\",\"scoreboard\"],\"lastUpdated\":\"2022-11-23T20:22Z\"},{\"href\":\"https://a.espncdn.com/i/teamlogos/nba/500-dark/scoreboard/utah.png\",\"width\":500,\"height\":500,\"alt\":\"\",\"rel\":[\"full\",\"scoreboard\",\"dark\"],\"lastUpdated\":\"2023-03-01T12:03Z\"}],\"links\":[{\"language\":\"en-US\",\"rel\":[\"clubhouse\",\"desktop\",\"team\"],\"href\":\"https://www.espn.com/nba/team/_/name/utah/utah-jazz\",\"text\":\"Clubhouse\",\"shortText\":\"Clubhouse\",\"isExternal\":false,\"isPremium\":false}]}},{\"date\":\"2023-03-14T07:00Z\",\"description\":\"Signed G Sam Merrill to a rest-of-season contract.\",\"team\":{\"id\":\"5\",\"location\":\"Cleveland\",\"name\":\"Cavaliers\",\"abbreviation\":\"CLE\",\"displayName\":\"Cleveland Cavaliers\",\"color\":\"860038\",\"alternateColor\":\"bc945c\",\"logos\":[{\"href\":\"https://a.espncdn.com/i/teamlogos/nba/500/cle.png\",\"width\":500,\"height\":500,\"alt\":\"\",\"rel\":[\"full\",\"default\"],\"lastUpdated\":\"2022-06-23T13:58Z\"},{\"href\":\"https://a.espncdn.com/i/teamlogos/nba/500-dark/cle.png\",\"width\":500,\"height\":500,\"alt\":\"\",\"rel\":[\"full\",\"dark\"],\"lastUpdated\":\"2022-06-23T14:03Z\"},{\"href\":\"https://a.espncdn.com/i/teamlogos/nba/500/scoreboard/cle.png\",\"width\":500,\"height\":500,\"alt\":\"\",\"rel\":[\"full\",\"scoreboard\"],\"lastUpdated\":\"2022-06-23T14:03Z\"},{\"href\":\"https://a.espncdn.com/i/teamlogos/nba/500-dark/scoreboard/cle.png\",\"width\":500,\"height\":500,\"alt\":\"\",\"rel\":[\"full\",\"scoreboard\",\"dark\"],\"lastUpdated\":\"2018-06-05T12:08Z\"}],\"links\":[{\"language\":\"en-US\",\"rel\":[\"clubhouse\",\"desktop\",\"team\"],\"href\":\"https://www.espn.com/nba/team/_/name/cle/cleveland-cavaliers\",\"text\":\"Clubhouse\",\"shortText\":\"Clubhouse\",\"isExternal\":false,\"isPremium\":false}]}},{\"date\":\"2023-03-13T07:00Z\",\"description\":\"Signed F Eugene Omoruyi to a second 10-day contract.\",\"team\":{\"id\":\"8\",\"location\":\"Detroit\",\"name\":\"Pistons\",\"abbreviation\":\"DET\",\"displayName\":\"Detroit Pistons\",\"color\":\"1d428a\",\"alternateColor\":\"c8102e\",\"logos\":[{\"href\":\"https://a.espncdn.com/i/teamlogos/nba/500/det.png\",\"width\":500,\"height\":500,\"alt\":\"\",\"rel\":[\"full\",\"default\"],\"lastUpdated\":\"2018-06-05T12:08Z\"},{\"href\":\"https://a.espncdn.com/i/teamlogos/nba/500-dark/det.png\",\"width\":500,\"height\":500,\"alt\":\"\",\"rel\":[\"full\",\"dark\"],\"lastUpdated\":\"2018-06-05T12:08Z\"},{\"href\":\"https://a.espncdn.com/i/teamlogos/nba/500/scoreboard/det.png\",\"width\":500,\"height\":500,\"alt\":\"\",\"rel\":[\"full\",\"scoreboard\"],\"lastUpdated\":\"2018-06-05T12:08Z\"},{\"href\":\"https://a.espncdn.com/i/teamlogos/nba/500-dark/scoreboard/det.png\",\"width\":500,\"height\":500,\"alt\":\"\",\"rel\":[\"full\",\"scoreboard\",\"dark\"],\"lastUpdated\":\"2018-06-05T12:08Z\"}],\"links\":[{\"language\":\"en-US\",\"rel\":[\"clubhouse\",\"desktop\",\"team\"],\"href\":\"https://www.espn.com/nba/team/_/name/det/detroit-pistons\",\"text\":\"Clubhouse\",\"shortText\":\"Clubhouse\",\"isExternal\":false,\"isPremium\":false}]}},{\"date\":\"2023-03-13T07:00Z\",\"description\":\"Fined G Marcus Smart $25,000.\",\"team\":{\"id\":\"2\",\"location\":\"Boston\",\"name\":\"Celtics\",\"abbreviation\":\"BOS\",\"displayName\":\"Boston Celtics\",\"color\":\"008348\",\"alternateColor\":\"bb9753\",\"logos\":[{\"href\":\"https://a.espncdn.com/i/teamlogos/nba/500/bos.png\",\"width\":500,\"height\":500,\"alt\":\"\",\"rel\":[\"full\",\"default\"],\"lastUpdated\":\"2019-03-28T21:04Z\"},{\"href\":\"https://a.espncdn.com/i/teamlogos/nba/500-dark/bos.png\",\"width\":500,\"height\":500,\"alt\":\"\",\"rel\":[\"full\",\"dark\"],\"lastUpdated\":\"2018-06-05T12:08Z\"},{\"href\":\"https://a.espncdn.com/i/teamlogos/nba/500/scoreboard/bos.png\",\"width\":500,\"height\":500,\"alt\":\"\",\"rel\":[\"full\",\"scoreboard\"],\"lastUpdated\":\"2018-06-05T12:08Z\"},{\"href\":\"https://a.espncdn.com/i/teamlogos/nba/500-dark/scoreboard/bos.png\",\"width\":500,\"height\":500,\"alt\":\"\",\"rel\":[\"full\",\"scoreboard\",\"dark\"],\"lastUpdated\":\"2018-06-05T12:08Z\"}],\"links\":[{\"language\":\"en-US\",\"rel\":[\"clubhouse\",\"desktop\",\"team\"],\"href\":\"https://www.espn.com/nba/team/_/name/bos/boston-celtics\",\"text\":\"Clubhouse\",\"shortText\":\"Clubhouse\",\"isExternal\":false,\"isPremium\":false}]}},{\"date\":\"2023-03-08T08:00Z\",\"description\":\"Signed C Moses Brown to a two-way contract.\",\"team\":{\"id\":\"18\",\"location\":\"New York\",\"name\":\"Knicks\",\"abbreviation\":\"NY\",\"displayName\":\"New York Knicks\",\"color\":\"1d428a\",\"alternateColor\":\"f58426\",\"logos\":[{\"href\":\"https://a.espncdn.com/i/teamlogos/nba/500/ny.png\",\"width\":500,\"height\":500,\"alt\":\"\",\"rel\":[\"full\",\"default\"],\"lastUpdated\":\"2018-06-05T12:08Z\"},{\"href\":\"https://a.espncdn.com/i/teamlogos/nba/500-dark/ny.png\",\"width\":500,\"height\":500,\"alt\":\"\",\"rel\":[\"full\",\"dark\"],\"lastUpdated\":\"2018-06-05T12:08Z\"},{\"href\":\"https://a.espncdn.com/i/teamlogos/nba/500/scoreboard/ny.png\",\"width\":500,\"height\":500,\"alt\":\"\",\"rel\":[\"full\",\"scoreboard\"],\"lastUpdated\":\"2018-06-05T12:08Z\"},{\"href\":\"https://a.espncdn.com/i/teamlogos/nba/500-dark/scoreboard/ny.png\",\"width\":500,\"height\":500,\"alt\":\"\",\"rel\":[\"full\",\"scoreboard\",\"dark\"],\"lastUpdated\":\"2018-06-05T12:08Z\"}],\"links\":[{\"language\":\"en-US\",\"rel\":[\"clubhouse\",\"desktop\",\"team\"],\"href\":\"https://www.espn.com/nba/team/_/name/ny/new-york-knicks\",\"text\":\"Clubhouse\",\"shortText\":\"Clubhouse\",\"isExternal\":false,\"isPremium\":false}]}},{\"date\":\"2023-03-06T08:00Z\",\"description\":\"Signed C Nerlens Noel to a 10-day contract.\",\"team\":{\"id\":\"17\",\"location\":\"Brooklyn\",\"name\":\"Nets\",\"abbreviation\":\"BKN\",\"displayName\":\"Brooklyn Nets\",\"color\":\"000000\",\"alternateColor\":\"ffffff\",\"logos\":[{\"href\":\"https://a.espncdn.com/i/teamlogos/nba/500/bkn.png\",\"width\":500,\"height\":500,\"alt\":\"\",\"rel\":[\"full\",\"default\"],\"lastUpdated\":\"2018-06-05T12:08Z\"},{\"href\":\"https://a.espncdn.com/i/teamlogos/nba/500-dark/bkn.png\",\"width\":500,\"height\":500,\"alt\":\"\",\"rel\":[\"full\",\"dark\"],\"lastUpdated\":\"2018-06-05T12:08Z\"},{\"href\":\"https://a.espncdn.com/i/teamlogos/nba/500/scoreboard/bkn.png\",\"width\":500,\"height\":500,\"alt\":\"\",\"rel\":[\"full\",\"scoreboard\"],\"lastUpdated\":\"2018-06-05T12:08Z\"},{\"href\":\"https://a.espncdn.com/i/teamlogos/nba/500-dark/scoreboard/bkn.png\",\"width\":500,\"height\":500,\"alt\":\"\",\"rel\":[\"full\",\"scoreboard\",\"dark\"],\"lastUpdated\":\"2018-06-05T12:08Z\"}],\"links\":[{\"language\":\"en-US\",\"rel\":[\"clubhouse\",\"desktop\",\"team\"],\"href\":\"https://www.espn.com/nba/team/_/name/bkn/brooklyn-nets\",\"text\":\"Clubhouse\",\"shortText\":\"Clubhouse\",\"isExternal\":false,\"isPremium\":false}]}},{\"date\":\"2023-03-05T08:00Z\",\"description\":\"Re-signed G DaQuan Jeffries to a 10-day contract.\",\"team\":{\"id\":\"18\",\"location\":\"New York\",\"name\":\"Knicks\",\"abbreviation\":\"NY\",\"displayName\":\"New York Knicks\",\"color\":\"1d428a\",\"alternateColor\":\"f58426\",\"logos\":[{\"href\":\"https://a.espncdn.com/i/teamlogos/nba/500/ny.png\",\"width\":500,\"height\":500,\"alt\":\"\",\"rel\":[\"full\",\"default\"],\"lastUpdated\":\"2018-06-05T12:08Z\"},{\"href\":\"https://a.espncdn.com/i/teamlogos/nba/500-dark/ny.png\",\"width\":500,\"height\":500,\"alt\":\"\",\"rel\":[\"full\",\"dark\"],\"lastUpdated\":\"2018-06-05T12:08Z\"},{\"href\":\"https://a.espncdn.com/i/teamlogos/nba/500/scoreboard/ny.png\",\"width\":500,\"height\":500,\"alt\":\"\",\"rel\":[\"full\",\"scoreboard\"],\"lastUpdated\":\"2018-06-05T12:08Z\"},{\"href\":\"https://a.espncdn.com/i/teamlogos/nba/500-dark/scoreboard/ny.png\",\"width\":500,\"height\":500,\"alt\":\"\",\"rel\":[\"full\",\"scoreboard\",\"dark\"],\"lastUpdated\":\"2018-06-05T12:08Z\"}],\"links\":[{\"language\":\"en-US\",\"rel\":[\"clubhouse\",\"desktop\",\"team\"],\"href\":\"https://www.espn.com/nba/team/_/name/ny/new-york-knicks\",\"text\":\"Clubhouse\",\"shortText\":\"Clubhouse\",\"isExternal\":false,\"isPremium\":false}]}},{\"date\":\"2023-03-03T08:00Z\",\"description\":\"Signed G Jamaree Bouyea to a 10-day contract.\",\"team\":{\"id\":\"27\",\"location\":\"Washington\",\"name\":\"Wizards\",\"abbreviation\":\"WSH\",\"displayName\":\"Washington Wizards\",\"color\":\"e31837\",\"alternateColor\":\"002b5c\",\"logos\":[{\"href\":\"https://a.espncdn.com/i/teamlogos/nba/500/wsh.png\",\"width\":500,\"height\":500,\"alt\":\"\",\"rel\":[\"full\",\"default\"],\"lastUpdated\":\"2018-06-05T12:08Z\"},{\"href\":\"https://a.espncdn.com/i/teamlogos/nba/500-dark/wsh.png\",\"width\":500,\"height\":500,\"alt\":\"\",\"rel\":[\"full\",\"dark\"],\"lastUpdated\":\"2018-06-05T12:08Z\"},{\"href\":\"https://a.espncdn.com/i/teamlogos/nba/500/scoreboard/wsh.png\",\"width\":500,\"height\":500,\"alt\":\"\",\"rel\":[\"full\",\"scoreboard\"],\"lastUpdated\":\"2018-06-05T12:08Z\"},{\"href\":\"https://a.espncdn.com/i/teamlogos/nba/500-dark/scoreboard/wsh.png\",\"width\":500,\"height\":500,\"alt\":\"\",\"rel\":[\"full\",\"scoreboard\",\"dark\"],\"lastUpdated\":\"2018-06-05T12:08Z\"}],\"links\":[{\"language\":\"en-US\",\"rel\":[\"clubhouse\",\"desktop\",\"team\"],\"href\":\"https://www.espn.com/nba/team/_/name/wsh/washington-wizards\",\"text\":\"Clubhouse\",\"shortText\":\"Clubhouse\",\"isExternal\":false,\"isPremium\":false}]}},{\"date\":\"2023-03-03T08:00Z\",\"description\":\"Signed F Eugene Omoruyi to a 10-day contract.\",\"team\":{\"id\":\"8\",\"location\":\"Detroit\",\"name\":\"Pistons\",\"abbreviation\":\"DET\",\"displayName\":\"Detroit Pistons\",\"color\":\"1d428a\",\"alternateColor\":\"c8102e\",\"logos\":[{\"href\":\"https://a.espncdn.com/i/teamlogos/nba/500/det.png\",\"width\":500,\"height\":500,\"alt\":\"\",\"rel\":[\"full\",\"default\"],\"lastUpdated\":\"2018-06-05T12:08Z\"},{\"href\":\"https://a.espncdn.com/i/teamlogos/nba/500-dark/det.png\",\"width\":500,\"height\":500,\"alt\":\"\",\"rel\":[\"full\",\"dark\"],\"lastUpdated\":\"2018-06-05T12:08Z\"},{\"href\":\"https://a.espncdn.com/i/teamlogos/nba/500/scoreboard/det.png\",\"width\":500,\"height\":500,\"alt\":\"\",\"rel\":[\"full\",\"scoreboard\"],\"lastUpdated\":\"2018-06-05T12:08Z\"},{\"href\":\"https://a.espncdn.com/i/teamlogos/nba/500-dark/scoreboard/det.png\",\"width\":500,\"height\":500,\"alt\":\"\",\"rel\":[\"full\",\"scoreboard\",\"dark\"],\"lastUpdated\":\"2018-06-05T12:08Z\"}],\"links\":[{\"language\":\"en-US\",\"rel\":[\"clubhouse\",\"desktop\",\"team\"],\"href\":\"https://www.espn.com/nba/team/_/name/det/detroit-pistons\",\"text\":\"Clubhouse\",\"shortText\":\"Clubhouse\",\"isExternal\":false,\"isPremium\":false}]}},{\"date\":\"2023-03-03T08:00Z\",\"description\":\"Signed G Sam Merrill to a 10-day contract.\",\"team\":{\"id\":\"5\",\"location\":\"Cleveland\",\"name\":\"Cavaliers\",\"abbreviation\":\"CLE\",\"displayName\":\"Cleveland Cavaliers\",\"color\":\"860038\",\"alternateColor\":\"bc945c\",\"logos\":[{\"href\":\"https://a.espncdn.com/i/teamlogos/nba/500/cle.png\",\"width\":500,\"height\":500,\"alt\":\"\",\"rel\":[\"full\",\"default\"],\"lastUpdated\":\"2022-06-23T13:58Z\"},{\"href\":\"https://a.espncdn.com/i/teamlogos/nba/500-dark/cle.png\",\"width\":500,\"height\":500,\"alt\":\"\",\"rel\":[\"full\",\"dark\"],\"lastUpdated\":\"2022-06-23T14:03Z\"},{\"href\":\"https://a.espncdn.com/i/teamlogos/nba/500/scoreboard/cle.png\",\"width\":500,\"height\":500,\"alt\":\"\",\"rel\":[\"full\",\"scoreboard\"],\"lastUpdated\":\"2022-06-23T14:03Z\"},{\"href\":\"https://a.espncdn.com/i/teamlogos/nba/500-dark/scoreboard/cle.png\",\"width\":500,\"height\":500,\"alt\":\"\",\"rel\":[\"full\",\"scoreboard\",\"dark\"],\"lastUpdated\":\"2018-06-05T12:08Z\"}],\"links\":[{\"language\":\"en-US\",\"rel\":[\"clubhouse\",\"desktop\",\"team\"],\"href\":\"https://www.espn.com/nba/team/_/name/cle/cleveland-cavaliers\",\"text\":\"Clubhouse\",\"shortText\":\"Clubhouse\",\"isExternal\":false,\"isPremium\":false}]}},{\"date\":\"2023-03-02T08:00Z\",\"description\":\"Signed F Jay Huff to a two-way contract.\",\"team\":{\"id\":\"27\",\"location\":\"Washington\",\"name\":\"Wizards\",\"abbreviation\":\"WSH\",\"displayName\":\"Washington Wizards\",\"color\":\"e31837\",\"alternateColor\":\"002b5c\",\"logos\":[{\"href\":\"https://a.espncdn.com/i/teamlogos/nba/500/wsh.png\",\"width\":500,\"height\":500,\"alt\":\"\",\"rel\":[\"full\",\"default\"],\"lastUpdated\":\"2018-06-05T12:08Z\"},{\"href\":\"https://a.espncdn.com/i/teamlogos/nba/500-dark/wsh.png\",\"width\":500,\"height\":500,\"alt\":\"\",\"rel\":[\"full\",\"dark\"],\"lastUpdated\":\"2018-06-05T12:08Z\"},{\"href\":\"https://a.espncdn.com/i/teamlogos/nba/500/scoreboard/wsh.png\",\"width\":500,\"height\":500,\"alt\":\"\",\"rel\":[\"full\",\"scoreboard\"],\"lastUpdated\":\"2018-06-05T12:08Z\"},{\"href\":\"https://a.espncdn.com/i/teamlogos/nba/500-dark/scoreboard/wsh.png\",\"width\":500,\"height\":500,\"alt\":\"\",\"rel\":[\"full\",\"scoreboard\",\"dark\"],\"lastUpdated\":\"2018-06-05T12:08Z\"}],\"links\":[{\"language\":\"en-US\",\"rel\":[\"clubhouse\",\"desktop\",\"team\"],\"href\":\"https://www.espn.com/nba/team/_/name/wsh/washington-wizards\",\"text\":\"Clubhouse\",\"shortText\":\"Clubhouse\",\"isExternal\":false,\"isPremium\":false}]}},{\"date\":\"2023-03-02T08:00Z\",\"description\":\"Signed G Lester Quinones to a 10-day contract.\",\"team\":{\"id\":\"9\",\"location\":\"Golden State\",\"name\":\"Warriors\",\"abbreviation\":\"GS\",\"displayName\":\"Golden State Warriors\",\"color\":\"1d428a\",\"alternateColor\":\"fdb927\",\"logos\":[{\"href\":\"https://a.espncdn.com/i/teamlogos/nba/500/gs.png\",\"width\":500,\"height\":500,\"alt\":\"\",\"rel\":[\"full\",\"default\"],\"lastUpdated\":\"2019-09-23T15:45Z\"},{\"href\":\"https://a.espncdn.com/i/teamlogos/nba/500-dark/gs.png\",\"width\":500,\"height\":500,\"alt\":\"\",\"rel\":[\"full\",\"dark\"],\"lastUpdated\":\"2019-09-30T14:23Z\"},{\"href\":\"https://a.espncdn.com/i/teamlogos/nba/500/scoreboard/gs.png\",\"width\":500,\"height\":500,\"alt\":\"\",\"rel\":[\"full\",\"scoreboard\"],\"lastUpdated\":\"2019-09-30T14:23Z\"},{\"href\":\"https://a.espncdn.com/i/teamlogos/nba/500-dark/scoreboard/gs.png\",\"width\":500,\"height\":500,\"alt\":\"\",\"rel\":[\"full\",\"scoreboard\",\"dark\"],\"lastUpdated\":\"2019-09-30T20:00Z\"}],\"links\":[{\"language\":\"en-US\",\"rel\":[\"clubhouse\",\"desktop\",\"team\"],\"href\":\"https://www.espn.com/nba/team/_/name/gs/golden-state-warriors\",\"text\":\"Clubhouse\",\"shortText\":\"Clubhouse\",\"isExternal\":false,\"isPremium\":false}]}},{\"date\":\"2023-02-28T08:00Z\",\"description\":\"Signed G Duane Washington Jr. to a two-way contract.\",\"team\":{\"id\":\"18\",\"location\":\"New York\",\"name\":\"Knicks\",\"abbreviation\":\"NY\",\"displayName\":\"New York Knicks\",\"color\":\"1d428a\",\"alternateColor\":\"f58426\",\"logos\":[{\"href\":\"https://a.espncdn.com/i/teamlogos/nba/500/ny.png\",\"width\":500,\"height\":500,\"alt\":\"\",\"rel\":[\"full\",\"default\"],\"lastUpdated\":\"2018-06-05T12:08Z\"},{\"href\":\"https://a.espncdn.com/i/teamlogos/nba/500-dark/ny.png\",\"width\":500,\"height\":500,\"alt\":\"\",\"rel\":[\"full\",\"dark\"],\"lastUpdated\":\"2018-06-05T12:08Z\"},{\"href\":\"https://a.espncdn.com/i/teamlogos/nba/500/scoreboard/ny.png\",\"width\":500,\"height\":500,\"alt\":\"\",\"rel\":[\"full\",\"scoreboard\"],\"lastUpdated\":\"2018-06-05T12:08Z\"},{\"href\":\"https://a.espncdn.com/i/teamlogos/nba/500-dark/scoreboard/ny.png\",\"width\":500,\"height\":500,\"alt\":\"\",\"rel\":[\"full\",\"scoreboard\",\"dark\"],\"lastUpdated\":\"2018-06-05T12:08Z\"}],\"links\":[{\"language\":\"en-US\",\"rel\":[\"clubhouse\",\"desktop\",\"team\"],\"href\":\"https://www.espn.com/nba/team/_/name/ny/new-york-knicks\",\"text\":\"Clubhouse\",\"shortText\":\"Clubhouse\",\"isExternal\":false,\"isPremium\":false}]}},{\"date\":\"2023-02-27T08:00Z\",\"description\":\"Re-signed F Lindy Waters III to a rest-of-season contract.\",\"team\":{\"id\":\"25\",\"location\":\"Oklahoma City\",\"name\":\"Thunder\",\"abbreviation\":\"OKC\",\"displayName\":\"Oklahoma City Thunder\",\"color\":\"007ac1\",\"alternateColor\":\"ef3b24\",\"logos\":[{\"href\":\"https://a.espncdn.com/i/teamlogos/nba/500/okc.png\",\"width\":500,\"height\":500,\"alt\":\"\",\"rel\":[\"full\",\"default\"],\"lastUpdated\":\"2018-09-05T22:10Z\"},{\"href\":\"https://a.espncdn.com/i/teamlogos/nba/500-dark/okc.png\",\"width\":500,\"height\":500,\"alt\":\"\",\"rel\":[\"full\",\"dark\"],\"lastUpdated\":\"2018-09-05T22:10Z\"},{\"href\":\"https://a.espncdn.com/i/teamlogos/nba/500/scoreboard/okc.png\",\"width\":500,\"height\":500,\"alt\":\"\",\"rel\":[\"full\",\"scoreboard\"],\"lastUpdated\":\"2018-09-05T22:10Z\"},{\"href\":\"https://a.espncdn.com/i/teamlogos/nba/500-dark/scoreboard/okc.png\",\"width\":500,\"height\":500,\"alt\":\"\",\"rel\":[\"full\",\"scoreboard\",\"dark\"],\"lastUpdated\":\"2018-09-05T22:10Z\"}],\"links\":[{\"language\":\"en-US\",\"rel\":[\"clubhouse\",\"desktop\",\"team\"],\"href\":\"https://www.espn.com/nba/team/_/name/okc/oklahoma-city-thunder\",\"text\":\"Clubhouse\",\"shortText\":\"Clubhouse\",\"isExternal\":false,\"isPremium\":false}]}},{\"date\":\"2023-02-26T08:00Z\",\"description\":\"Signed G Bryce McGowens to a rest-of-season contract.\",\"team\":{\"id\":\"30\",\"location\":\"Charlotte\",\"name\":\"Hornets\",\"abbreviation\":\"CHA\",\"displayName\":\"Charlotte Hornets\",\"color\":\"008ca8\",\"alternateColor\":\"1d1060\",\"logos\":[{\"href\":\"https://a.espncdn.com/i/teamlogos/nba/500/cha.png\",\"width\":500,\"height\":500,\"alt\":\"\",\"rel\":[\"full\",\"default\"],\"lastUpdated\":\"2018-06-05T12:08Z\"},{\"href\":\"https://a.espncdn.com/i/teamlogos/nba/500-dark/cha.png\",\"width\":500,\"height\":500,\"alt\":\"\",\"rel\":[\"full\",\"dark\"],\"lastUpdated\":\"2018-06-05T12:08Z\"},{\"href\":\"https://a.espncdn.com/i/teamlogos/nba/500/scoreboard/cha.png\",\"width\":500,\"height\":500,\"alt\":\"\",\"rel\":[\"full\",\"scoreboard\"],\"lastUpdated\":\"2018-06-05T12:08Z\"},{\"href\":\"https://a.espncdn.com/i/teamlogos/nba/500-dark/scoreboard/cha.png\",\"width\":500,\"height\":500,\"alt\":\"\",\"rel\":[\"full\",\"scoreboard\",\"dark\"],\"lastUpdated\":\"2018-06-05T12:08Z\"}],\"links\":[{\"language\":\"en-US\",\"rel\":[\"clubhouse\",\"desktop\",\"team\"],\"href\":\"https://www.espn.com/nba/team/_/name/cha/charlotte-hornets\",\"text\":\"Clubhouse\",\"shortText\":\"Clubhouse\",\"isExternal\":false,\"isPremium\":false}]}},{\"date\":\"2023-02-26T08:00Z\",\"description\":\"Signed G Michael Carter-Williams to a rest-of-season contract.\",\"team\":{\"id\":\"19\",\"location\":\"Orlando\",\"name\":\"Magic\",\"abbreviation\":\"ORL\",\"displayName\":\"Orlando Magic\",\"color\":\"0077c0\",\"alternateColor\":\"c4ced4\",\"logos\":[{\"href\":\"https://a.espncdn.com/i/teamlogos/nba/500/orl.png\",\"width\":500,\"height\":500,\"alt\":\"\",\"rel\":[\"full\",\"default\"],\"lastUpdated\":\"2018-06-05T12:08Z\"},{\"href\":\"https://a.espncdn.com/i/teamlogos/nba/500-dark/orl.png\",\"width\":500,\"height\":500,\"alt\":\"\",\"rel\":[\"full\",\"dark\"],\"lastUpdated\":\"2018-06-05T12:08Z\"},{\"href\":\"https://a.espncdn.com/i/teamlogos/nba/500/scoreboard/orl.png\",\"width\":500,\"height\":500,\"alt\":\"\",\"rel\":[\"full\",\"scoreboard\"],\"lastUpdated\":\"2018-06-05T12:08Z\"},{\"href\":\"https://a.espncdn.com/i/teamlogos/nba/500-dark/scoreboard/orl.png\",\"width\":500,\"height\":500,\"alt\":\"\",\"rel\":[\"full\",\"scoreboard\",\"dark\"],\"lastUpdated\":\"2018-06-05T12:08Z\"}],\"links\":[{\"language\":\"en-US\",\"rel\":[\"clubhouse\",\"desktop\",\"team\"],\"href\":\"https://www.espn.com/nba/team/_/name/orl/orlando-magic\",\"text\":\"Clubhouse\",\"shortText\":\"Clubhouse\",\"isExternal\":false,\"isPremium\":false}]}},{\"date\":\"2023-02-24T08:00Z\",\"description\":\"Re-signed G Jordan Goodwin to a rest-of-season contract.\",\"team\":{\"id\":\"27\",\"location\":\"Washington\",\"name\":\"Wizards\",\"abbreviation\":\"WSH\",\"displayName\":\"Washington Wizards\",\"color\":\"e31837\",\"alternateColor\":\"002b5c\",\"logos\":[{\"href\":\"https://a.espncdn.com/i/teamlogos/nba/500/wsh.png\",\"width\":500,\"height\":500,\"alt\":\"\",\"rel\":[\"full\",\"default\"],\"lastUpdated\":\"2018-06-05T12:08Z\"},{\"href\":\"https://a.espncdn.com/i/teamlogos/nba/500-dark/wsh.png\",\"width\":500,\"height\":500,\"alt\":\"\",\"rel\":[\"full\",\"dark\"],\"lastUpdated\":\"2018-06-05T12:08Z\"},{\"href\":\"https://a.espncdn.com/i/teamlogos/nba/500/scoreboard/wsh.png\",\"width\":500,\"height\":500,\"alt\":\"\",\"rel\":[\"full\",\"scoreboard\"],\"lastUpdated\":\"2018-06-05T12:08Z\"},{\"href\":\"https://a.espncdn.com/i/teamlogos/nba/500-dark/scoreboard/wsh.png\",\"width\":500,\"height\":500,\"alt\":\"\",\"rel\":[\"full\",\"scoreboard\",\"dark\"],\"lastUpdated\":\"2018-06-05T12:08Z\"}],\"links\":[{\"language\":\"en-US\",\"rel\":[\"clubhouse\",\"desktop\",\"team\"],\"href\":\"https://www.espn.com/nba/team/_/name/wsh/washington-wizards\",\"text\":\"Clubhouse\",\"shortText\":\"Clubhouse\",\"isExternal\":false,\"isPremium\":false}]}},{\"date\":\"2023-02-24T08:00Z\",\"description\":\"Signed F Ish Wainright to a multi-year contract.\",\"team\":{\"id\":\"21\",\"location\":\"Phoenix\",\"name\":\"Suns\",\"abbreviation\":\"PHX\",\"displayName\":\"Phoenix Suns\",\"color\":\"29127a\",\"alternateColor\":\"e56020\",\"logos\":[{\"href\":\"https://a.espncdn.com/i/teamlogos/nba/500/phx.png\",\"width\":500,\"height\":500,\"alt\":\"\",\"rel\":[\"full\",\"default\"],\"lastUpdated\":\"2018-06-05T12:08Z\"},{\"href\":\"https://a.espncdn.com/i/teamlogos/nba/500-dark/phx.png\",\"width\":500,\"height\":500,\"alt\":\"\",\"rel\":[\"full\",\"dark\"],\"lastUpdated\":\"2018-06-05T12:08Z\"},{\"href\":\"https://a.espncdn.com/i/teamlogos/nba/500/scoreboard/phx.png\",\"width\":500,\"height\":500,\"alt\":\"\",\"rel\":[\"full\",\"scoreboard\"],\"lastUpdated\":\"2018-06-05T12:08Z\"},{\"href\":\"https://a.espncdn.com/i/teamlogos/nba/500-dark/scoreboard/phx.png\",\"width\":500,\"height\":500,\"alt\":\"\",\"rel\":[\"full\",\"scoreboard\",\"dark\"],\"lastUpdated\":\"2018-06-05T12:08Z\"}],\"links\":[{\"language\":\"en-US\",\"rel\":[\"clubhouse\",\"desktop\",\"team\"],\"href\":\"https://www.espn.com/nba/team/_/name/phx/phoenix-suns\",\"text\":\"Clubhouse\",\"shortText\":\"Clubhouse\",\"isExternal\":false,\"isPremium\":false}]}},{\"date\":\"2023-02-23T08:00Z\",\"description\":\"Signed G Trevor Keels to a 10-day contract.\",\"team\":{\"id\":\"18\",\"location\":\"New York\",\"name\":\"Knicks\",\"abbreviation\":\"NY\",\"displayName\":\"New York Knicks\",\"color\":\"1d428a\",\"alternateColor\":\"f58426\",\"logos\":[{\"href\":\"https://a.espncdn.com/i/teamlogos/nba/500/ny.png\",\"width\":500,\"height\":500,\"alt\":\"\",\"rel\":[\"full\",\"default\"],\"lastUpdated\":\"2018-06-05T12:08Z\"},{\"href\":\"https://a.espncdn.com/i/teamlogos/nba/500-dark/ny.png\",\"width\":500,\"height\":500,\"alt\":\"\",\"rel\":[\"full\",\"dark\"],\"lastUpdated\":\"2018-06-05T12:08Z\"},{\"href\":\"https://a.espncdn.com/i/teamlogos/nba/500/scoreboard/ny.png\",\"width\":500,\"height\":500,\"alt\":\"\",\"rel\":[\"full\",\"scoreboard\"],\"lastUpdated\":\"2018-06-05T12:08Z\"},{\"href\":\"https://a.espncdn.com/i/teamlogos/nba/500-dark/scoreboard/ny.png\",\"width\":500,\"height\":500,\"alt\":\"\",\"rel\":[\"full\",\"scoreboard\",\"dark\"],\"lastUpdated\":\"2018-06-05T12:08Z\"}],\"links\":[{\"language\":\"en-US\",\"rel\":[\"clubhouse\",\"desktop\",\"team\"],\"href\":\"https://www.espn.com/nba/team/_/name/ny/new-york-knicks\",\"text\":\"Clubhouse\",\"shortText\":\"Clubhouse\",\"isExternal\":false,\"isPremium\":false}]}},{\"date\":\"2023-02-20T08:00Z\",\"description\":\"Waived G Russell Westbrook.\",\"team\":{\"id\":\"26\",\"location\":\"Utah\",\"name\":\"Jazz\",\"abbreviation\":\"UTAH\",\"displayName\":\"Utah Jazz\",\"color\":\"fff21f\",\"alternateColor\":\"000000\",\"logos\":[{\"href\":\"https://a.espncdn.com/i/teamlogos/nba/500/utah.png\",\"width\":500,\"height\":500,\"alt\":\"\",\"rel\":[\"full\",\"default\"],\"lastUpdated\":\"2022-11-23T20:20Z\"},{\"href\":\"https://a.espncdn.com/i/teamlogos/nba/500-dark/utah.png\",\"width\":500,\"height\":500,\"alt\":\"\",\"rel\":[\"full\",\"dark\"],\"lastUpdated\":\"2023-03-01T12:03Z\"},{\"href\":\"https://a.espncdn.com/i/teamlogos/nba/500/scoreboard/utah.png\",\"width\":500,\"height\":500,\"alt\":\"\",\"rel\":[\"full\",\"scoreboard\"],\"lastUpdated\":\"2022-11-23T20:22Z\"},{\"href\":\"https://a.espncdn.com/i/teamlogos/nba/500-dark/scoreboard/utah.png\",\"width\":500,\"height\":500,\"alt\":\"\",\"rel\":[\"full\",\"scoreboard\",\"dark\"],\"lastUpdated\":\"2023-03-01T12:03Z\"}],\"links\":[{\"language\":\"en-US\",\"rel\":[\"clubhouse\",\"desktop\",\"team\"],\"href\":\"https://www.espn.com/nba/team/_/name/utah/utah-jazz\",\"text\":\"Clubhouse\",\"shortText\":\"Clubhouse\",\"isExternal\":false,\"isPremium\":false}]}},{\"date\":\"2023-02-18T08:00Z\",\"description\":\"Waived F Kevin Love.\",\"team\":{\"id\":\"5\",\"location\":\"Cleveland\",\"name\":\"Cavaliers\",\"abbreviation\":\"CLE\",\"displayName\":\"Cleveland Cavaliers\",\"color\":\"860038\",\"alternateColor\":\"bc945c\",\"logos\":[{\"href\":\"https://a.espncdn.com/i/teamlogos/nba/500/cle.png\",\"width\":500,\"height\":500,\"alt\":\"\",\"rel\":[\"full\",\"default\"],\"lastUpdated\":\"2022-06-23T13:58Z\"},{\"href\":\"https://a.espncdn.com/i/teamlogos/nba/500-dark/cle.png\",\"width\":500,\"height\":500,\"alt\":\"\",\"rel\":[\"full\",\"dark\"],\"lastUpdated\":\"2022-06-23T14:03Z\"},{\"href\":\"https://a.espncdn.com/i/teamlogos/nba/500/scoreboard/cle.png\",\"width\":500,\"height\":500,\"alt\":\"\",\"rel\":[\"full\",\"scoreboard\"],\"lastUpdated\":\"2022-06-23T14:03Z\"},{\"href\":\"https://a.espncdn.com/i/teamlogos/nba/500-dark/scoreboard/cle.png\",\"width\":500,\"height\":500,\"alt\":\"\",\"rel\":[\"full\",\"scoreboard\",\"dark\"],\"lastUpdated\":\"2018-06-05T12:08Z\"}],\"links\":[{\"language\":\"en-US\",\"rel\":[\"clubhouse\",\"desktop\",\"team\"],\"href\":\"https://www.espn.com/nba/team/_/name/cle/cleveland-cavaliers\",\"text\":\"Clubhouse\",\"shortText\":\"Clubhouse\",\"isExternal\":false,\"isPremium\":false}]}},{\"date\":\"2023-02-16T08:00Z\",\"description\":\"Signed G Kris Dunn and G Frank Jackson to 10-day contracts.\",\"team\":{\"id\":\"26\",\"location\":\"Utah\",\"name\":\"Jazz\",\"abbreviation\":\"UTAH\",\"displayName\":\"Utah Jazz\",\"color\":\"fff21f\",\"alternateColor\":\"000000\",\"logos\":[{\"href\":\"https://a.espncdn.com/i/teamlogos/nba/500/utah.png\",\"width\":500,\"height\":500,\"alt\":\"\",\"rel\":[\"full\",\"default\"],\"lastUpdated\":\"2022-11-23T20:20Z\"},{\"href\":\"https://a.espncdn.com/i/teamlogos/nba/500-dark/utah.png\",\"width\":500,\"height\":500,\"alt\":\"\",\"rel\":[\"full\",\"dark\"],\"lastUpdated\":\"2023-03-01T12:03Z\"},{\"href\":\"https://a.espncdn.com/i/teamlogos/nba/500/scoreboard/utah.png\",\"width\":500,\"height\":500,\"alt\":\"\",\"rel\":[\"full\",\"scoreboard\"],\"lastUpdated\":\"2022-11-23T20:22Z\"},{\"href\":\"https://a.espncdn.com/i/teamlogos/nba/500-dark/scoreboard/utah.png\",\"width\":500,\"height\":500,\"alt\":\"\",\"rel\":[\"full\",\"scoreboard\",\"dark\"],\"lastUpdated\":\"2023-03-01T12:03Z\"}],\"links\":[{\"language\":\"en-US\",\"rel\":[\"clubhouse\",\"desktop\",\"team\"],\"href\":\"https://www.espn.com/nba/team/_/name/utah/utah-jazz\",\"text\":\"Clubhouse\",\"shortText\":\"Clubhouse\",\"isExternal\":false,\"isPremium\":false}]}},{\"date\":\"2023-02-16T08:00Z\",\"description\":\"Claimed F Julian Champagnie off waivers.\",\"team\":{\"id\":\"24\",\"location\":\"San Antonio\",\"name\":\"Spurs\",\"abbreviation\":\"SA\",\"displayName\":\"San Antonio Spurs\",\"color\":\"000000\",\"alternateColor\":\"c4ced4\",\"logos\":[{\"href\":\"https://a.espncdn.com/i/teamlogos/nba/500/sa.png\",\"width\":500,\"height\":500,\"alt\":\"\",\"rel\":[\"full\",\"default\"],\"lastUpdated\":\"2018-06-05T12:08Z\"},{\"href\":\"https://a.espncdn.com/i/teamlogos/nba/500-dark/sa.png\",\"width\":500,\"height\":500,\"alt\":\"\",\"rel\":[\"full\",\"dark\"],\"lastUpdated\":\"2018-06-05T12:08Z\"},{\"href\":\"https://a.espncdn.com/i/teamlogos/nba/500/scoreboard/sa.png\",\"width\":500,\"height\":500,\"alt\":\"\",\"rel\":[\"full\",\"scoreboard\"],\"lastUpdated\":\"2018-06-05T12:08Z\"},{\"href\":\"https://a.espncdn.com/i/teamlogos/nba/500-dark/scoreboard/sa.png\",\"width\":500,\"height\":500,\"alt\":\"\",\"rel\":[\"full\",\"scoreboard\",\"dark\"],\"lastUpdated\":\"2018-06-05T12:08Z\"}],\"links\":[{\"language\":\"en-US\",\"rel\":[\"clubhouse\",\"desktop\",\"team\"],\"href\":\"https://www.espn.com/nba/team/_/name/sa/san-antonio-spurs\",\"text\":\"Clubhouse\",\"shortText\":\"Clubhouse\",\"isExternal\":false,\"isPremium\":false}]}},{\"date\":\"2023-02-16T08:00Z\",\"description\":\"Signed F Meyers Leonard to a 10-day contract.\",\"team\":{\"id\":\"15\",\"location\":\"Milwaukee\",\"name\":\"Bucks\",\"abbreviation\":\"MIL\",\"displayName\":\"Milwaukee Bucks\",\"color\":\"00471b\",\"alternateColor\":\"eee1c6\",\"logos\":[{\"href\":\"https://a.espncdn.com/i/teamlogos/nba/500/mil.png\",\"width\":500,\"height\":500,\"alt\":\"\",\"rel\":[\"full\",\"default\"],\"lastUpdated\":\"2018-06-05T12:08Z\"},{\"href\":\"https://a.espncdn.com/i/teamlogos/nba/500-dark/mil.png\",\"width\":500,\"height\":500,\"alt\":\"\",\"rel\":[\"full\",\"dark\"],\"lastUpdated\":\"2018-06-05T12:08Z\"},{\"href\":\"https://a.espncdn.com/i/teamlogos/nba/500/scoreboard/mil.png\",\"width\":500,\"height\":500,\"alt\":\"\",\"rel\":[\"full\",\"scoreboard\"],\"lastUpdated\":\"2018-06-05T12:08Z\"},{\"href\":\"https://a.espncdn.com/i/teamlogos/nba/500-dark/scoreboard/mil.png\",\"width\":500,\"height\":500,\"alt\":\"\",\"rel\":[\"full\",\"scoreboard\",\"dark\"],\"lastUpdated\":\"2018-06-05T12:08Z\"}],\"links\":[{\"language\":\"en-US\",\"rel\":[\"clubhouse\",\"desktop\",\"team\"],\"href\":\"https://www.espn.com/nba/team/_/name/mil/milwaukee-bucks\",\"text\":\"Clubhouse\",\"shortText\":\"Clubhouse\",\"isExternal\":false,\"isPremium\":false}]}},{\"date\":\"2023-02-16T08:00Z\",\"description\":\"Officially named Joe Mazzulla head coach and agreed to terms on a contract extension.\",\"team\":{\"id\":\"2\",\"location\":\"Boston\",\"name\":\"Celtics\",\"abbreviation\":\"BOS\",\"displayName\":\"Boston Celtics\",\"color\":\"008348\",\"alternateColor\":\"bb9753\",\"logos\":[{\"href\":\"https://a.espncdn.com/i/teamlogos/nba/500/bos.png\",\"width\":500,\"height\":500,\"alt\":\"\",\"rel\":[\"full\",\"default\"],\"lastUpdated\":\"2019-03-28T21:04Z\"},{\"href\":\"https://a.espncdn.com/i/teamlogos/nba/500-dark/bos.png\",\"width\":500,\"height\":500,\"alt\":\"\",\"rel\":[\"full\",\"dark\"],\"lastUpdated\":\"2018-06-05T12:08Z\"},{\"href\":\"https://a.espncdn.com/i/teamlogos/nba/500/scoreboard/bos.png\",\"width\":500,\"height\":500,\"alt\":\"\",\"rel\":[\"full\",\"scoreboard\"],\"lastUpdated\":\"2018-06-05T12:08Z\"},{\"href\":\"https://a.espncdn.com/i/teamlogos/nba/500-dark/scoreboard/bos.png\",\"width\":500,\"height\":500,\"alt\":\"\",\"rel\":[\"full\",\"scoreboard\",\"dark\"],\"lastUpdated\":\"2018-06-05T12:08Z\"}],\"links\":[{\"language\":\"en-US\",\"rel\":[\"clubhouse\",\"desktop\",\"team\"],\"href\":\"https://www.espn.com/nba/team/_/name/bos/boston-celtics\",\"text\":\"Clubhouse\",\"shortText\":\"Clubhouse\",\"isExternal\":false,\"isPremium\":false}]}},{\"date\":\"2023-02-15T08:00Z\",\"description\":\"Signed G/F Terrence Ross.\",\"team\":{\"id\":\"21\",\"location\":\"Phoenix\",\"name\":\"Suns\",\"abbreviation\":\"PHX\",\"displayName\":\"Phoenix Suns\",\"color\":\"29127a\",\"alternateColor\":\"e56020\",\"logos\":[{\"href\":\"https://a.espncdn.com/i/teamlogos/nba/500/phx.png\",\"width\":500,\"height\":500,\"alt\":\"\",\"rel\":[\"full\",\"default\"],\"lastUpdated\":\"2018-06-05T12:08Z\"},{\"href\":\"https://a.espncdn.com/i/teamlogos/nba/500-dark/phx.png\",\"width\":500,\"height\":500,\"alt\":\"\",\"rel\":[\"full\",\"dark\"],\"lastUpdated\":\"2018-06-05T12:08Z\"},{\"href\":\"https://a.espncdn.com/i/teamlogos/nba/500/scoreboard/phx.png\",\"width\":500,\"height\":500,\"alt\":\"\",\"rel\":[\"full\",\"scoreboard\"],\"lastUpdated\":\"2018-06-05T12:08Z\"},{\"href\":\"https://a.espncdn.com/i/teamlogos/nba/500-dark/scoreboard/phx.png\",\"width\":500,\"height\":500,\"alt\":\"\",\"rel\":[\"full\",\"scoreboard\",\"dark\"],\"lastUpdated\":\"2018-06-05T12:08Z\"}],\"links\":[{\"language\":\"en-US\",\"rel\":[\"clubhouse\",\"desktop\",\"team\"],\"href\":\"https://www.espn.com/nba/team/_/name/phx/phoenix-suns\",\"text\":\"Clubhouse\",\"shortText\":\"Clubhouse\",\"isExternal\":false,\"isPremium\":false}]}},{\"date\":\"2023-02-14T08:00Z\",\"description\":\"Re-signed C Charles Bassey to a rest-of-season contract.\",\"team\":{\"id\":\"24\",\"location\":\"San Antonio\",\"name\":\"Spurs\",\"abbreviation\":\"SA\",\"displayName\":\"San Antonio Spurs\",\"color\":\"000000\",\"alternateColor\":\"c4ced4\",\"logos\":[{\"href\":\"https://a.espncdn.com/i/teamlogos/nba/500/sa.png\",\"width\":500,\"height\":500,\"alt\":\"\",\"rel\":[\"full\",\"default\"],\"lastUpdated\":\"2018-06-05T12:08Z\"},{\"href\":\"https://a.espncdn.com/i/teamlogos/nba/500-dark/sa.png\",\"width\":500,\"height\":500,\"alt\":\"\",\"rel\":[\"full\",\"dark\"],\"lastUpdated\":\"2018-06-05T12:08Z\"},{\"href\":\"https://a.espncdn.com/i/teamlogos/nba/500/scoreboard/sa.png\",\"width\":500,\"height\":500,\"alt\":\"\",\"rel\":[\"full\",\"scoreboard\"],\"lastUpdated\":\"2018-06-05T12:08Z\"},{\"href\":\"https://a.espncdn.com/i/teamlogos/nba/500-dark/scoreboard/sa.png\",\"width\":500,\"height\":500,\"alt\":\"\",\"rel\":[\"full\",\"scoreboard\",\"dark\"],\"lastUpdated\":\"2018-06-05T12:08Z\"}],\"links\":[{\"language\":\"en-US\",\"rel\":[\"clubhouse\",\"desktop\",\"team\"],\"href\":\"https://www.espn.com/nba/team/_/name/sa/san-antonio-spurs\",\"text\":\"Clubhouse\",\"shortText\":\"Clubhouse\",\"isExternal\":false,\"isPremium\":false}]}},{\"date\":\"2023-02-14T08:00Z\",\"description\":\"Signed C Dewayne Dedmon to a rest-of-season contract and G Mac McClung to a two-way contract. Waived F Julian Champagnie.\",\"team\":{\"id\":\"20\",\"location\":\"Philadelphia\",\"name\":\"76ers\",\"abbreviation\":\"PHI\",\"displayName\":\"Philadelphia 76ers\",\"color\":\"1d428a\",\"alternateColor\":\"e01234\",\"logos\":[{\"href\":\"https://a.espncdn.com/i/teamlogos/nba/500/phi.png\",\"width\":500,\"height\":500,\"alt\":\"\",\"rel\":[\"full\",\"default\"],\"lastUpdated\":\"2018-10-11T14:16Z\"},{\"href\":\"https://a.espncdn.com/i/teamlogos/nba/500-dark/phi.png\",\"width\":500,\"height\":500,\"alt\":\"\",\"rel\":[\"full\",\"dark\"],\"lastUpdated\":\"2018-10-11T14:16Z\"},{\"href\":\"https://a.espncdn.com/i/teamlogos/nba/500/scoreboard/phi.png\",\"width\":500,\"height\":500,\"alt\":\"\",\"rel\":[\"full\",\"scoreboard\"],\"lastUpdated\":\"2018-10-11T14:16Z\"},{\"href\":\"https://a.espncdn.com/i/teamlogos/nba/500-dark/scoreboard/phi.png\",\"width\":500,\"height\":500,\"alt\":\"\",\"rel\":[\"full\",\"scoreboard\",\"dark\"],\"lastUpdated\":\"2018-10-11T14:17Z\"}],\"links\":[{\"language\":\"en-US\",\"rel\":[\"clubhouse\",\"desktop\",\"team\"],\"href\":\"https://www.espn.com/nba/team/_/name/phi/philadelphia-76ers\",\"text\":\"Clubhouse\",\"shortText\":\"Clubhouse\",\"isExternal\":false,\"isPremium\":false}]}},{\"date\":\"2023-02-13T08:00Z\",\"description\":\"Signed F James Johnson to a rest-of-season contract.\",\"team\":{\"id\":\"11\",\"location\":\"Indiana\",\"name\":\"Pacers\",\"abbreviation\":\"IND\",\"displayName\":\"Indiana Pacers\",\"color\":\"002d62\",\"alternateColor\":\"fdbb30\",\"logos\":[{\"href\":\"https://a.espncdn.com/i/teamlogos/nba/500/ind.png\",\"width\":500,\"height\":500,\"alt\":\"\",\"rel\":[\"full\",\"default\"],\"lastUpdated\":\"2018-06-05T12:08Z\"},{\"href\":\"https://a.espncdn.com/i/teamlogos/nba/500-dark/ind.png\",\"width\":500,\"height\":500,\"alt\":\"\",\"rel\":[\"full\",\"dark\"],\"lastUpdated\":\"2018-06-05T12:08Z\"},{\"href\":\"https://a.espncdn.com/i/teamlogos/nba/500/scoreboard/ind.png\",\"width\":500,\"height\":500,\"alt\":\"\",\"rel\":[\"full\",\"scoreboard\"],\"lastUpdated\":\"2018-06-05T12:08Z\"},{\"href\":\"https://a.espncdn.com/i/teamlogos/nba/500-dark/scoreboard/ind.png\",\"width\":500,\"height\":500,\"alt\":\"\",\"rel\":[\"full\",\"scoreboard\",\"dark\"],\"lastUpdated\":\"2018-06-05T12:08Z\"}],\"links\":[{\"language\":\"en-US\",\"rel\":[\"clubhouse\",\"desktop\",\"team\"],\"href\":\"https://www.espn.com/nba/team/_/name/ind/indiana-pacers\",\"text\":\"Clubhouse\",\"shortText\":\"Clubhouse\",\"isExternal\":false,\"isPremium\":false}]}},{\"date\":\"2023-02-12T08:00Z\",\"description\":\"Waived G Reggie Jackson.\",\"team\":{\"id\":\"30\",\"location\":\"Charlotte\",\"name\":\"Hornets\",\"abbreviation\":\"CHA\",\"displayName\":\"Charlotte Hornets\",\"color\":\"008ca8\",\"alternateColor\":\"1d1060\",\"logos\":[{\"href\":\"https://a.espncdn.com/i/teamlogos/nba/500/cha.png\",\"width\":500,\"height\":500,\"alt\":\"\",\"rel\":[\"full\",\"default\"],\"lastUpdated\":\"2018-06-05T12:08Z\"},{\"href\":\"https://a.espncdn.com/i/teamlogos/nba/500-dark/cha.png\",\"width\":500,\"height\":500,\"alt\":\"\",\"rel\":[\"full\",\"dark\"],\"lastUpdated\":\"2018-06-05T12:08Z\"},{\"href\":\"https://a.espncdn.com/i/teamlogos/nba/500/scoreboard/cha.png\",\"width\":500,\"height\":500,\"alt\":\"\",\"rel\":[\"full\",\"scoreboard\"],\"lastUpdated\":\"2018-06-05T12:08Z\"},{\"href\":\"https://a.espncdn.com/i/teamlogos/nba/500-dark/scoreboard/cha.png\",\"width\":500,\"height\":500,\"alt\":\"\",\"rel\":[\"full\",\"scoreboard\",\"dark\"],\"lastUpdated\":\"2018-06-05T12:08Z\"}],\"links\":[{\"language\":\"en-US\",\"rel\":[\"clubhouse\",\"desktop\",\"team\"],\"href\":\"https://www.espn.com/nba/team/_/name/cha/charlotte-hornets\",\"text\":\"Clubhouse\",\"shortText\":\"Clubhouse\",\"isExternal\":false,\"isPremium\":false}]}},{\"date\":\"2023-02-12T08:00Z\",\"description\":\"Waived F Stanley Johnson.\",\"team\":{\"id\":\"24\",\"location\":\"San Antonio\",\"name\":\"Spurs\",\"abbreviation\":\"SA\",\"displayName\":\"San Antonio Spurs\",\"color\":\"000000\",\"alternateColor\":\"c4ced4\",\"logos\":[{\"href\":\"https://a.espncdn.com/i/teamlogos/nba/500/sa.png\",\"width\":500,\"height\":500,\"alt\":\"\",\"rel\":[\"full\",\"default\"],\"lastUpdated\":\"2018-06-05T12:08Z\"},{\"href\":\"https://a.espncdn.com/i/teamlogos/nba/500-dark/sa.png\",\"width\":500,\"height\":500,\"alt\":\"\",\"rel\":[\"full\",\"dark\"],\"lastUpdated\":\"2018-06-05T12:08Z\"},{\"href\":\"https://a.espncdn.com/i/teamlogos/nba/500/scoreboard/sa.png\",\"width\":500,\"height\":500,\"alt\":\"\",\"rel\":[\"full\",\"scoreboard\"],\"lastUpdated\":\"2018-06-05T12:08Z\"},{\"href\":\"https://a.espncdn.com/i/teamlogos/nba/500-dark/scoreboard/sa.png\",\"width\":500,\"height\":500,\"alt\":\"\",\"rel\":[\"full\",\"scoreboard\",\"dark\"],\"lastUpdated\":\"2018-06-05T12:08Z\"}],\"links\":[{\"language\":\"en-US\",\"rel\":[\"clubhouse\",\"desktop\",\"team\"],\"href\":\"https://www.espn.com/nba/team/_/name/sa/san-antonio-spurs\",\"text\":\"Clubhouse\",\"shortText\":\"Clubhouse\",\"isExternal\":false,\"isPremium\":false}]}},{\"date\":\"2023-02-12T08:00Z\",\"description\":\"Waived Gs Patrick Beverley and Terrrence Ross.\",\"team\":{\"id\":\"19\",\"location\":\"Orlando\",\"name\":\"Magic\",\"abbreviation\":\"ORL\",\"displayName\":\"Orlando Magic\",\"color\":\"0077c0\",\"alternateColor\":\"c4ced4\",\"logos\":[{\"href\":\"https://a.espncdn.com/i/teamlogos/nba/500/orl.png\",\"width\":500,\"height\":500,\"alt\":\"\",\"rel\":[\"full\",\"default\"],\"lastUpdated\":\"2018-06-05T12:08Z\"},{\"href\":\"https://a.espncdn.com/i/teamlogos/nba/500-dark/orl.png\",\"width\":500,\"height\":500,\"alt\":\"\",\"rel\":[\"full\",\"dark\"],\"lastUpdated\":\"2018-06-05T12:08Z\"},{\"href\":\"https://a.espncdn.com/i/teamlogos/nba/500/scoreboard/orl.png\",\"width\":500,\"height\":500,\"alt\":\"\",\"rel\":[\"full\",\"scoreboard\"],\"lastUpdated\":\"2018-06-05T12:08Z\"},{\"href\":\"https://a.espncdn.com/i/teamlogos/nba/500-dark/scoreboard/orl.png\",\"width\":500,\"height\":500,\"alt\":\"\",\"rel\":[\"full\",\"scoreboard\",\"dark\"],\"lastUpdated\":\"2018-06-05T12:08Z\"}],\"links\":[{\"language\":\"en-US\",\"rel\":[\"clubhouse\",\"desktop\",\"team\"],\"href\":\"https://www.espn.com/nba/team/_/name/orl/orlando-magic\",\"text\":\"Clubhouse\",\"shortText\":\"Clubhouse\",\"isExternal\":false,\"isPremium\":false}]}},{\"date\":\"2023-02-12T08:00Z\",\"description\":\"Waived Gs Danny Green and John Wall.\",\"team\":{\"id\":\"10\",\"location\":\"Houston\",\"name\":\"Rockets\",\"abbreviation\":\"HOU\",\"displayName\":\"Houston Rockets\",\"color\":\"ce1141\",\"alternateColor\":\"000000\",\"logos\":[{\"href\":\"https://a.espncdn.com/i/teamlogos/nba/500/hou.png\",\"width\":500,\"height\":500,\"alt\":\"\",\"rel\":[\"full\",\"default\"],\"lastUpdated\":\"2018-06-05T12:08Z\"},{\"href\":\"https://a.espncdn.com/i/teamlogos/nba/500-dark/hou.png\",\"width\":500,\"height\":500,\"alt\":\"\",\"rel\":[\"full\",\"dark\"],\"lastUpdated\":\"2018-06-05T12:08Z\"},{\"href\":\"https://a.espncdn.com/i/teamlogos/nba/500/scoreboard/hou.png\",\"width\":500,\"height\":500,\"alt\":\"\",\"rel\":[\"full\",\"scoreboard\"],\"lastUpdated\":\"2018-06-05T12:08Z\"},{\"href\":\"https://a.espncdn.com/i/teamlogos/nba/500-dark/scoreboard/hou.png\",\"width\":500,\"height\":500,\"alt\":\"\",\"rel\":[\"full\",\"scoreboard\",\"dark\"],\"lastUpdated\":\"2018-06-05T12:08Z\"}],\"links\":[{\"language\":\"en-US\",\"rel\":[\"clubhouse\",\"desktop\",\"team\"],\"href\":\"https://www.espn.com/nba/team/_/name/hou/houston-rockets\",\"text\":\"Clubhouse\",\"shortText\":\"Clubhouse\",\"isExternal\":false,\"isPremium\":false}]}},{\"date\":\"2023-02-11T08:00Z\",\"description\":\"Signed G Joe Wieskamp to a rest-of-season contract.\",\"team\":{\"id\":\"28\",\"location\":\"Toronto\",\"name\":\"Raptors\",\"abbreviation\":\"TOR\",\"displayName\":\"Toronto Raptors\",\"color\":\"d91244\",\"alternateColor\":\"000000\",\"logos\":[{\"href\":\"https://a.espncdn.com/i/teamlogos/nba/500/tor.png\",\"width\":500,\"height\":500,\"alt\":\"\",\"rel\":[\"full\",\"default\"],\"lastUpdated\":\"2019-04-09T18:15Z\"},{\"href\":\"https://a.espncdn.com/i/teamlogos/nba/500-dark/tor.png\",\"width\":500,\"height\":500,\"alt\":\"\",\"rel\":[\"full\",\"dark\"],\"lastUpdated\":\"2019-05-31T20:44Z\"},{\"href\":\"https://a.espncdn.com/i/teamlogos/nba/500/scoreboard/tor.png\",\"width\":500,\"height\":500,\"alt\":\"\",\"rel\":[\"full\",\"scoreboard\"],\"lastUpdated\":\"2018-10-11T13:47Z\"},{\"href\":\"https://a.espncdn.com/i/teamlogos/nba/500-dark/scoreboard/tor.png\",\"width\":500,\"height\":500,\"alt\":\"\",\"rel\":[\"full\",\"scoreboard\",\"dark\"],\"lastUpdated\":\"2020-10-08T19:46Z\"}],\"links\":[{\"language\":\"en-US\",\"rel\":[\"clubhouse\",\"desktop\",\"team\"],\"href\":\"https://www.espn.com/nba/team/_/name/tor/toronto-raptors\",\"text\":\"Clubhouse\",\"shortText\":\"Clubhouse\",\"isExternal\":false,\"isPremium\":false}]}},{\"date\":\"2023-02-10T08:00Z\",\"description\":\"Signed G Quentin Jackson to a two-way contract.\",\"team\":{\"id\":\"27\",\"location\":\"Washington\",\"name\":\"Wizards\",\"abbreviation\":\"WSH\",\"displayName\":\"Washington Wizards\",\"color\":\"e31837\",\"alternateColor\":\"002b5c\",\"logos\":[{\"href\":\"https://a.espncdn.com/i/teamlogos/nba/500/wsh.png\",\"width\":500,\"height\":500,\"alt\":\"\",\"rel\":[\"full\",\"default\"],\"lastUpdated\":\"2018-06-05T12:08Z\"},{\"href\":\"https://a.espncdn.com/i/teamlogos/nba/500-dark/wsh.png\",\"width\":500,\"height\":500,\"alt\":\"\",\"rel\":[\"full\",\"dark\"],\"lastUpdated\":\"2018-06-05T12:08Z\"},{\"href\":\"https://a.espncdn.com/i/teamlogos/nba/500/scoreboard/wsh.png\",\"width\":500,\"height\":500,\"alt\":\"\",\"rel\":[\"full\",\"scoreboard\"],\"lastUpdated\":\"2018-06-05T12:08Z\"},{\"href\":\"https://a.espncdn.com/i/teamlogos/nba/500-dark/scoreboard/wsh.png\",\"width\":500,\"height\":500,\"alt\":\"\",\"rel\":[\"full\",\"scoreboard\",\"dark\"],\"lastUpdated\":\"2018-06-05T12:08Z\"}],\"links\":[{\"language\":\"en-US\",\"rel\":[\"clubhouse\",\"desktop\",\"team\"],\"href\":\"https://www.espn.com/nba/team/_/name/wsh/washington-wizards\",\"text\":\"Clubhouse\",\"shortText\":\"Clubhouse\",\"isExternal\":false,\"isPremium\":false}]}},{\"date\":\"2023-02-10T08:00Z\",\"description\":\"Waived F Justin Jackson.\",\"team\":{\"id\":\"25\",\"location\":\"Oklahoma City\",\"name\":\"Thunder\",\"abbreviation\":\"OKC\",\"displayName\":\"Oklahoma City Thunder\",\"color\":\"007ac1\",\"alternateColor\":\"ef3b24\",\"logos\":[{\"href\":\"https://a.espncdn.com/i/teamlogos/nba/500/okc.png\",\"width\":500,\"height\":500,\"alt\":\"\",\"rel\":[\"full\",\"default\"],\"lastUpdated\":\"2018-09-05T22:10Z\"},{\"href\":\"https://a.espncdn.com/i/teamlogos/nba/500-dark/okc.png\",\"width\":500,\"height\":500,\"alt\":\"\",\"rel\":[\"full\",\"dark\"],\"lastUpdated\":\"2018-09-05T22:10Z\"},{\"href\":\"https://a.espncdn.com/i/teamlogos/nba/500/scoreboard/okc.png\",\"width\":500,\"height\":500,\"alt\":\"\",\"rel\":[\"full\",\"scoreboard\"],\"lastUpdated\":\"2018-09-05T22:10Z\"},{\"href\":\"https://a.espncdn.com/i/teamlogos/nba/500-dark/scoreboard/okc.png\",\"width\":500,\"height\":500,\"alt\":\"\",\"rel\":[\"full\",\"scoreboard\",\"dark\"],\"lastUpdated\":\"2018-09-05T22:10Z\"}],\"links\":[{\"language\":\"en-US\",\"rel\":[\"clubhouse\",\"desktop\",\"team\"],\"href\":\"https://www.espn.com/nba/team/_/name/okc/oklahoma-city-thunder\",\"text\":\"Clubhouse\",\"shortText\":\"Clubhouse\",\"isExternal\":false,\"isPremium\":false}]}},{\"date\":\"2023-02-10T08:00Z\",\"description\":\"Signed C Gorgui Dieng to a rest-of-season contract.\",\"team\":{\"id\":\"24\",\"location\":\"San Antonio\",\"name\":\"Spurs\",\"abbreviation\":\"SA\",\"displayName\":\"San Antonio Spurs\",\"color\":\"000000\",\"alternateColor\":\"c4ced4\",\"logos\":[{\"href\":\"https://a.espncdn.com/i/teamlogos/nba/500/sa.png\",\"width\":500,\"height\":500,\"alt\":\"\",\"rel\":[\"full\",\"default\"],\"lastUpdated\":\"2018-06-05T12:08Z\"},{\"href\":\"https://a.espncdn.com/i/teamlogos/nba/500-dark/sa.png\",\"width\":500,\"height\":500,\"alt\":\"\",\"rel\":[\"full\",\"dark\"],\"lastUpdated\":\"2018-06-05T12:08Z\"},{\"href\":\"https://a.espncdn.com/i/teamlogos/nba/500/scoreboard/sa.png\",\"width\":500,\"height\":500,\"alt\":\"\",\"rel\":[\"full\",\"scoreboard\"],\"lastUpdated\":\"2018-06-05T12:08Z\"},{\"href\":\"https://a.espncdn.com/i/teamlogos/nba/500-dark/scoreboard/sa.png\",\"width\":500,\"height\":500,\"alt\":\"\",\"rel\":[\"full\",\"scoreboard\",\"dark\"],\"lastUpdated\":\"2018-06-05T12:08Z\"}],\"links\":[{\"language\":\"en-US\",\"rel\":[\"clubhouse\",\"desktop\",\"team\"],\"href\":\"https://www.espn.com/nba/team/_/name/sa/san-antonio-spurs\",\"text\":\"Clubhouse\",\"shortText\":\"Clubhouse\",\"isExternal\":false,\"isPremium\":false}]}},{\"date\":\"2023-02-10T08:00Z\",\"description\":\"Signed G Stanley Umude to a 10-day contract.\",\"team\":{\"id\":\"8\",\"location\":\"Detroit\",\"name\":\"Pistons\",\"abbreviation\":\"DET\",\"displayName\":\"Detroit Pistons\",\"color\":\"1d428a\",\"alternateColor\":\"c8102e\",\"logos\":[{\"href\":\"https://a.espncdn.com/i/teamlogos/nba/500/det.png\",\"width\":500,\"height\":500,\"alt\":\"\",\"rel\":[\"full\",\"default\"],\"lastUpdated\":\"2018-06-05T12:08Z\"},{\"href\":\"https://a.espncdn.com/i/teamlogos/nba/500-dark/det.png\",\"width\":500,\"height\":500,\"alt\":\"\",\"rel\":[\"full\",\"dark\"],\"lastUpdated\":\"2018-06-05T12:08Z\"},{\"href\":\"https://a.espncdn.com/i/teamlogos/nba/500/scoreboard/det.png\",\"width\":500,\"height\":500,\"alt\":\"\",\"rel\":[\"full\",\"scoreboard\"],\"lastUpdated\":\"2018-06-05T12:08Z\"},{\"href\":\"https://a.espncdn.com/i/teamlogos/nba/500-dark/scoreboard/det.png\",\"width\":500,\"height\":500,\"alt\":\"\",\"rel\":[\"full\",\"scoreboard\",\"dark\"],\"lastUpdated\":\"2018-06-05T12:08Z\"}],\"links\":[{\"language\":\"en-US\",\"rel\":[\"clubhouse\",\"desktop\",\"team\"],\"href\":\"https://www.espn.com/nba/team/_/name/det/detroit-pistons\",\"text\":\"Clubhouse\",\"shortText\":\"Clubhouse\",\"isExternal\":false,\"isPremium\":false}]}},{\"date\":\"2023-02-10T08:00Z\",\"description\":\"Signed F Chris Silva to a 10-day contract.\",\"team\":{\"id\":\"6\",\"location\":\"Dallas\",\"name\":\"Mavericks\",\"abbreviation\":\"DAL\",\"displayName\":\"Dallas Mavericks\",\"color\":\"0064b1\",\"alternateColor\":\"bbc4ca\",\"logos\":[{\"href\":\"https://a.espncdn.com/i/teamlogos/nba/500/dal.png\",\"width\":500,\"height\":500,\"alt\":\"\",\"rel\":[\"full\",\"default\"],\"lastUpdated\":\"2018-06-05T12:08Z\"},{\"href\":\"https://a.espncdn.com/i/teamlogos/nba/500-dark/dal.png\",\"width\":500,\"height\":500,\"alt\":\"\",\"rel\":[\"full\",\"dark\"],\"lastUpdated\":\"2018-06-05T12:08Z\"},{\"href\":\"https://a.espncdn.com/i/teamlogos/nba/500/scoreboard/dal.png\",\"width\":500,\"height\":500,\"alt\":\"\",\"rel\":[\"full\",\"scoreboard\"],\"lastUpdated\":\"2018-06-05T12:08Z\"},{\"href\":\"https://a.espncdn.com/i/teamlogos/nba/500-dark/scoreboard/dal.png\",\"width\":500,\"height\":500,\"alt\":\"\",\"rel\":[\"full\",\"scoreboard\",\"dark\"],\"lastUpdated\":\"2018-06-05T12:08Z\"}],\"links\":[{\"language\":\"en-US\",\"rel\":[\"clubhouse\",\"desktop\",\"team\"],\"href\":\"https://www.espn.com/nba/team/_/name/dal/dallas-mavericks\",\"text\":\"Clubhouse\",\"shortText\":\"Clubhouse\",\"isExternal\":false,\"isPremium\":false}]}},{\"date\":\"2023-02-09T08:00Z\",\"description\":\"Acquired a 2028 second-round pick, G Reggie Jackson and cash considerations from the L.A. Clippers in exchange for C Mason Plumlee.\",\"team\":{\"id\":\"30\",\"location\":\"Charlotte\",\"name\":\"Hornets\",\"abbreviation\":\"CHA\",\"displayName\":\"Charlotte Hornets\",\"color\":\"008ca8\",\"alternateColor\":\"1d1060\",\"logos\":[{\"href\":\"https://a.espncdn.com/i/teamlogos/nba/500/cha.png\",\"width\":500,\"height\":500,\"alt\":\"\",\"rel\":[\"full\",\"default\"],\"lastUpdated\":\"2018-06-05T12:08Z\"},{\"href\":\"https://a.espncdn.com/i/teamlogos/nba/500-dark/cha.png\",\"width\":500,\"height\":500,\"alt\":\"\",\"rel\":[\"full\",\"dark\"],\"lastUpdated\":\"2018-06-05T12:08Z\"},{\"href\":\"https://a.espncdn.com/i/teamlogos/nba/500/scoreboard/cha.png\",\"width\":500,\"height\":500,\"alt\":\"\",\"rel\":[\"full\",\"scoreboard\"],\"lastUpdated\":\"2018-06-05T12:08Z\"},{\"href\":\"https://a.espncdn.com/i/teamlogos/nba/500-dark/scoreboard/cha.png\",\"width\":500,\"height\":500,\"alt\":\"\",\"rel\":[\"full\",\"scoreboard\",\"dark\"],\"lastUpdated\":\"2018-06-05T12:08Z\"}],\"links\":[{\"language\":\"en-US\",\"rel\":[\"clubhouse\",\"desktop\",\"team\"],\"href\":\"https://www.espn.com/nba/team/_/name/cha/charlotte-hornets\",\"text\":\"Clubhouse\",\"shortText\":\"Clubhouse\",\"isExternal\":false,\"isPremium\":false}]}},{\"date\":\"2023-02-09T08:00Z\",\"description\":\"Traded C Khem Birch and a draft consideration to San Antonio Spurs for C Jakob Poelti.\",\"team\":{\"id\":\"28\",\"location\":\"Toronto\",\"name\":\"Raptors\",\"abbreviation\":\"TOR\",\"displayName\":\"Toronto Raptors\",\"color\":\"d91244\",\"alternateColor\":\"000000\",\"logos\":[{\"href\":\"https://a.espncdn.com/i/teamlogos/nba/500/tor.png\",\"width\":500,\"height\":500,\"alt\":\"\",\"rel\":[\"full\",\"default\"],\"lastUpdated\":\"2019-04-09T18:15Z\"},{\"href\":\"https://a.espncdn.com/i/teamlogos/nba/500-dark/tor.png\",\"width\":500,\"height\":500,\"alt\":\"\",\"rel\":[\"full\",\"dark\"],\"lastUpdated\":\"2019-05-31T20:44Z\"},{\"href\":\"https://a.espncdn.com/i/teamlogos/nba/500/scoreboard/tor.png\",\"width\":500,\"height\":500,\"alt\":\"\",\"rel\":[\"full\",\"scoreboard\"],\"lastUpdated\":\"2018-10-11T13:47Z\"},{\"href\":\"https://a.espncdn.com/i/teamlogos/nba/500-dark/scoreboard/tor.png\",\"width\":500,\"height\":500,\"alt\":\"\",\"rel\":[\"full\",\"scoreboard\",\"dark\"],\"lastUpdated\":\"2020-10-08T19:46Z\"}],\"links\":[{\"language\":\"en-US\",\"rel\":[\"clubhouse\",\"desktop\",\"team\"],\"href\":\"https://www.espn.com/nba/team/_/name/tor/toronto-raptors\",\"text\":\"Clubhouse\",\"shortText\":\"Clubhouse\",\"isExternal\":false,\"isPremium\":false}]}},{\"date\":\"2023-02-09T08:00Z\",\"description\":\"Acquired F Juan Toscano-Anderson, C Damian Jones, G Russel Westbrook and a draft consideration from Los Angeles Lakers for F Jarred Vanderbilt and G Malik Beasley.\",\"team\":{\"id\":\"26\",\"location\":\"Utah\",\"name\":\"Jazz\",\"abbreviation\":\"UTAH\",\"displayName\":\"Utah Jazz\",\"color\":\"fff21f\",\"alternateColor\":\"000000\",\"logos\":[{\"href\":\"https://a.espncdn.com/i/teamlogos/nba/500/utah.png\",\"width\":500,\"height\":500,\"alt\":\"\",\"rel\":[\"full\",\"default\"],\"lastUpdated\":\"2022-11-23T20:20Z\"},{\"href\":\"https://a.espncdn.com/i/teamlogos/nba/500-dark/utah.png\",\"width\":500,\"height\":500,\"alt\":\"\",\"rel\":[\"full\",\"dark\"],\"lastUpdated\":\"2023-03-01T12:03Z\"},{\"href\":\"https://a.espncdn.com/i/teamlogos/nba/500/scoreboard/utah.png\",\"width\":500,\"height\":500,\"alt\":\"\",\"rel\":[\"full\",\"scoreboard\"],\"lastUpdated\":\"2022-11-23T20:22Z\"},{\"href\":\"https://a.espncdn.com/i/teamlogos/nba/500-dark/scoreboard/utah.png\",\"width\":500,\"height\":500,\"alt\":\"\",\"rel\":[\"full\",\"scoreboard\",\"dark\"],\"lastUpdated\":\"2023-03-01T12:03Z\"}],\"links\":[{\"language\":\"en-US\",\"rel\":[\"clubhouse\",\"desktop\",\"team\"],\"href\":\"https://www.espn.com/nba/team/_/name/utah/utah-jazz\",\"text\":\"Clubhouse\",\"shortText\":\"Clubhouse\",\"isExternal\":false,\"isPremium\":false}]}},{\"date\":\"2023-02-09T08:00Z\",\"description\":\"Acquired F Dario Saric and draft consideration from Phoenix Suns for F Darius Bzaley.\",\"team\":{\"id\":\"25\",\"location\":\"Oklahoma City\",\"name\":\"Thunder\",\"abbreviation\":\"OKC\",\"displayName\":\"Oklahoma City Thunder\",\"color\":\"007ac1\",\"alternateColor\":\"ef3b24\",\"logos\":[{\"href\":\"https://a.espncdn.com/i/teamlogos/nba/500/okc.png\",\"width\":500,\"height\":500,\"alt\":\"\",\"rel\":[\"full\",\"default\"],\"lastUpdated\":\"2018-09-05T22:10Z\"},{\"href\":\"https://a.espncdn.com/i/teamlogos/nba/500-dark/okc.png\",\"width\":500,\"height\":500,\"alt\":\"\",\"rel\":[\"full\",\"dark\"],\"lastUpdated\":\"2018-09-05T22:10Z\"},{\"href\":\"https://a.espncdn.com/i/teamlogos/nba/500/scoreboard/okc.png\",\"width\":500,\"height\":500,\"alt\":\"\",\"rel\":[\"full\",\"scoreboard\"],\"lastUpdated\":\"2018-09-05T22:10Z\"},{\"href\":\"https://a.espncdn.com/i/teamlogos/nba/500-dark/scoreboard/okc.png\",\"width\":500,\"height\":500,\"alt\":\"\",\"rel\":[\"full\",\"scoreboard\",\"dark\"],\"lastUpdated\":\"2018-09-05T22:10Z\"}],\"links\":[{\"language\":\"en-US\",\"rel\":[\"clubhouse\",\"desktop\",\"team\"],\"href\":\"https://www.espn.com/nba/team/_/name/okc/oklahoma-city-thunder\",\"text\":\"Clubhouse\",\"shortText\":\"Clubhouse\",\"isExternal\":false,\"isPremium\":false}]}},{\"date\":\"2023-02-09T08:00Z\",\"description\":\"Traded C Jakob Poelti to Toronto in exchange for C Khem Birch and a draft consideration. Waived C Dwayne Dedmon.\",\"team\":{\"id\":\"24\",\"location\":\"San Antonio\",\"name\":\"Spurs\",\"abbreviation\":\"SA\",\"displayName\":\"San Antonio Spurs\",\"color\":\"000000\",\"alternateColor\":\"c4ced4\",\"logos\":[{\"href\":\"https://a.espncdn.com/i/teamlogos/nba/500/sa.png\",\"width\":500,\"height\":500,\"alt\":\"\",\"rel\":[\"full\",\"default\"],\"lastUpdated\":\"2018-06-05T12:08Z\"},{\"href\":\"https://a.espncdn.com/i/teamlogos/nba/500-dark/sa.png\",\"width\":500,\"height\":500,\"alt\":\"\",\"rel\":[\"full\",\"dark\"],\"lastUpdated\":\"2018-06-05T12:08Z\"},{\"href\":\"https://a.espncdn.com/i/teamlogos/nba/500/scoreboard/sa.png\",\"width\":500,\"height\":500,\"alt\":\"\",\"rel\":[\"full\",\"scoreboard\"],\"lastUpdated\":\"2018-06-05T12:08Z\"},{\"href\":\"https://a.espncdn.com/i/teamlogos/nba/500-dark/scoreboard/sa.png\",\"width\":500,\"height\":500,\"alt\":\"\",\"rel\":[\"full\",\"scoreboard\",\"dark\"],\"lastUpdated\":\"2018-06-05T12:08Z\"}],\"links\":[{\"language\":\"en-US\",\"rel\":[\"clubhouse\",\"desktop\",\"team\"],\"href\":\"https://www.espn.com/nba/team/_/name/sa/san-antonio-spurs\",\"text\":\"Clubhouse\",\"shortText\":\"Clubhouse\",\"isExternal\":false,\"isPremium\":false}]}},{\"date\":\"2023-02-09T08:00Z\",\"description\":\"Received draft consideration from Golden State. Acquired F Kevin Knox II from Detroit.\",\"team\":{\"id\":\"22\",\"location\":\"Portland\",\"name\":\"Trail Blazers\",\"abbreviation\":\"POR\",\"displayName\":\"Portland Trail Blazers\",\"color\":\"e03a3e\",\"alternateColor\":\"000000\",\"logos\":[{\"href\":\"https://a.espncdn.com/i/teamlogos/nba/500/por.png\",\"width\":500,\"height\":500,\"alt\":\"\",\"rel\":[\"full\",\"default\"],\"lastUpdated\":\"2018-06-05T12:08Z\"},{\"href\":\"https://a.espncdn.com/i/teamlogos/nba/500-dark/por.png\",\"width\":500,\"height\":500,\"alt\":\"\",\"rel\":[\"full\",\"dark\"],\"lastUpdated\":\"2018-06-05T12:08Z\"},{\"href\":\"https://a.espncdn.com/i/teamlogos/nba/500/scoreboard/por.png\",\"width\":500,\"height\":500,\"alt\":\"\",\"rel\":[\"full\",\"scoreboard\"],\"lastUpdated\":\"2018-06-05T12:08Z\"},{\"href\":\"https://a.espncdn.com/i/teamlogos/nba/500-dark/scoreboard/por.png\",\"width\":500,\"height\":500,\"alt\":\"\",\"rel\":[\"full\",\"scoreboard\",\"dark\"],\"lastUpdated\":\"2018-06-05T12:08Z\"}],\"links\":[{\"language\":\"en-US\",\"rel\":[\"clubhouse\",\"desktop\",\"team\"],\"href\":\"https://www.espn.com/nba/team/_/name/por/portland-trail-blazers\",\"text\":\"Clubhouse\",\"shortText\":\"Clubhouse\",\"isExternal\":false,\"isPremium\":false}]}},{\"date\":\"2023-02-09T08:00Z\",\"description\":\"Acquired Fs Kevin Durant and T.J. Warren from Brooklyn in exchange for Mikal Bridges, Cam Johnson, Jae Crowder, four future first-round picks and a pick swap. Acquired F Darius Bzaley from Oklahoma City in exchange for F Dario Saric and draft consideration.\",\"team\":{\"id\":\"21\",\"location\":\"Phoenix\",\"name\":\"Suns\",\"abbreviation\":\"PHX\",\"displayName\":\"Phoenix Suns\",\"color\":\"29127a\",\"alternateColor\":\"e56020\",\"logos\":[{\"href\":\"https://a.espncdn.com/i/teamlogos/nba/500/phx.png\",\"width\":500,\"height\":500,\"alt\":\"\",\"rel\":[\"full\",\"default\"],\"lastUpdated\":\"2018-06-05T12:08Z\"},{\"href\":\"https://a.espncdn.com/i/teamlogos/nba/500-dark/phx.png\",\"width\":500,\"height\":500,\"alt\":\"\",\"rel\":[\"full\",\"dark\"],\"lastUpdated\":\"2018-06-05T12:08Z\"},{\"href\":\"https://a.espncdn.com/i/teamlogos/nba/500/scoreboard/phx.png\",\"width\":500,\"height\":500,\"alt\":\"\",\"rel\":[\"full\",\"scoreboard\"],\"lastUpdated\":\"2018-06-05T12:08Z\"},{\"href\":\"https://a.espncdn.com/i/teamlogos/nba/500-dark/scoreboard/phx.png\",\"width\":500,\"height\":500,\"alt\":\"\",\"rel\":[\"full\",\"scoreboard\",\"dark\"],\"lastUpdated\":\"2018-06-05T12:08Z\"}],\"links\":[{\"language\":\"en-US\",\"rel\":[\"clubhouse\",\"desktop\",\"team\"],\"href\":\"https://www.espn.com/nba/team/_/name/phx/phoenix-suns\",\"text\":\"Clubhouse\",\"shortText\":\"Clubhouse\",\"isExternal\":false,\"isPremium\":false}]}},{\"date\":\"2023-02-09T08:00Z\",\"description\":\"Acquired G Patrick Beverley from the L.A. Lakers and draft considerations from Denver in a four-team trade.\",\"team\":{\"id\":\"19\",\"location\":\"Orlando\",\"name\":\"Magic\",\"abbreviation\":\"ORL\",\"displayName\":\"Orlando Magic\",\"color\":\"0077c0\",\"alternateColor\":\"c4ced4\",\"logos\":[{\"href\":\"https://a.espncdn.com/i/teamlogos/nba/500/orl.png\",\"width\":500,\"height\":500,\"alt\":\"\",\"rel\":[\"full\",\"default\"],\"lastUpdated\":\"2018-06-05T12:08Z\"},{\"href\":\"https://a.espncdn.com/i/teamlogos/nba/500-dark/orl.png\",\"width\":500,\"height\":500,\"alt\":\"\",\"rel\":[\"full\",\"dark\"],\"lastUpdated\":\"2018-06-05T12:08Z\"},{\"href\":\"https://a.espncdn.com/i/teamlogos/nba/500/scoreboard/orl.png\",\"width\":500,\"height\":500,\"alt\":\"\",\"rel\":[\"full\",\"scoreboard\"],\"lastUpdated\":\"2018-06-05T12:08Z\"},{\"href\":\"https://a.espncdn.com/i/teamlogos/nba/500-dark/scoreboard/orl.png\",\"width\":500,\"height\":500,\"alt\":\"\",\"rel\":[\"full\",\"scoreboard\",\"dark\"],\"lastUpdated\":\"2018-06-05T12:08Z\"}],\"links\":[{\"language\":\"en-US\",\"rel\":[\"clubhouse\",\"desktop\",\"team\"],\"href\":\"https://www.espn.com/nba/team/_/name/orl/orlando-magic\",\"text\":\"Clubhouse\",\"shortText\":\"Clubhouse\",\"isExternal\":false,\"isPremium\":false}]}},{\"date\":\"2023-02-09T08:00Z\",\"description\":\"Acquired draft considerations from Milwaukee Bucks for F Jae Crowder.\",\"team\":{\"id\":\"17\",\"location\":\"Brooklyn\",\"name\":\"Nets\",\"abbreviation\":\"BKN\",\"displayName\":\"Brooklyn Nets\",\"color\":\"000000\",\"alternateColor\":\"ffffff\",\"logos\":[{\"href\":\"https://a.espncdn.com/i/teamlogos/nba/500/bkn.png\",\"width\":500,\"height\":500,\"alt\":\"\",\"rel\":[\"full\",\"default\"],\"lastUpdated\":\"2018-06-05T12:08Z\"},{\"href\":\"https://a.espncdn.com/i/teamlogos/nba/500-dark/bkn.png\",\"width\":500,\"height\":500,\"alt\":\"\",\"rel\":[\"full\",\"dark\"],\"lastUpdated\":\"2018-06-05T12:08Z\"},{\"href\":\"https://a.espncdn.com/i/teamlogos/nba/500/scoreboard/bkn.png\",\"width\":500,\"height\":500,\"alt\":\"\",\"rel\":[\"full\",\"scoreboard\"],\"lastUpdated\":\"2018-06-05T12:08Z\"},{\"href\":\"https://a.espncdn.com/i/teamlogos/nba/500-dark/scoreboard/bkn.png\",\"width\":500,\"height\":500,\"alt\":\"\",\"rel\":[\"full\",\"scoreboard\",\"dark\"],\"lastUpdated\":\"2018-06-05T12:08Z\"}],\"links\":[{\"language\":\"en-US\",\"rel\":[\"clubhouse\",\"desktop\",\"team\"],\"href\":\"https://www.espn.com/nba/team/_/name/bkn/brooklyn-nets\",\"text\":\"Clubhouse\",\"shortText\":\"Clubhouse\",\"isExternal\":false,\"isPremium\":false}]}},{\"date\":\"2023-02-09T08:00Z\",\"description\":\"Acquired Gs Nickeil Alexander-Walker, Mike Conley and a 2025 and 2026 second-round draft pick from Utah. Waived G Bryn Forbes.\",\"team\":{\"id\":\"16\",\"location\":\"Minnesota\",\"name\":\"Timberwolves\",\"abbreviation\":\"MIN\",\"displayName\":\"Minnesota Timberwolves\",\"color\":\"266092\",\"alternateColor\":\"79bc43\",\"logos\":[{\"href\":\"https://a.espncdn.com/i/teamlogos/nba/500/min.png\",\"width\":500,\"height\":500,\"alt\":\"\",\"rel\":[\"full\",\"default\"],\"lastUpdated\":\"2018-06-05T12:08Z\"},{\"href\":\"https://a.espncdn.com/i/teamlogos/nba/500-dark/min.png\",\"width\":500,\"height\":500,\"alt\":\"\",\"rel\":[\"full\",\"dark\"],\"lastUpdated\":\"2018-06-05T12:08Z\"},{\"href\":\"https://a.espncdn.com/i/teamlogos/nba/500/scoreboard/min.png\",\"width\":500,\"height\":500,\"alt\":\"\",\"rel\":[\"full\",\"scoreboard\"],\"lastUpdated\":\"2018-06-05T12:08Z\"},{\"href\":\"https://a.espncdn.com/i/teamlogos/nba/500-dark/scoreboard/min.png\",\"width\":500,\"height\":500,\"alt\":\"\",\"rel\":[\"full\",\"scoreboard\",\"dark\"],\"lastUpdated\":\"2018-06-05T12:08Z\"}],\"links\":[{\"language\":\"en-US\",\"rel\":[\"clubhouse\",\"desktop\",\"team\"],\"href\":\"https://www.espn.com/nba/team/_/name/min/minnesota-timberwolves\",\"text\":\"Clubhouse\",\"shortText\":\"Clubhouse\",\"isExternal\":false,\"isPremium\":false}]}},{\"date\":\"2023-02-09T08:00Z\",\"description\":\"Acquired F Jae Crowder from Brooklyn in exchange for draft considerations.\",\"team\":{\"id\":\"15\",\"location\":\"Milwaukee\",\"name\":\"Bucks\",\"abbreviation\":\"MIL\",\"displayName\":\"Milwaukee Bucks\",\"color\":\"00471b\",\"alternateColor\":\"eee1c6\",\"logos\":[{\"href\":\"https://a.espncdn.com/i/teamlogos/nba/500/mil.png\",\"width\":500,\"height\":500,\"alt\":\"\",\"rel\":[\"full\",\"default\"],\"lastUpdated\":\"2018-06-05T12:08Z\"},{\"href\":\"https://a.espncdn.com/i/teamlogos/nba/500-dark/mil.png\",\"width\":500,\"height\":500,\"alt\":\"\",\"rel\":[\"full\",\"dark\"],\"lastUpdated\":\"2018-06-05T12:08Z\"},{\"href\":\"https://a.espncdn.com/i/teamlogos/nba/500/scoreboard/mil.png\",\"width\":500,\"height\":500,\"alt\":\"\",\"rel\":[\"full\",\"scoreboard\"],\"lastUpdated\":\"2018-06-05T12:08Z\"},{\"href\":\"https://a.espncdn.com/i/teamlogos/nba/500-dark/scoreboard/mil.png\",\"width\":500,\"height\":500,\"alt\":\"\",\"rel\":[\"full\",\"scoreboard\",\"dark\"],\"lastUpdated\":\"2018-06-05T12:08Z\"}],\"links\":[{\"language\":\"en-US\",\"rel\":[\"clubhouse\",\"desktop\",\"team\"],\"href\":\"https://www.espn.com/nba/team/_/name/mil/milwaukee-bucks\",\"text\":\"Clubhouse\",\"shortText\":\"Clubhouse\",\"isExternal\":false,\"isPremium\":false}]}},{\"date\":\"2023-02-09T08:00Z\",\"description\":\"Acquired G D'Angelo Russell from Minnesota in exchange for a 2024 draft pick. Acquired F Jarred Vanderbilt and G Malik Beasley from Utah in exchange for F Juan Toscano-Anderson, C Damian Jones, G Russel Westbrook and a draft consideration. Acquired G Davon Reed and a second-round pick from Denver in exchange for C Thomas Bryant. Acquired C Mo Bamba from Orlando in a four-team trade.\",\"team\":{\"id\":\"13\",\"location\":\"Los Angeles\",\"name\":\"Lakers\",\"abbreviation\":\"LAL\",\"displayName\":\"Los Angeles Lakers\",\"color\":\"552583\",\"alternateColor\":\"fdb927\",\"logos\":[{\"href\":\"https://a.espncdn.com/i/teamlogos/nba/500/lal.png\",\"width\":500,\"height\":500,\"alt\":\"\",\"rel\":[\"full\",\"default\"],\"lastUpdated\":\"2018-06-05T12:08Z\"},{\"href\":\"https://a.espncdn.com/i/teamlogos/nba/500-dark/lal.png\",\"width\":500,\"height\":500,\"alt\":\"\",\"rel\":[\"full\",\"dark\"],\"lastUpdated\":\"2018-06-05T12:08Z\"},{\"href\":\"https://a.espncdn.com/i/teamlogos/nba/500/scoreboard/lal.png\",\"width\":500,\"height\":500,\"alt\":\"\",\"rel\":[\"full\",\"scoreboard\"],\"lastUpdated\":\"2018-06-05T12:08Z\"},{\"href\":\"https://a.espncdn.com/i/teamlogos/nba/500-dark/scoreboard/lal.png\",\"width\":500,\"height\":500,\"alt\":\"\",\"rel\":[\"full\",\"scoreboard\",\"dark\"],\"lastUpdated\":\"2018-06-05T12:08Z\"}],\"links\":[{\"language\":\"en-US\",\"rel\":[\"clubhouse\",\"desktop\",\"team\"],\"href\":\"https://www.espn.com/nba/team/_/name/lal/los-angeles-lakers\",\"text\":\"Clubhouse\",\"shortText\":\"Clubhouse\",\"isExternal\":false,\"isPremium\":false}]}},{\"date\":\"2023-02-09T08:00Z\",\"description\":\"Acquired F Jordan Nwora, G George Hill, F Serge Ibaka and 3 future second-round picks from Milwaukee, as well as cash considerations from Brooklyn, as part of a 4-team trade.\",\"team\":{\"id\":\"11\",\"location\":\"Indiana\",\"name\":\"Pacers\",\"abbreviation\":\"IND\",\"displayName\":\"Indiana Pacers\",\"color\":\"002d62\",\"alternateColor\":\"fdbb30\",\"logos\":[{\"href\":\"https://a.espncdn.com/i/teamlogos/nba/500/ind.png\",\"width\":500,\"height\":500,\"alt\":\"\",\"rel\":[\"full\",\"default\"],\"lastUpdated\":\"2018-06-05T12:08Z\"},{\"href\":\"https://a.espncdn.com/i/teamlogos/nba/500-dark/ind.png\",\"width\":500,\"height\":500,\"alt\":\"\",\"rel\":[\"full\",\"dark\"],\"lastUpdated\":\"2018-06-05T12:08Z\"},{\"href\":\"https://a.espncdn.com/i/teamlogos/nba/500/scoreboard/ind.png\",\"width\":500,\"height\":500,\"alt\":\"\",\"rel\":[\"full\",\"scoreboard\"],\"lastUpdated\":\"2018-06-05T12:08Z\"},{\"href\":\"https://a.espncdn.com/i/teamlogos/nba/500-dark/scoreboard/ind.png\",\"width\":500,\"height\":500,\"alt\":\"\",\"rel\":[\"full\",\"scoreboard\",\"dark\"],\"lastUpdated\":\"2018-06-05T12:08Z\"}],\"links\":[{\"language\":\"en-US\",\"rel\":[\"clubhouse\",\"desktop\",\"team\"],\"href\":\"https://www.espn.com/nba/team/_/name/ind/indiana-pacers\",\"text\":\"Clubhouse\",\"shortText\":\"Clubhouse\",\"isExternal\":false,\"isPremium\":false}]}},{\"date\":\"2023-02-09T08:00Z\",\"description\":\"Acquired Fs Frank Kaminsky, Justin Holiday and draft considerations from Atlanta Hawks for G Garrison Mathews and F Bruno Fernando.\",\"team\":{\"id\":\"10\",\"location\":\"Houston\",\"name\":\"Rockets\",\"abbreviation\":\"HOU\",\"displayName\":\"Houston Rockets\",\"color\":\"ce1141\",\"alternateColor\":\"000000\",\"logos\":[{\"href\":\"https://a.espncdn.com/i/teamlogos/nba/500/hou.png\",\"width\":500,\"height\":500,\"alt\":\"\",\"rel\":[\"full\",\"default\"],\"lastUpdated\":\"2018-06-05T12:08Z\"},{\"href\":\"https://a.espncdn.com/i/teamlogos/nba/500-dark/hou.png\",\"width\":500,\"height\":500,\"alt\":\"\",\"rel\":[\"full\",\"dark\"],\"lastUpdated\":\"2018-06-05T12:08Z\"},{\"href\":\"https://a.espncdn.com/i/teamlogos/nba/500/scoreboard/hou.png\",\"width\":500,\"height\":500,\"alt\":\"\",\"rel\":[\"full\",\"scoreboard\"],\"lastUpdated\":\"2018-06-05T12:08Z\"},{\"href\":\"https://a.espncdn.com/i/teamlogos/nba/500-dark/scoreboard/hou.png\",\"width\":500,\"height\":500,\"alt\":\"\",\"rel\":[\"full\",\"scoreboard\",\"dark\"],\"lastUpdated\":\"2018-06-05T12:08Z\"}],\"links\":[{\"language\":\"en-US\",\"rel\":[\"clubhouse\",\"desktop\",\"team\"],\"href\":\"https://www.espn.com/nba/team/_/name/hou/houston-rockets\",\"text\":\"Clubhouse\",\"shortText\":\"Clubhouse\",\"isExternal\":false,\"isPremium\":false}]}},{\"date\":\"2023-02-09T08:00Z\",\"description\":\"Acquired G Gary Payton II from Portland in a four-team trade.\",\"team\":{\"id\":\"9\",\"location\":\"Golden State\",\"name\":\"Warriors\",\"abbreviation\":\"GS\",\"displayName\":\"Golden State Warriors\",\"color\":\"1d428a\",\"alternateColor\":\"fdb927\",\"logos\":[{\"href\":\"https://a.espncdn.com/i/teamlogos/nba/500/gs.png\",\"width\":500,\"height\":500,\"alt\":\"\",\"rel\":[\"full\",\"default\"],\"lastUpdated\":\"2019-09-23T15:45Z\"},{\"href\":\"https://a.espncdn.com/i/teamlogos/nba/500-dark/gs.png\",\"width\":500,\"height\":500,\"alt\":\"\",\"rel\":[\"full\",\"dark\"],\"lastUpdated\":\"2019-09-30T14:23Z\"},{\"href\":\"https://a.espncdn.com/i/teamlogos/nba/500/scoreboard/gs.png\",\"width\":500,\"height\":500,\"alt\":\"\",\"rel\":[\"full\",\"scoreboard\"],\"lastUpdated\":\"2019-09-30T14:23Z\"},{\"href\":\"https://a.espncdn.com/i/teamlogos/nba/500-dark/scoreboard/gs.png\",\"width\":500,\"height\":500,\"alt\":\"\",\"rel\":[\"full\",\"scoreboard\",\"dark\"],\"lastUpdated\":\"2019-09-30T20:00Z\"}],\"links\":[{\"language\":\"en-US\",\"rel\":[\"clubhouse\",\"desktop\",\"team\"],\"href\":\"https://www.espn.com/nba/team/_/name/gs/golden-state-warriors\",\"text\":\"Clubhouse\",\"shortText\":\"Clubhouse\",\"isExternal\":false,\"isPremium\":false}]}},{\"date\":\"2023-02-09T08:00Z\",\"description\":\"Acquired C James Wiseman from Golden State in a four-team trade.\",\"team\":{\"id\":\"8\",\"location\":\"Detroit\",\"name\":\"Pistons\",\"abbreviation\":\"DET\",\"displayName\":\"Detroit Pistons\",\"color\":\"1d428a\",\"alternateColor\":\"c8102e\",\"logos\":[{\"href\":\"https://a.espncdn.com/i/teamlogos/nba/500/det.png\",\"width\":500,\"height\":500,\"alt\":\"\",\"rel\":[\"full\",\"default\"],\"lastUpdated\":\"2018-06-05T12:08Z\"},{\"href\":\"https://a.espncdn.com/i/teamlogos/nba/500-dark/det.png\",\"width\":500,\"height\":500,\"alt\":\"\",\"rel\":[\"full\",\"dark\"],\"lastUpdated\":\"2018-06-05T12:08Z\"},{\"href\":\"https://a.espncdn.com/i/teamlogos/nba/500/scoreboard/det.png\",\"width\":500,\"height\":500,\"alt\":\"\",\"rel\":[\"full\",\"scoreboard\"],\"lastUpdated\":\"2018-06-05T12:08Z\"},{\"href\":\"https://a.espncdn.com/i/teamlogos/nba/500-dark/scoreboard/det.png\",\"width\":500,\"height\":500,\"alt\":\"\",\"rel\":[\"full\",\"scoreboard\",\"dark\"],\"lastUpdated\":\"2018-06-05T12:08Z\"}],\"links\":[{\"language\":\"en-US\",\"rel\":[\"clubhouse\",\"desktop\",\"team\"],\"href\":\"https://www.espn.com/nba/team/_/name/det/detroit-pistons\",\"text\":\"Clubhouse\",\"shortText\":\"Clubhouse\",\"isExternal\":false,\"isPremium\":false}]}},{\"date\":\"2023-02-09T08:00Z\",\"description\":\"Acquired C Thomas Bryant from Los Angeles Lakers for G Davon Reed and a second-round pick.\",\"team\":{\"id\":\"7\",\"location\":\"Denver\",\"name\":\"Nuggets\",\"abbreviation\":\"DEN\",\"displayName\":\"Denver Nuggets\",\"color\":\"0e2240\",\"alternateColor\":\"fec524\",\"logos\":[{\"href\":\"https://a.espncdn.com/i/teamlogos/nba/500/den.png\",\"width\":500,\"height\":500,\"alt\":\"\",\"rel\":[\"full\",\"default\"],\"lastUpdated\":\"2018-10-04T15:12Z\"},{\"href\":\"https://a.espncdn.com/i/teamlogos/nba/500-dark/den.png\",\"width\":500,\"height\":500,\"alt\":\"\",\"rel\":[\"full\",\"dark\"],\"lastUpdated\":\"2018-10-04T15:12Z\"},{\"href\":\"https://a.espncdn.com/i/teamlogos/nba/500/scoreboard/den.png\",\"width\":500,\"height\":500,\"alt\":\"\",\"rel\":[\"full\",\"scoreboard\"],\"lastUpdated\":\"2018-10-04T15:13Z\"},{\"href\":\"https://a.espncdn.com/i/teamlogos/nba/500-dark/scoreboard/den.png\",\"width\":500,\"height\":500,\"alt\":\"\",\"rel\":[\"full\",\"scoreboard\",\"dark\"],\"lastUpdated\":\"2018-10-04T15:13Z\"}],\"links\":[{\"language\":\"en-US\",\"rel\":[\"clubhouse\",\"desktop\",\"team\"],\"href\":\"https://www.espn.com/nba/team/_/name/den/denver-nuggets\",\"text\":\"Clubhouse\",\"shortText\":\"Clubhouse\",\"isExternal\":false,\"isPremium\":false}]}},{\"date\":\"2023-02-09T08:00Z\",\"description\":\"Acquired G Garrison Mathews and F Bruno Fernando from Houston in exchange for Fs Frank Kaminsky, Justin Holiday and draft considerations. Acquired F Saddiq Bey from Detroit in a four-team trade.\",\"team\":{\"id\":\"1\",\"location\":\"Atlanta\",\"name\":\"Hawks\",\"abbreviation\":\"ATL\",\"displayName\":\"Atlanta Hawks\",\"color\":\"c8102e\",\"alternateColor\":\"fdb927\",\"logos\":[{\"href\":\"https://a.espncdn.com/i/teamlogos/nba/500/atl.png\",\"width\":500,\"height\":500,\"alt\":\"\",\"rel\":[\"full\",\"default\"],\"lastUpdated\":\"2021-02-04T15:47Z\"},{\"href\":\"https://a.espncdn.com/i/teamlogos/nba/500-dark/atl.png\",\"width\":500,\"height\":500,\"alt\":\"\",\"rel\":[\"full\",\"dark\"],\"lastUpdated\":\"2018-06-05T12:08Z\"},{\"href\":\"https://a.espncdn.com/i/teamlogos/nba/500/scoreboard/atl.png\",\"width\":500,\"height\":500,\"alt\":\"\",\"rel\":[\"full\",\"scoreboard\"],\"lastUpdated\":\"2018-06-05T12:08Z\"},{\"href\":\"https://a.espncdn.com/i/teamlogos/nba/500-dark/scoreboard/atl.png\",\"width\":500,\"height\":500,\"alt\":\"\",\"rel\":[\"full\",\"scoreboard\",\"dark\"],\"lastUpdated\":\"2018-06-05T12:08Z\"}],\"links\":[{\"language\":\"en-US\",\"rel\":[\"clubhouse\",\"desktop\",\"team\"],\"href\":\"https://www.espn.com/nba/team/_/name/atl/atlanta-hawks\",\"text\":\"Clubhouse\",\"shortText\":\"Clubhouse\",\"isExternal\":false,\"isPremium\":false}]}},{\"date\":\"2023-02-08T08:00Z\",\"description\":\"Signed G Jamaree Bouyea to a 10-day contract.\",\"team\":{\"id\":\"14\",\"location\":\"Miami\",\"name\":\"Heat\",\"abbreviation\":\"MIA\",\"displayName\":\"Miami Heat\",\"color\":\"98002e\",\"alternateColor\":\"f9a01b\",\"logos\":[{\"href\":\"https://a.espncdn.com/i/teamlogos/nba/500/mia.png\",\"width\":500,\"height\":500,\"alt\":\"\",\"rel\":[\"full\",\"default\"],\"lastUpdated\":\"2018-06-05T12:08Z\"},{\"href\":\"https://a.espncdn.com/i/teamlogos/nba/500-dark/mia.png\",\"width\":500,\"height\":500,\"alt\":\"\",\"rel\":[\"full\",\"dark\"],\"lastUpdated\":\"2018-06-05T12:08Z\"},{\"href\":\"https://a.espncdn.com/i/teamlogos/nba/500/scoreboard/mia.png\",\"width\":500,\"height\":500,\"alt\":\"\",\"rel\":[\"full\",\"scoreboard\"],\"lastUpdated\":\"2018-06-05T12:08Z\"},{\"href\":\"https://a.espncdn.com/i/teamlogos/nba/500-dark/scoreboard/mia.png\",\"width\":500,\"height\":500,\"alt\":\"\",\"rel\":[\"full\",\"scoreboard\",\"dark\"],\"lastUpdated\":\"2018-06-05T12:08Z\"}],\"links\":[{\"language\":\"en-US\",\"rel\":[\"clubhouse\",\"desktop\",\"team\"],\"href\":\"https://www.espn.com/nba/team/_/name/mia/miami-heat\",\"text\":\"Clubhouse\",\"shortText\":\"Clubhouse\",\"isExternal\":false,\"isPremium\":false}]}},{\"date\":\"2023-02-07T08:00Z\",\"description\":\"Traded cash considerations to Miami Heat for C Dewayne Dedmon and a second-round draft pick.\",\"team\":{\"id\":\"24\",\"location\":\"San Antonio\",\"name\":\"Spurs\",\"abbreviation\":\"SA\",\"displayName\":\"San Antonio Spurs\",\"color\":\"000000\",\"alternateColor\":\"c4ced4\",\"logos\":[{\"href\":\"https://a.espncdn.com/i/teamlogos/nba/500/sa.png\",\"width\":500,\"height\":500,\"alt\":\"\",\"rel\":[\"full\",\"default\"],\"lastUpdated\":\"2018-06-05T12:08Z\"},{\"href\":\"https://a.espncdn.com/i/teamlogos/nba/500-dark/sa.png\",\"width\":500,\"height\":500,\"alt\":\"\",\"rel\":[\"full\",\"dark\"],\"lastUpdated\":\"2018-06-05T12:08Z\"},{\"href\":\"https://a.espncdn.com/i/teamlogos/nba/500/scoreboard/sa.png\",\"width\":500,\"height\":500,\"alt\":\"\",\"rel\":[\"full\",\"scoreboard\"],\"lastUpdated\":\"2018-06-05T12:08Z\"},{\"href\":\"https://a.espncdn.com/i/teamlogos/nba/500-dark/scoreboard/sa.png\",\"width\":500,\"height\":500,\"alt\":\"\",\"rel\":[\"full\",\"scoreboard\",\"dark\"],\"lastUpdated\":\"2018-06-05T12:08Z\"}],\"links\":[{\"language\":\"en-US\",\"rel\":[\"clubhouse\",\"desktop\",\"team\"],\"href\":\"https://www.espn.com/nba/team/_/name/sa/san-antonio-spurs\",\"text\":\"Clubhouse\",\"shortText\":\"Clubhouse\",\"isExternal\":false,\"isPremium\":false}]}},{\"date\":\"2023-02-07T08:00Z\",\"description\":\"Traded C Dewayne Dedmon and a second-round draft pick to San Antonio for cash considerations.\",\"team\":{\"id\":\"14\",\"location\":\"Miami\",\"name\":\"Heat\",\"abbreviation\":\"MIA\",\"displayName\":\"Miami Heat\",\"color\":\"98002e\",\"alternateColor\":\"f9a01b\",\"logos\":[{\"href\":\"https://a.espncdn.com/i/teamlogos/nba/500/mia.png\",\"width\":500,\"height\":500,\"alt\":\"\",\"rel\":[\"full\",\"default\"],\"lastUpdated\":\"2018-06-05T12:08Z\"},{\"href\":\"https://a.espncdn.com/i/teamlogos/nba/500-dark/mia.png\",\"width\":500,\"height\":500,\"alt\":\"\",\"rel\":[\"full\",\"dark\"],\"lastUpdated\":\"2018-06-05T12:08Z\"},{\"href\":\"https://a.espncdn.com/i/teamlogos/nba/500/scoreboard/mia.png\",\"width\":500,\"height\":500,\"alt\":\"\",\"rel\":[\"full\",\"scoreboard\"],\"lastUpdated\":\"2018-06-05T12:08Z\"},{\"href\":\"https://a.espncdn.com/i/teamlogos/nba/500-dark/scoreboard/mia.png\",\"width\":500,\"height\":500,\"alt\":\"\",\"rel\":[\"full\",\"scoreboard\",\"dark\"],\"lastUpdated\":\"2018-06-05T12:08Z\"}],\"links\":[{\"language\":\"en-US\",\"rel\":[\"clubhouse\",\"desktop\",\"team\"],\"href\":\"https://www.espn.com/nba/team/_/name/mia/miami-heat\",\"text\":\"Clubhouse\",\"shortText\":\"Clubhouse\",\"isExternal\":false,\"isPremium\":false}]}},{\"date\":\"2023-02-01T08:00Z\",\"description\":\"Re-signed G Saben Lee. Waived G Duane Washington Jr.\",\"team\":{\"id\":\"21\",\"location\":\"Phoenix\",\"name\":\"Suns\",\"abbreviation\":\"PHX\",\"displayName\":\"Phoenix Suns\",\"color\":\"29127a\",\"alternateColor\":\"e56020\",\"logos\":[{\"href\":\"https://a.espncdn.com/i/teamlogos/nba/500/phx.png\",\"width\":500,\"height\":500,\"alt\":\"\",\"rel\":[\"full\",\"default\"],\"lastUpdated\":\"2018-06-05T12:08Z\"},{\"href\":\"https://a.espncdn.com/i/teamlogos/nba/500-dark/phx.png\",\"width\":500,\"height\":500,\"alt\":\"\",\"rel\":[\"full\",\"dark\"],\"lastUpdated\":\"2018-06-05T12:08Z\"},{\"href\":\"https://a.espncdn.com/i/teamlogos/nba/500/scoreboard/phx.png\",\"width\":500,\"height\":500,\"alt\":\"\",\"rel\":[\"full\",\"scoreboard\"],\"lastUpdated\":\"2018-06-05T12:08Z\"},{\"href\":\"https://a.espncdn.com/i/teamlogos/nba/500-dark/scoreboard/phx.png\",\"width\":500,\"height\":500,\"alt\":\"\",\"rel\":[\"full\",\"scoreboard\",\"dark\"],\"lastUpdated\":\"2018-06-05T12:08Z\"}],\"links\":[{\"language\":\"en-US\",\"rel\":[\"clubhouse\",\"desktop\",\"team\"],\"href\":\"https://www.espn.com/nba/team/_/name/phx/phoenix-suns\",\"text\":\"Clubhouse\",\"shortText\":\"Clubhouse\",\"isExternal\":false,\"isPremium\":false}]}},{\"date\":\"2023-01-31T08:00Z\",\"description\":\"Signed F Chris Silva to a 10-day contract.\",\"team\":{\"id\":\"6\",\"location\":\"Dallas\",\"name\":\"Mavericks\",\"abbreviation\":\"DAL\",\"displayName\":\"Dallas Mavericks\",\"color\":\"0064b1\",\"alternateColor\":\"bbc4ca\",\"logos\":[{\"href\":\"https://a.espncdn.com/i/teamlogos/nba/500/dal.png\",\"width\":500,\"height\":500,\"alt\":\"\",\"rel\":[\"full\",\"default\"],\"lastUpdated\":\"2018-06-05T12:08Z\"},{\"href\":\"https://a.espncdn.com/i/teamlogos/nba/500-dark/dal.png\",\"width\":500,\"height\":500,\"alt\":\"\",\"rel\":[\"full\",\"dark\"],\"lastUpdated\":\"2018-06-05T12:08Z\"},{\"href\":\"https://a.espncdn.com/i/teamlogos/nba/500/scoreboard/dal.png\",\"width\":500,\"height\":500,\"alt\":\"\",\"rel\":[\"full\",\"scoreboard\"],\"lastUpdated\":\"2018-06-05T12:08Z\"},{\"href\":\"https://a.espncdn.com/i/teamlogos/nba/500-dark/scoreboard/dal.png\",\"width\":500,\"height\":500,\"alt\":\"\",\"rel\":[\"full\",\"scoreboard\",\"dark\"],\"lastUpdated\":\"2018-06-05T12:08Z\"}],\"links\":[{\"language\":\"en-US\",\"rel\":[\"clubhouse\",\"desktop\",\"team\"],\"href\":\"https://www.espn.com/nba/team/_/name/dal/dallas-mavericks\",\"text\":\"Clubhouse\",\"shortText\":\"Clubhouse\",\"isExternal\":false,\"isPremium\":false}]}},{\"date\":\"2023-01-30T08:00Z\",\"description\":\"Signed G Deonte Burton to a 10-day contract.\",\"team\":{\"id\":\"23\",\"location\":\"Sacramento\",\"name\":\"Kings\",\"abbreviation\":\"SAC\",\"displayName\":\"Sacramento Kings\",\"color\":\"393996\",\"alternateColor\":\"6a7a82\",\"logos\":[{\"href\":\"https://a.espncdn.com/i/teamlogos/nba/500/sac.png\",\"width\":500,\"height\":500,\"alt\":\"\",\"rel\":[\"full\",\"default\"],\"lastUpdated\":\"2018-06-05T12:08Z\"},{\"href\":\"https://a.espncdn.com/i/teamlogos/nba/500-dark/sac.png\",\"width\":500,\"height\":500,\"alt\":\"\",\"rel\":[\"full\",\"dark\"],\"lastUpdated\":\"2018-06-05T12:08Z\"},{\"href\":\"https://a.espncdn.com/i/teamlogos/nba/500/scoreboard/sac.png\",\"width\":500,\"height\":500,\"alt\":\"\",\"rel\":[\"full\",\"scoreboard\"],\"lastUpdated\":\"2018-06-05T12:08Z\"},{\"href\":\"https://a.espncdn.com/i/teamlogos/nba/500-dark/scoreboard/sac.png\",\"width\":500,\"height\":500,\"alt\":\"\",\"rel\":[\"full\",\"scoreboard\",\"dark\"],\"lastUpdated\":\"2018-06-05T12:08Z\"}],\"links\":[{\"language\":\"en-US\",\"rel\":[\"clubhouse\",\"desktop\",\"team\"],\"href\":\"https://www.espn.com/nba/team/_/name/sac/sacramento-kings\",\"text\":\"Clubhouse\",\"shortText\":\"Clubhouse\",\"isExternal\":false,\"isPremium\":false}]}},{\"date\":\"2023-01-30T08:00Z\",\"description\":\"Re-signed C Myles Turner to a veteran contract extension.\",\"team\":{\"id\":\"11\",\"location\":\"Indiana\",\"name\":\"Pacers\",\"abbreviation\":\"IND\",\"displayName\":\"Indiana Pacers\",\"color\":\"002d62\",\"alternateColor\":\"fdbb30\",\"logos\":[{\"href\":\"https://a.espncdn.com/i/teamlogos/nba/500/ind.png\",\"width\":500,\"height\":500,\"alt\":\"\",\"rel\":[\"full\",\"default\"],\"lastUpdated\":\"2018-06-05T12:08Z\"},{\"href\":\"https://a.espncdn.com/i/teamlogos/nba/500-dark/ind.png\",\"width\":500,\"height\":500,\"alt\":\"\",\"rel\":[\"full\",\"dark\"],\"lastUpdated\":\"2018-06-05T12:08Z\"},{\"href\":\"https://a.espncdn.com/i/teamlogos/nba/500/scoreboard/ind.png\",\"width\":500,\"height\":500,\"alt\":\"\",\"rel\":[\"full\",\"scoreboard\"],\"lastUpdated\":\"2018-06-05T12:08Z\"},{\"href\":\"https://a.espncdn.com/i/teamlogos/nba/500-dark/scoreboard/ind.png\",\"width\":500,\"height\":500,\"alt\":\"\",\"rel\":[\"full\",\"scoreboard\",\"dark\"],\"lastUpdated\":\"2018-06-05T12:08Z\"}],\"links\":[{\"language\":\"en-US\",\"rel\":[\"clubhouse\",\"desktop\",\"team\"],\"href\":\"https://www.espn.com/nba/team/_/name/ind/indiana-pacers\",\"text\":\"Clubhouse\",\"shortText\":\"Clubhouse\",\"isExternal\":false,\"isPremium\":false}]}},{\"date\":\"2023-01-21T08:00Z\",\"description\":\"Re-signed G Saben Lee to a second 10-day contract.\",\"team\":{\"id\":\"21\",\"location\":\"Phoenix\",\"name\":\"Suns\",\"abbreviation\":\"PHX\",\"displayName\":\"Phoenix Suns\",\"color\":\"29127a\",\"alternateColor\":\"e56020\",\"logos\":[{\"href\":\"https://a.espncdn.com/i/teamlogos/nba/500/phx.png\",\"width\":500,\"height\":500,\"alt\":\"\",\"rel\":[\"full\",\"default\"],\"lastUpdated\":\"2018-06-05T12:08Z\"},{\"href\":\"https://a.espncdn.com/i/teamlogos/nba/500-dark/phx.png\",\"width\":500,\"height\":500,\"alt\":\"\",\"rel\":[\"full\",\"dark\"],\"lastUpdated\":\"2018-06-05T12:08Z\"},{\"href\":\"https://a.espncdn.com/i/teamlogos/nba/500/scoreboard/phx.png\",\"width\":500,\"height\":500,\"alt\":\"\",\"rel\":[\"full\",\"scoreboard\"],\"lastUpdated\":\"2018-06-05T12:08Z\"},{\"href\":\"https://a.espncdn.com/i/teamlogos/nba/500-dark/scoreboard/phx.png\",\"width\":500,\"height\":500,\"alt\":\"\",\"rel\":[\"full\",\"scoreboard\",\"dark\"],\"lastUpdated\":\"2018-06-05T12:08Z\"}],\"links\":[{\"language\":\"en-US\",\"rel\":[\"clubhouse\",\"desktop\",\"team\"],\"href\":\"https://www.espn.com/nba/team/_/name/phx/phoenix-suns\",\"text\":\"Clubhouse\",\"shortText\":\"Clubhouse\",\"isExternal\":false,\"isPremium\":false}]}},{\"date\":\"2023-01-20T08:00Z\",\"description\":\"Signed C Gorgui Dieng to a 10-day contract.\",\"team\":{\"id\":\"24\",\"location\":\"San Antonio\",\"name\":\"Spurs\",\"abbreviation\":\"SA\",\"displayName\":\"San Antonio Spurs\",\"color\":\"000000\",\"alternateColor\":\"c4ced4\",\"logos\":[{\"href\":\"https://a.espncdn.com/i/teamlogos/nba/500/sa.png\",\"width\":500,\"height\":500,\"alt\":\"\",\"rel\":[\"full\",\"default\"],\"lastUpdated\":\"2018-06-05T12:08Z\"},{\"href\":\"https://a.espncdn.com/i/teamlogos/nba/500-dark/sa.png\",\"width\":500,\"height\":500,\"alt\":\"\",\"rel\":[\"full\",\"dark\"],\"lastUpdated\":\"2018-06-05T12:08Z\"},{\"href\":\"https://a.espncdn.com/i/teamlogos/nba/500/scoreboard/sa.png\",\"width\":500,\"height\":500,\"alt\":\"\",\"rel\":[\"full\",\"scoreboard\"],\"lastUpdated\":\"2018-06-05T12:08Z\"},{\"href\":\"https://a.espncdn.com/i/teamlogos/nba/500-dark/scoreboard/sa.png\",\"width\":500,\"height\":500,\"alt\":\"\",\"rel\":[\"full\",\"scoreboard\",\"dark\"],\"lastUpdated\":\"2018-06-05T12:08Z\"}],\"links\":[{\"language\":\"en-US\",\"rel\":[\"clubhouse\",\"desktop\",\"team\"],\"href\":\"https://www.espn.com/nba/team/_/name/sa/san-antonio-spurs\",\"text\":\"Clubhouse\",\"shortText\":\"Clubhouse\",\"isExternal\":false,\"isPremium\":false}]}},{\"date\":\"2023-01-13T08:00Z\",\"description\":\"Signed G Dru Smith to a two-way contract.\",\"team\":{\"id\":\"17\",\"location\":\"Brooklyn\",\"name\":\"Nets\",\"abbreviation\":\"BKN\",\"displayName\":\"Brooklyn Nets\",\"color\":\"000000\",\"alternateColor\":\"ffffff\",\"logos\":[{\"href\":\"https://a.espncdn.com/i/teamlogos/nba/500/bkn.png\",\"width\":500,\"height\":500,\"alt\":\"\",\"rel\":[\"full\",\"default\"],\"lastUpdated\":\"2018-06-05T12:08Z\"},{\"href\":\"https://a.espncdn.com/i/teamlogos/nba/500-dark/bkn.png\",\"width\":500,\"height\":500,\"alt\":\"\",\"rel\":[\"full\",\"dark\"],\"lastUpdated\":\"2018-06-05T12:08Z\"},{\"href\":\"https://a.espncdn.com/i/teamlogos/nba/500/scoreboard/bkn.png\",\"width\":500,\"height\":500,\"alt\":\"\",\"rel\":[\"full\",\"scoreboard\"],\"lastUpdated\":\"2018-06-05T12:08Z\"},{\"href\":\"https://a.espncdn.com/i/teamlogos/nba/500-dark/scoreboard/bkn.png\",\"width\":500,\"height\":500,\"alt\":\"\",\"rel\":[\"full\",\"scoreboard\",\"dark\"],\"lastUpdated\":\"2018-06-05T12:08Z\"}],\"links\":[{\"language\":\"en-US\",\"rel\":[\"clubhouse\",\"desktop\",\"team\"],\"href\":\"https://www.espn.com/nba/team/_/name/bkn/brooklyn-nets\",\"text\":\"Clubhouse\",\"shortText\":\"Clubhouse\",\"isExternal\":false,\"isPremium\":false}]}},{\"date\":\"2023-01-12T08:00Z\",\"description\":\"Waived G Alondes Williams.\",\"team\":{\"id\":\"17\",\"location\":\"Brooklyn\",\"name\":\"Nets\",\"abbreviation\":\"BKN\",\"displayName\":\"Brooklyn Nets\",\"color\":\"000000\",\"alternateColor\":\"ffffff\",\"logos\":[{\"href\":\"https://a.espncdn.com/i/teamlogos/nba/500/bkn.png\",\"width\":500,\"height\":500,\"alt\":\"\",\"rel\":[\"full\",\"default\"],\"lastUpdated\":\"2018-06-05T12:08Z\"},{\"href\":\"https://a.espncdn.com/i/teamlogos/nba/500-dark/bkn.png\",\"width\":500,\"height\":500,\"alt\":\"\",\"rel\":[\"full\",\"dark\"],\"lastUpdated\":\"2018-06-05T12:08Z\"},{\"href\":\"https://a.espncdn.com/i/teamlogos/nba/500/scoreboard/bkn.png\",\"width\":500,\"height\":500,\"alt\":\"\",\"rel\":[\"full\",\"scoreboard\"],\"lastUpdated\":\"2018-06-05T12:08Z\"},{\"href\":\"https://a.espncdn.com/i/teamlogos/nba/500-dark/scoreboard/bkn.png\",\"width\":500,\"height\":500,\"alt\":\"\",\"rel\":[\"full\",\"scoreboard\",\"dark\"],\"lastUpdated\":\"2018-06-05T12:08Z\"}],\"links\":[{\"language\":\"en-US\",\"rel\":[\"clubhouse\",\"desktop\",\"team\"],\"href\":\"https://www.espn.com/nba/team/_/name/bkn/brooklyn-nets\",\"text\":\"Clubhouse\",\"shortText\":\"Clubhouse\",\"isExternal\":false,\"isPremium\":false}]}},{\"date\":\"2023-01-11T08:00Z\",\"description\":\"Signed G Saben Lee to a 10-day contract.\",\"team\":{\"id\":\"21\",\"location\":\"Phoenix\",\"name\":\"Suns\",\"abbreviation\":\"PHX\",\"displayName\":\"Phoenix Suns\",\"color\":\"29127a\",\"alternateColor\":\"e56020\",\"logos\":[{\"href\":\"https://a.espncdn.com/i/teamlogos/nba/500/phx.png\",\"width\":500,\"height\":500,\"alt\":\"\",\"rel\":[\"full\",\"default\"],\"lastUpdated\":\"2018-06-05T12:08Z\"},{\"href\":\"https://a.espncdn.com/i/teamlogos/nba/500-dark/phx.png\",\"width\":500,\"height\":500,\"alt\":\"\",\"rel\":[\"full\",\"dark\"],\"lastUpdated\":\"2018-06-05T12:08Z\"},{\"href\":\"https://a.espncdn.com/i/teamlogos/nba/500/scoreboard/phx.png\",\"width\":500,\"height\":500,\"alt\":\"\",\"rel\":[\"full\",\"scoreboard\"],\"lastUpdated\":\"2018-06-05T12:08Z\"},{\"href\":\"https://a.espncdn.com/i/teamlogos/nba/500-dark/scoreboard/phx.png\",\"width\":500,\"height\":500,\"alt\":\"\",\"rel\":[\"full\",\"scoreboard\",\"dark\"],\"lastUpdated\":\"2018-06-05T12:08Z\"}],\"links\":[{\"language\":\"en-US\",\"rel\":[\"clubhouse\",\"desktop\",\"team\"],\"href\":\"https://www.espn.com/nba/team/_/name/phx/phoenix-suns\",\"text\":\"Clubhouse\",\"shortText\":\"Clubhouse\",\"isExternal\":false,\"isPremium\":false}]}},{\"date\":\"2023-01-11T08:00Z\",\"description\":\"Signed F Derrick Favors to a 10-day contract.\",\"team\":{\"id\":\"1\",\"location\":\"Atlanta\",\"name\":\"Hawks\",\"abbreviation\":\"ATL\",\"displayName\":\"Atlanta Hawks\",\"color\":\"c8102e\",\"alternateColor\":\"fdb927\",\"logos\":[{\"href\":\"https://a.espncdn.com/i/teamlogos/nba/500/atl.png\",\"width\":500,\"height\":500,\"alt\":\"\",\"rel\":[\"full\",\"default\"],\"lastUpdated\":\"2021-02-04T15:47Z\"},{\"href\":\"https://a.espncdn.com/i/teamlogos/nba/500-dark/atl.png\",\"width\":500,\"height\":500,\"alt\":\"\",\"rel\":[\"full\",\"dark\"],\"lastUpdated\":\"2018-06-05T12:08Z\"},{\"href\":\"https://a.espncdn.com/i/teamlogos/nba/500/scoreboard/atl.png\",\"width\":500,\"height\":500,\"alt\":\"\",\"rel\":[\"full\",\"scoreboard\"],\"lastUpdated\":\"2018-06-05T12:08Z\"},{\"href\":\"https://a.espncdn.com/i/teamlogos/nba/500-dark/scoreboard/atl.png\",\"width\":500,\"height\":500,\"alt\":\"\",\"rel\":[\"full\",\"scoreboard\",\"dark\"],\"lastUpdated\":\"2018-06-05T12:08Z\"}],\"links\":[{\"language\":\"en-US\",\"rel\":[\"clubhouse\",\"desktop\",\"team\"],\"href\":\"https://www.espn.com/nba/team/_/name/atl/atlanta-hawks\",\"text\":\"Clubhouse\",\"shortText\":\"Clubhouse\",\"isExternal\":false,\"isPremium\":false}]}},{\"date\":\"2023-01-08T08:00Z\",\"description\":\"Signed C Gorgui Dieng to a 10-day contract.\",\"team\":{\"id\":\"24\",\"location\":\"San Antonio\",\"name\":\"Spurs\",\"abbreviation\":\"SA\",\"displayName\":\"San Antonio Spurs\",\"color\":\"000000\",\"alternateColor\":\"c4ced4\",\"logos\":[{\"href\":\"https://a.espncdn.com/i/teamlogos/nba/500/sa.png\",\"width\":500,\"height\":500,\"alt\":\"\",\"rel\":[\"full\",\"default\"],\"lastUpdated\":\"2018-06-05T12:08Z\"},{\"href\":\"https://a.espncdn.com/i/teamlogos/nba/500-dark/sa.png\",\"width\":500,\"height\":500,\"alt\":\"\",\"rel\":[\"full\",\"dark\"],\"lastUpdated\":\"2018-06-05T12:08Z\"},{\"href\":\"https://a.espncdn.com/i/teamlogos/nba/500/scoreboard/sa.png\",\"width\":500,\"height\":500,\"alt\":\"\",\"rel\":[\"full\",\"scoreboard\"],\"lastUpdated\":\"2018-06-05T12:08Z\"},{\"href\":\"https://a.espncdn.com/i/teamlogos/nba/500-dark/scoreboard/sa.png\",\"width\":500,\"height\":500,\"alt\":\"\",\"rel\":[\"full\",\"scoreboard\",\"dark\"],\"lastUpdated\":\"2018-06-05T12:08Z\"}],\"links\":[{\"language\":\"en-US\",\"rel\":[\"clubhouse\",\"desktop\",\"team\"],\"href\":\"https://www.espn.com/nba/team/_/name/sa/san-antonio-spurs\",\"text\":\"Clubhouse\",\"shortText\":\"Clubhouse\",\"isExternal\":false,\"isPremium\":false}]}},{\"date\":\"2023-01-07T08:00Z\",\"description\":\"Signed G Joe Wieskamp to a 10-day contract.\",\"team\":{\"id\":\"28\",\"location\":\"Toronto\",\"name\":\"Raptors\",\"abbreviation\":\"TOR\",\"displayName\":\"Toronto Raptors\",\"color\":\"d91244\",\"alternateColor\":\"000000\",\"logos\":[{\"href\":\"https://a.espncdn.com/i/teamlogos/nba/500/tor.png\",\"width\":500,\"height\":500,\"alt\":\"\",\"rel\":[\"full\",\"default\"],\"lastUpdated\":\"2019-04-09T18:15Z\"},{\"href\":\"https://a.espncdn.com/i/teamlogos/nba/500-dark/tor.png\",\"width\":500,\"height\":500,\"alt\":\"\",\"rel\":[\"full\",\"dark\"],\"lastUpdated\":\"2019-05-31T20:44Z\"},{\"href\":\"https://a.espncdn.com/i/teamlogos/nba/500/scoreboard/tor.png\",\"width\":500,\"height\":500,\"alt\":\"\",\"rel\":[\"full\",\"scoreboard\"],\"lastUpdated\":\"2018-10-11T13:47Z\"},{\"href\":\"https://a.espncdn.com/i/teamlogos/nba/500-dark/scoreboard/tor.png\",\"width\":500,\"height\":500,\"alt\":\"\",\"rel\":[\"full\",\"scoreboard\",\"dark\"],\"lastUpdated\":\"2020-10-08T19:46Z\"}],\"links\":[{\"language\":\"en-US\",\"rel\":[\"clubhouse\",\"desktop\",\"team\"],\"href\":\"https://www.espn.com/nba/team/_/name/tor/toronto-raptors\",\"text\":\"Clubhouse\",\"shortText\":\"Clubhouse\",\"isExternal\":false,\"isPremium\":false}]}},{\"date\":\"2023-01-06T08:00Z\",\"description\":\"Signed G Sterling Brown to a 10-day contract.\",\"team\":{\"id\":\"13\",\"location\":\"Los Angeles\",\"name\":\"Lakers\",\"abbreviation\":\"LAL\",\"displayName\":\"Los Angeles Lakers\",\"color\":\"552583\",\"alternateColor\":\"fdb927\",\"logos\":[{\"href\":\"https://a.espncdn.com/i/teamlogos/nba/500/lal.png\",\"width\":500,\"height\":500,\"alt\":\"\",\"rel\":[\"full\",\"default\"],\"lastUpdated\":\"2018-06-05T12:08Z\"},{\"href\":\"https://a.espncdn.com/i/teamlogos/nba/500-dark/lal.png\",\"width\":500,\"height\":500,\"alt\":\"\",\"rel\":[\"full\",\"dark\"],\"lastUpdated\":\"2018-06-05T12:08Z\"},{\"href\":\"https://a.espncdn.com/i/teamlogos/nba/500/scoreboard/lal.png\",\"width\":500,\"height\":500,\"alt\":\"\",\"rel\":[\"full\",\"scoreboard\"],\"lastUpdated\":\"2018-06-05T12:08Z\"},{\"href\":\"https://a.espncdn.com/i/teamlogos/nba/500-dark/scoreboard/lal.png\",\"width\":500,\"height\":500,\"alt\":\"\",\"rel\":[\"full\",\"scoreboard\",\"dark\"],\"lastUpdated\":\"2018-06-05T12:08Z\"}],\"links\":[{\"language\":\"en-US\",\"rel\":[\"clubhouse\",\"desktop\",\"team\"],\"href\":\"https://www.espn.com/nba/team/_/name/lal/los-angeles-lakers\",\"text\":\"Clubhouse\",\"shortText\":\"Clubhouse\",\"isExternal\":false,\"isPremium\":false}]}},{\"date\":\"2023-01-06T08:00Z\",\"description\":\"Waived G Kemba Walker.\",\"team\":{\"id\":\"6\",\"location\":\"Dallas\",\"name\":\"Mavericks\",\"abbreviation\":\"DAL\",\"displayName\":\"Dallas Mavericks\",\"color\":\"0064b1\",\"alternateColor\":\"bbc4ca\",\"logos\":[{\"href\":\"https://a.espncdn.com/i/teamlogos/nba/500/dal.png\",\"width\":500,\"height\":500,\"alt\":\"\",\"rel\":[\"full\",\"default\"],\"lastUpdated\":\"2018-06-05T12:08Z\"},{\"href\":\"https://a.espncdn.com/i/teamlogos/nba/500-dark/dal.png\",\"width\":500,\"height\":500,\"alt\":\"\",\"rel\":[\"full\",\"dark\"],\"lastUpdated\":\"2018-06-05T12:08Z\"},{\"href\":\"https://a.espncdn.com/i/teamlogos/nba/500/scoreboard/dal.png\",\"width\":500,\"height\":500,\"alt\":\"\",\"rel\":[\"full\",\"scoreboard\"],\"lastUpdated\":\"2018-06-05T12:08Z\"},{\"href\":\"https://a.espncdn.com/i/teamlogos/nba/500-dark/scoreboard/dal.png\",\"width\":500,\"height\":500,\"alt\":\"\",\"rel\":[\"full\",\"scoreboard\",\"dark\"],\"lastUpdated\":\"2018-06-05T12:08Z\"}],\"links\":[{\"language\":\"en-US\",\"rel\":[\"clubhouse\",\"desktop\",\"team\"],\"href\":\"https://www.espn.com/nba/team/_/name/dal/dallas-mavericks\",\"text\":\"Clubhouse\",\"shortText\":\"Clubhouse\",\"isExternal\":false,\"isPremium\":false}]}},{\"date\":\"2023-01-05T08:00Z\",\"description\":\"Acquired F Noah Vonleh and cash considerations from Boston in exchange for a protected future second round pick. Waived C Gorgui Dieng and F Noah Vonleh.\",\"team\":{\"id\":\"24\",\"location\":\"San Antonio\",\"name\":\"Spurs\",\"abbreviation\":\"SA\",\"displayName\":\"San Antonio Spurs\",\"color\":\"000000\",\"alternateColor\":\"c4ced4\",\"logos\":[{\"href\":\"https://a.espncdn.com/i/teamlogos/nba/500/sa.png\",\"width\":500,\"height\":500,\"alt\":\"\",\"rel\":[\"full\",\"default\"],\"lastUpdated\":\"2018-06-05T12:08Z\"},{\"href\":\"https://a.espncdn.com/i/teamlogos/nba/500-dark/sa.png\",\"width\":500,\"height\":500,\"alt\":\"\",\"rel\":[\"full\",\"dark\"],\"lastUpdated\":\"2018-06-05T12:08Z\"},{\"href\":\"https://a.espncdn.com/i/teamlogos/nba/500/scoreboard/sa.png\",\"width\":500,\"height\":500,\"alt\":\"\",\"rel\":[\"full\",\"scoreboard\"],\"lastUpdated\":\"2018-06-05T12:08Z\"},{\"href\":\"https://a.espncdn.com/i/teamlogos/nba/500-dark/scoreboard/sa.png\",\"width\":500,\"height\":500,\"alt\":\"\",\"rel\":[\"full\",\"scoreboard\",\"dark\"],\"lastUpdated\":\"2018-06-05T12:08Z\"}],\"links\":[{\"language\":\"en-US\",\"rel\":[\"clubhouse\",\"desktop\",\"team\"],\"href\":\"https://www.espn.com/nba/team/_/name/sa/san-antonio-spurs\",\"text\":\"Clubhouse\",\"shortText\":\"Clubhouse\",\"isExternal\":false,\"isPremium\":false}]}},{\"date\":\"2023-01-05T08:00Z\",\"description\":\"Acquired a protected future second round pick from San Antonio Spurs for F Noah Vonleh and cash considerations.\",\"team\":{\"id\":\"2\",\"location\":\"Boston\",\"name\":\"Celtics\",\"abbreviation\":\"BOS\",\"displayName\":\"Boston Celtics\",\"color\":\"008348\",\"alternateColor\":\"bb9753\",\"logos\":[{\"href\":\"https://a.espncdn.com/i/teamlogos/nba/500/bos.png\",\"width\":500,\"height\":500,\"alt\":\"\",\"rel\":[\"full\",\"default\"],\"lastUpdated\":\"2019-03-28T21:04Z\"},{\"href\":\"https://a.espncdn.com/i/teamlogos/nba/500-dark/bos.png\",\"width\":500,\"height\":500,\"alt\":\"\",\"rel\":[\"full\",\"dark\"],\"lastUpdated\":\"2018-06-05T12:08Z\"},{\"href\":\"https://a.espncdn.com/i/teamlogos/nba/500/scoreboard/bos.png\",\"width\":500,\"height\":500,\"alt\":\"\",\"rel\":[\"full\",\"scoreboard\"],\"lastUpdated\":\"2018-06-05T12:08Z\"},{\"href\":\"https://a.espncdn.com/i/teamlogos/nba/500-dark/scoreboard/bos.png\",\"width\":500,\"height\":500,\"alt\":\"\",\"rel\":[\"full\",\"scoreboard\",\"dark\"],\"lastUpdated\":\"2018-06-05T12:08Z\"}],\"links\":[{\"language\":\"en-US\",\"rel\":[\"clubhouse\",\"desktop\",\"team\"],\"href\":\"https://www.espn.com/nba/team/_/name/bos/boston-celtics\",\"text\":\"Clubhouse\",\"shortText\":\"Clubhouse\",\"isExternal\":false,\"isPremium\":false}]}}]}\n"
     ]
    }
   ],
   "source": [
    "\n",
    "url = \"https://site.web.api.espn.com/apis/site/v2/sports/basketball/nba/transactions\"\n",
    "\n",
    "querystring = {\"region\":\"us\",\"lang\":\"en\",\"contentorigin\":\"espn\",\"limit\":\"1000\",\"page\":\"1\"}\n",
    "\n",
    "payload = \"\"\n",
    "headers = {\n",
    "    \"authority\": \"site.web.api.espn.com\",\n",
    "    \"accept\": \"*/*\",\n",
    "    \"accept-language\": \"en-US,en;q=0.9,he-IL;q=0.8,he;q=0.7\",\n",
    "    \"origin\": \"https://www.espn.com\",\n",
    "    \"referer\": \"https://www.espn.com/\",\n",
    "    \"sec-ch-ua\": \"^\\^Not.A/Brand^^;v=^\\^8^^, ^\\^Chromium^^;v=^\\^114^^, ^\\^Google\",\n",
    "    \"sec-ch-ua-mobile\": \"?0\",\n",
    "    \"sec-ch-ua-platform\": \"^\\^Windows^^\",\n",
    "    \"sec-fetch-dest\": \"empty\",\n",
    "    \"sec-fetch-mode\": \"cors\",\n",
    "    \"sec-fetch-site\": \"same-site\",\n",
    "    \"user-agent\": \"Mozilla/5.0 (Windows NT 10.0; Win64; x64) AppleWebKit/537.36 (KHTML, like Gecko) Chrome/114.0.0.0 Safari/537.36\"\n",
    "}\n",
    "\n",
    "r = requests.request(\"GET\", url, data=payload, headers=headers, params=querystring)\n",
    "\n",
    
   ]
  },
  {
   "cell_type": "code",
   "execution_count": 27,
   "metadata": {},
   "outputs": [],
   "source": [
    "# change output format into json.\n",
    "data = r.json()"
   ]
  },
  {
   "cell_type": "code",
   "execution_count": 28,
   "metadata": {},
   "outputs": [
    {
     "data": {
      "text/plain": [
       "dict_keys(['timestamp', 'status', 'season', 'requestedYear', 'count', 'pageIndex', 'pageSize', 'pageCount', 'transactions'])"
      ]
     },
     "execution_count": 28,
     "metadata": {},
     "output_type": "execute_result"
    }
   ],
   "source": [
    "data.keys()"
   ]
  },
  {
   "cell_type": "code",
   "execution_count": 29,
   "metadata": {},
   "outputs": [],
   "source": [
    "trans_data = data['transactions']"
   ]
  },
  {
   "cell_type": "code",
   "execution_count": 30,
   "metadata": {},
   "outputs": [
    {
     "data": {
      "text/plain": [
       "'2023-06-30T07:00Z'"
      ]
     },
     "execution_count": 30,
     "metadata": {},
     "output_type": "execute_result"
    }
   ],
   "source": [
    "#transaction date\n",
    "trans_data[0]['date']"
   ]
  },
  {
   "cell_type": "code",
   "execution_count": 31,
   "metadata": {},
   "outputs": [
    {
     "data": {
      "text/plain": [
       "'Waived F Trendon Watford.'"
      ]
     },
     "execution_count": 31,
     "metadata": {},
     "output_type": "execute_result"
    }
   ],
   "source": [
    "#description\n",
    "trans_data[0]['description']"
   ]
  },
  {
   "cell_type": "code",
   "execution_count": 32,
   "metadata": {},
   "outputs": [
    {
     "data": {
      "text/plain": [
       "{'id': '22',\n",
       " 'location': 'Portland',\n",
       " 'name': 'Trail Blazers',\n",
       " 'abbreviation': 'POR',\n",
       " 'displayName': 'Portland Trail Blazers',\n",
       " 'color': 'e03a3e',\n",
       " 'alternateColor': '000000',\n",
       " 'logos': [{'href': 'https://a.espncdn.com/i/teamlogos/nba/500/por.png',\n",
       "   'width': 500,\n",
       "   'height': 500,\n",
       "   'alt': '',\n",
       "   'rel': ['full', 'default'],\n",
       "   'lastUpdated': '2018-06-05T12:08Z'},\n",
       "  {'href': 'https://a.espncdn.com/i/teamlogos/nba/500-dark/por.png',\n",
       "   'width': 500,\n",
       "   'height': 500,\n",
       "   'alt': '',\n",
       "   'rel': ['full', 'dark'],\n",
       "   'lastUpdated': '2018-06-05T12:08Z'},\n",
       "  {'href': 'https://a.espncdn.com/i/teamlogos/nba/500/scoreboard/por.png',\n",
       "   'width': 500,\n",
       "   'height': 500,\n",
       "   'alt': '',\n",
       "   'rel': ['full', 'scoreboard'],\n",
       "   'lastUpdated': '2018-06-05T12:08Z'},\n",
       "  {'href': 'https://a.espncdn.com/i/teamlogos/nba/500-dark/scoreboard/por.png',\n",
       "   'width': 500,\n",
       "   'height': 500,\n",
       "   'alt': '',\n",
       "   'rel': ['full', 'scoreboard', 'dark'],\n",
       "   'lastUpdated': '2018-06-05T12:08Z'}],\n",
       " 'links': [{'language': 'en-US',\n",
       "   'rel': ['clubhouse', 'desktop', 'team'],\n",
       "   'href': 'https://www.espn.com/nba/team/_/name/por/portland-trail-blazers',\n",
       "   'text': 'Clubhouse',\n",
       "   'shortText': 'Clubhouse',\n",
       "   'isExternal': False,\n",
       "   'isPremium': False}]}"
      ]
     },
     "execution_count": 32,
     "metadata": {},
     "output_type": "execute_result"
    }
   ],
   "source": [
    "#team id\n",
    "trans_data[0]['team']"
   ]
  },
  {
   "cell_type": "code",
   "execution_count": 33,
   "metadata": {},
   "outputs": [
    {
     "data": {
      "text/plain": [
       "'Trail Blazers'"
      ]
     },
     "execution_count": 33,
     "metadata": {},
     "output_type": "execute_result"
    }
   ],
   "source": [
    "#team name\n",
    "trans_data[0]['team']['name']"
   ]
  },
  {
   "cell_type": "code",
   "execution_count": 34,
   "metadata": {},
   "outputs": [
    {
     "data": {
      "text/plain": [
       "'https://www.espn.com/nba/team/_/name/por/portland-trail-blazers'"
      ]
     },
     "execution_count": 34,
     "metadata": {},
     "output_type": "execute_result"
    }
   ],
   "source": [
    "#team website\n",
    "trans_data[0]['team']['links'][0]['href']"
   ]
  },
  {
   "cell_type": "code",
   "execution_count": 35,
   "metadata": {},
   "outputs": [],
   "source": [
    "# transaction table (transaction_date, team_name, description)\n",
    "transactions_list = []\n",
    "\n",
    "for row in trans_data:\n",
    "    transaction_date = row['date']\n",
    "    team_name = row['team']['displayName']\n",
    "    description = row['description']\n",
    "\n",
    "    transactions_element = {'transaction_date': transaction_date, 'team_name': team_name, 'description': description}\n",
    "    \n",
    "    transactions_list.append(transactions_element)\n",
    "    "
   ]
  },
  {
   "cell_type": "code",
   "execution_count": 36,
   "metadata": {},
   "outputs": [],
   "source": [
    "df_transactions = pd.DataFrame.from_dict(transactions_list)"
   ]
  },
  {
   "cell_type": "code",
   "execution_count": 37,
   "metadata": {},
   "outputs": [
    {
     "name": "stdout",
     "output_type": "stream",
     "text": [
      "<class 'pandas.core.frame.DataFrame'>\n",
      "RangeIndex: 114 entries, 0 to 113\n",
      "Data columns (total 3 columns):\n",
      " #   Column            Non-Null Count  Dtype \n",
      "---  ------            --------------  ----- \n",
      " 0   transaction_date  114 non-null    object\n",
      " 1   team_name         114 non-null    object\n",
      " 2   description       114 non-null    object\n",
      "dtypes: object(3)\n",
      "memory usage: 2.8+ KB\n"
     ]
    }
   ],
   "source": [
    "df_transactions.info()"
   ]
  },
  {
   "cell_type": "code",
   "execution_count": 38,
   "metadata": {},
   "outputs": [],
   "source": [
    "# change 'transaction_date' data type to datetime.\n",
    "df_transactions['transaction_date'] = pd.to_datetime(df_transactions['transaction_date'])"
   ]
  },
  {
   "cell_type": "code",
   "execution_count": 39,
   "metadata": {},
   "outputs": [
    {
     "name": "stdout",
     "output_type": "stream",
     "text": [
      "<class 'pandas.core.frame.DataFrame'>\n",
      "RangeIndex: 114 entries, 0 to 113\n",
      "Data columns (total 3 columns):\n",
      " #   Column            Non-Null Count  Dtype              \n",
      "---  ------            --------------  -----              \n",
      " 0   transaction_date  114 non-null    datetime64[ns, UTC]\n",
      " 1   team_name         114 non-null    object             \n",
      " 2   description       114 non-null    object             \n",
      "dtypes: datetime64[ns, UTC](1), object(2)\n",
      "memory usage: 2.8+ KB\n"
     ]
    }
   ],
   "source": [
    "df_transactions.info()"
   ]
  },
  {
   "cell_type": "code",
   "execution_count": 40,
   "metadata": {},
   "outputs": [],
   "source": [
    "# team table (team_id, team_name, displayname, team_web )\n",
    "team_list = []\n",
    "\n",
    "for row in trans_data:\n",
    "    id = row['team']['id']\n",
    "    name = row['team']['name']\n",
    "    displayname = row['team']['displayName']\n",
    "    abbreviation = row['team']['abbreviation']\n",
    "    website = row['team']['links'][0]['href']\n",
    "\n",
    "    team_element = {'id': id, 'name': name, 'displayname': displayname, 'abbreviation': abbreviation, 'website': website}\n",
    "\n",
    "    team_list.append(team_element)"
   ]
  },
  {
   "cell_type": "code",
   "execution_count": 41,
   "metadata": {},
   "outputs": [],
   "source": [
    "df_teams = pd.DataFrame.from_dict(team_list)"
   ]
  },
  {
   "cell_type": "code",
   "execution_count": 42,
   "metadata": {},
   "outputs": [
    {
     "data": {
      "text/html": [
       "<div>\n",
       "<style scoped>\n",
       "    .dataframe tbody tr th:only-of-type {\n",
       "        vertical-align: middle;\n",
       "    }\n",
       "\n",
       "    .dataframe tbody tr th {\n",
       "        vertical-align: top;\n",
       "    }\n",
       "\n",
       "    .dataframe thead th {\n",
       "        text-align: right;\n",
       "    }\n",
       "</style>\n",
       "<table border=\"1\" class=\"dataframe\">\n",
       "  <thead>\n",
       "    <tr style=\"text-align: right;\">\n",
       "      <th></th>\n",
       "      <th>id</th>\n",
       "      <th>name</th>\n",
       "      <th>displayname</th>\n",
       "      <th>abbreviation</th>\n",
       "      <th>website</th>\n",
       "    </tr>\n",
       "  </thead>\n",
       "  <tbody>\n",
       "    <tr>\n",
       "      <th>0</th>\n",
       "      <td>22</td>\n",
       "      <td>Trail Blazers</td>\n",
       "      <td>Portland Trail Blazers</td>\n",
       "      <td>POR</td>\n",
       "      <td>https://www.espn.com/nba/team/_/name/por/portl...</td>\n",
       "    </tr>\n",
       "    <tr>\n",
       "      <th>1</th>\n",
       "      <td>16</td>\n",
       "      <td>Timberwolves</td>\n",
       "      <td>Minnesota Timberwolves</td>\n",
       "      <td>MIN</td>\n",
       "      <td>https://www.espn.com/nba/team/_/name/min/minne...</td>\n",
       "    </tr>\n",
       "    <tr>\n",
       "      <th>2</th>\n",
       "      <td>13</td>\n",
       "      <td>Lakers</td>\n",
       "      <td>Los Angeles Lakers</td>\n",
       "      <td>LAL</td>\n",
       "      <td>https://www.espn.com/nba/team/_/name/lal/los-a...</td>\n",
       "    </tr>\n",
       "    <tr>\n",
       "      <th>3</th>\n",
       "      <td>16</td>\n",
       "      <td>Timberwolves</td>\n",
       "      <td>Minnesota Timberwolves</td>\n",
       "      <td>MIN</td>\n",
       "      <td>https://www.espn.com/nba/team/_/name/min/minne...</td>\n",
       "    </tr>\n",
       "    <tr>\n",
       "      <th>4</th>\n",
       "      <td>29</td>\n",
       "      <td>Grizzlies</td>\n",
       "      <td>Memphis Grizzlies</td>\n",
       "      <td>MEM</td>\n",
       "      <td>https://www.espn.com/nba/team/_/name/mem/memph...</td>\n",
       "    </tr>\n",
       "  </tbody>\n",
       "</table>\n",
       "</div>"
      ],
      "text/plain": [
       "   id           name             displayname abbreviation  \\\n",
       "0  22  Trail Blazers  Portland Trail Blazers          POR   \n",
       "1  16   Timberwolves  Minnesota Timberwolves          MIN   \n",
       "2  13         Lakers      Los Angeles Lakers          LAL   \n",
       "3  16   Timberwolves  Minnesota Timberwolves          MIN   \n",
       "4  29      Grizzlies       Memphis Grizzlies          MEM   \n",
       "\n",
       "                                             website  \n",
       "0  https://www.espn.com/nba/team/_/name/por/portl...  \n",
       "1  https://www.espn.com/nba/team/_/name/min/minne...  \n",
       "2  https://www.espn.com/nba/team/_/name/lal/los-a...  \n",
       "3  https://www.espn.com/nba/team/_/name/min/minne...  \n",
       "4  https://www.espn.com/nba/team/_/name/mem/memph...  "
      ]
     },
     "execution_count": 42,
     "metadata": {},
     "output_type": "execute_result"
    }
   ],
   "source": [
    "df_teams.head()"
   ]
  },
  {
   "cell_type": "code",
   "execution_count": 43,
   "metadata": {},
   "outputs": [],
   "source": [
    "df_teams.drop_duplicates(subset=['id'],inplace=True)"
   ]
  },
  {
   "cell_type": "code",
   "execution_count": 44,
   "metadata": {},
   "outputs": [],
   "source": [
    "df_teams.reset_index(drop=True,inplace=True)"
   ]
  },
  {
   "cell_type": "code",
   "execution_count": 45,
   "metadata": {},
   "outputs": [
    {
     "data": {
      "text/html": [
       "<div>\n",
       "<style scoped>\n",
       "    .dataframe tbody tr th:only-of-type {\n",
       "        vertical-align: middle;\n",
       "    }\n",
       "\n",
       "    .dataframe tbody tr th {\n",
       "        vertical-align: top;\n",
       "    }\n",
       "\n",
       "    .dataframe thead th {\n",
       "        text-align: right;\n",
       "    }\n",
       "</style>\n",
       "<table border=\"1\" class=\"dataframe\">\n",
       "  <thead>\n",
       "    <tr style=\"text-align: right;\">\n",
       "      <th></th>\n",
       "      <th>id</th>\n",
       "      <th>name</th>\n",
       "      <th>displayname</th>\n",
       "      <th>abbreviation</th>\n",
       "      <th>website</th>\n",
       "    </tr>\n",
       "  </thead>\n",
       "  <tbody>\n",
       "    <tr>\n",
       "      <th>0</th>\n",
       "      <td>22</td>\n",
       "      <td>Trail Blazers</td>\n",
       "      <td>Portland Trail Blazers</td>\n",
       "      <td>POR</td>\n",
       "      <td>https://www.espn.com/nba/team/_/name/por/portl...</td>\n",
       "    </tr>\n",
       "    <tr>\n",
       "      <th>1</th>\n",
       "      <td>16</td>\n",
       "      <td>Timberwolves</td>\n",
       "      <td>Minnesota Timberwolves</td>\n",
       "      <td>MIN</td>\n",
       "      <td>https://www.espn.com/nba/team/_/name/min/minne...</td>\n",
       "    </tr>\n",
       "    <tr>\n",
       "      <th>2</th>\n",
       "      <td>13</td>\n",
       "      <td>Lakers</td>\n",
       "      <td>Los Angeles Lakers</td>\n",
       "      <td>LAL</td>\n",
       "      <td>https://www.espn.com/nba/team/_/name/lal/los-a...</td>\n",
       "    </tr>\n",
       "    <tr>\n",
       "      <th>3</th>\n",
       "      <td>29</td>\n",
       "      <td>Grizzlies</td>\n",
       "      <td>Memphis Grizzlies</td>\n",
       "      <td>MEM</td>\n",
       "      <td>https://www.espn.com/nba/team/_/name/mem/memph...</td>\n",
       "    </tr>\n",
       "    <tr>\n",
       "      <th>4</th>\n",
       "      <td>27</td>\n",
       "      <td>Wizards</td>\n",
       "      <td>Washington Wizards</td>\n",
       "      <td>WSH</td>\n",
       "      <td>https://www.espn.com/nba/team/_/name/wsh/washi...</td>\n",
       "    </tr>\n",
       "    <tr>\n",
       "      <th>5</th>\n",
       "      <td>2</td>\n",
       "      <td>Celtics</td>\n",
       "      <td>Boston Celtics</td>\n",
       "      <td>BOS</td>\n",
       "      <td>https://www.espn.com/nba/team/_/name/bos/bosto...</td>\n",
       "    </tr>\n",
       "    <tr>\n",
       "      <th>6</th>\n",
       "      <td>21</td>\n",
       "      <td>Suns</td>\n",
       "      <td>Phoenix Suns</td>\n",
       "      <td>PHX</td>\n",
       "      <td>https://www.espn.com/nba/team/_/name/phx/phoen...</td>\n",
       "    </tr>\n",
       "    <tr>\n",
       "      <th>7</th>\n",
       "      <td>1</td>\n",
       "      <td>Hawks</td>\n",
       "      <td>Atlanta Hawks</td>\n",
       "      <td>ATL</td>\n",
       "      <td>https://www.espn.com/nba/team/_/name/atl/atlan...</td>\n",
       "    </tr>\n",
       "    <tr>\n",
       "      <th>8</th>\n",
       "      <td>28</td>\n",
       "      <td>Raptors</td>\n",
       "      <td>Toronto Raptors</td>\n",
       "      <td>TOR</td>\n",
       "      <td>https://www.espn.com/nba/team/_/name/tor/toron...</td>\n",
       "    </tr>\n",
       "    <tr>\n",
       "      <th>9</th>\n",
       "      <td>18</td>\n",
       "      <td>Knicks</td>\n",
       "      <td>New York Knicks</td>\n",
       "      <td>NY</td>\n",
       "      <td>https://www.espn.com/nba/team/_/name/ny/new-yo...</td>\n",
       "    </tr>\n",
       "    <tr>\n",
       "      <th>10</th>\n",
       "      <td>10</td>\n",
       "      <td>Rockets</td>\n",
       "      <td>Houston Rockets</td>\n",
       "      <td>HOU</td>\n",
       "      <td>https://www.espn.com/nba/team/_/name/hou/houst...</td>\n",
       "    </tr>\n",
       "    <tr>\n",
       "      <th>11</th>\n",
       "      <td>3</td>\n",
       "      <td>Pelicans</td>\n",
       "      <td>New Orleans Pelicans</td>\n",
       "      <td>NO</td>\n",
       "      <td>https://www.espn.com/nba/team/_/name/no/new-or...</td>\n",
       "    </tr>\n",
       "    <tr>\n",
       "      <th>12</th>\n",
       "      <td>17</td>\n",
       "      <td>Nets</td>\n",
       "      <td>Brooklyn Nets</td>\n",
       "      <td>BKN</td>\n",
       "      <td>https://www.espn.com/nba/team/_/name/bkn/brook...</td>\n",
       "    </tr>\n",
       "    <tr>\n",
       "      <th>13</th>\n",
       "      <td>30</td>\n",
       "      <td>Hornets</td>\n",
       "      <td>Charlotte Hornets</td>\n",
       "      <td>CHA</td>\n",
       "      <td>https://www.espn.com/nba/team/_/name/cha/charl...</td>\n",
       "    </tr>\n",
       "    <tr>\n",
       "      <th>14</th>\n",
       "      <td>26</td>\n",
       "      <td>Jazz</td>\n",
       "      <td>Utah Jazz</td>\n",
       "      <td>UTAH</td>\n",
       "      <td>https://www.espn.com/nba/team/_/name/utah/utah...</td>\n",
       "    </tr>\n",
       "    <tr>\n",
       "      <th>15</th>\n",
       "      <td>19</td>\n",
       "      <td>Magic</td>\n",
       "      <td>Orlando Magic</td>\n",
       "      <td>ORL</td>\n",
       "      <td>https://www.espn.com/nba/team/_/name/orl/orlan...</td>\n",
       "    </tr>\n",
       "    <tr>\n",
       "      <th>16</th>\n",
       "      <td>8</td>\n",
       "      <td>Pistons</td>\n",
       "      <td>Detroit Pistons</td>\n",
       "      <td>DET</td>\n",
       "      <td>https://www.espn.com/nba/team/_/name/det/detro...</td>\n",
       "    </tr>\n",
       "    <tr>\n",
       "      <th>17</th>\n",
       "      <td>9</td>\n",
       "      <td>Warriors</td>\n",
       "      <td>Golden State Warriors</td>\n",
       "      <td>GS</td>\n",
       "      <td>https://www.espn.com/nba/team/_/name/gs/golden...</td>\n",
       "    </tr>\n",
       "    <tr>\n",
       "      <th>18</th>\n",
       "      <td>5</td>\n",
       "      <td>Cavaliers</td>\n",
       "      <td>Cleveland Cavaliers</td>\n",
       "      <td>CLE</td>\n",
       "      <td>https://www.espn.com/nba/team/_/name/cle/cleve...</td>\n",
       "    </tr>\n",
       "    <tr>\n",
       "      <th>19</th>\n",
       "      <td>25</td>\n",
       "      <td>Thunder</td>\n",
       "      <td>Oklahoma City Thunder</td>\n",
       "      <td>OKC</td>\n",
       "      <td>https://www.espn.com/nba/team/_/name/okc/oklah...</td>\n",
       "    </tr>\n",
       "    <tr>\n",
       "      <th>20</th>\n",
       "      <td>24</td>\n",
       "      <td>Spurs</td>\n",
       "      <td>San Antonio Spurs</td>\n",
       "      <td>SA</td>\n",
       "      <td>https://www.espn.com/nba/team/_/name/sa/san-an...</td>\n",
       "    </tr>\n",
       "    <tr>\n",
       "      <th>21</th>\n",
       "      <td>15</td>\n",
       "      <td>Bucks</td>\n",
       "      <td>Milwaukee Bucks</td>\n",
       "      <td>MIL</td>\n",
       "      <td>https://www.espn.com/nba/team/_/name/mil/milwa...</td>\n",
       "    </tr>\n",
       "    <tr>\n",
       "      <th>22</th>\n",
       "      <td>20</td>\n",
       "      <td>76ers</td>\n",
       "      <td>Philadelphia 76ers</td>\n",
       "      <td>PHI</td>\n",
       "      <td>https://www.espn.com/nba/team/_/name/phi/phila...</td>\n",
       "    </tr>\n",
       "    <tr>\n",
       "      <th>23</th>\n",
       "      <td>11</td>\n",
       "      <td>Pacers</td>\n",
       "      <td>Indiana Pacers</td>\n",
       "      <td>IND</td>\n",
       "      <td>https://www.espn.com/nba/team/_/name/ind/india...</td>\n",
       "    </tr>\n",
       "    <tr>\n",
       "      <th>24</th>\n",
       "      <td>6</td>\n",
       "      <td>Mavericks</td>\n",
       "      <td>Dallas Mavericks</td>\n",
       "      <td>DAL</td>\n",
       "      <td>https://www.espn.com/nba/team/_/name/dal/dalla...</td>\n",
       "    </tr>\n",
       "    <tr>\n",
       "      <th>25</th>\n",
       "      <td>7</td>\n",
       "      <td>Nuggets</td>\n",
       "      <td>Denver Nuggets</td>\n",
       "      <td>DEN</td>\n",
       "      <td>https://www.espn.com/nba/team/_/name/den/denve...</td>\n",
       "    </tr>\n",
       "    <tr>\n",
       "      <th>26</th>\n",
       "      <td>14</td>\n",
       "      <td>Heat</td>\n",
       "      <td>Miami Heat</td>\n",
       "      <td>MIA</td>\n",
       "      <td>https://www.espn.com/nba/team/_/name/mia/miami...</td>\n",
       "    </tr>\n",
       "    <tr>\n",
       "      <th>27</th>\n",
       "      <td>23</td>\n",
       "      <td>Kings</td>\n",
       "      <td>Sacramento Kings</td>\n",
       "      <td>SAC</td>\n",
       "      <td>https://www.espn.com/nba/team/_/name/sac/sacra...</td>\n",
       "    </tr>\n",
       "  </tbody>\n",
       "</table>\n",
       "</div>"
      ],
      "text/plain": [
       "    id           name             displayname abbreviation  \\\n",
       "0   22  Trail Blazers  Portland Trail Blazers          POR   \n",
       "1   16   Timberwolves  Minnesota Timberwolves          MIN   \n",
       "2   13         Lakers      Los Angeles Lakers          LAL   \n",
       "3   29      Grizzlies       Memphis Grizzlies          MEM   \n",
       "4   27        Wizards      Washington Wizards          WSH   \n",
       "5    2        Celtics          Boston Celtics          BOS   \n",
       "6   21           Suns            Phoenix Suns          PHX   \n",
       "7    1          Hawks           Atlanta Hawks          ATL   \n",
       "8   28        Raptors         Toronto Raptors          TOR   \n",
       "9   18         Knicks         New York Knicks           NY   \n",
       "10  10        Rockets         Houston Rockets          HOU   \n",
       "11   3       Pelicans    New Orleans Pelicans           NO   \n",
       "12  17           Nets           Brooklyn Nets          BKN   \n",
       "13  30        Hornets       Charlotte Hornets          CHA   \n",
       "14  26           Jazz               Utah Jazz         UTAH   \n",
       "15  19          Magic           Orlando Magic          ORL   \n",
       "16   8        Pistons         Detroit Pistons          DET   \n",
       "17   9       Warriors   Golden State Warriors           GS   \n",
       "18   5      Cavaliers     Cleveland Cavaliers          CLE   \n",
       "19  25        Thunder   Oklahoma City Thunder          OKC   \n",
       "20  24          Spurs       San Antonio Spurs           SA   \n",
       "21  15          Bucks         Milwaukee Bucks          MIL   \n",
       "22  20          76ers      Philadelphia 76ers          PHI   \n",
       "23  11         Pacers          Indiana Pacers          IND   \n",
       "24   6      Mavericks        Dallas Mavericks          DAL   \n",
       "25   7        Nuggets          Denver Nuggets          DEN   \n",
       "26  14           Heat              Miami Heat          MIA   \n",
       "27  23          Kings        Sacramento Kings          SAC   \n",
       "\n",
       "                                              website  \n",
       "0   https://www.espn.com/nba/team/_/name/por/portl...  \n",
       "1   https://www.espn.com/nba/team/_/name/min/minne...  \n",
       "2   https://www.espn.com/nba/team/_/name/lal/los-a...  \n",
       "3   https://www.espn.com/nba/team/_/name/mem/memph...  \n",
       "4   https://www.espn.com/nba/team/_/name/wsh/washi...  \n",
       "5   https://www.espn.com/nba/team/_/name/bos/bosto...  \n",
       "6   https://www.espn.com/nba/team/_/name/phx/phoen...  \n",
       "7   https://www.espn.com/nba/team/_/name/atl/atlan...  \n",
       "8   https://www.espn.com/nba/team/_/name/tor/toron...  \n",
       "9   https://www.espn.com/nba/team/_/name/ny/new-yo...  \n",
       "10  https://www.espn.com/nba/team/_/name/hou/houst...  \n",
       "11  https://www.espn.com/nba/team/_/name/no/new-or...  \n",
       "12  https://www.espn.com/nba/team/_/name/bkn/brook...  \n",
       "13  https://www.espn.com/nba/team/_/name/cha/charl...  \n",
       "14  https://www.espn.com/nba/team/_/name/utah/utah...  \n",
       "15  https://www.espn.com/nba/team/_/name/orl/orlan...  \n",
       "16  https://www.espn.com/nba/team/_/name/det/detro...  \n",
       "17  https://www.espn.com/nba/team/_/name/gs/golden...  \n",
       "18  https://www.espn.com/nba/team/_/name/cle/cleve...  \n",
       "19  https://www.espn.com/nba/team/_/name/okc/oklah...  \n",
       "20  https://www.espn.com/nba/team/_/name/sa/san-an...  \n",
       "21  https://www.espn.com/nba/team/_/name/mil/milwa...  \n",
       "22  https://www.espn.com/nba/team/_/name/phi/phila...  \n",
       "23  https://www.espn.com/nba/team/_/name/ind/india...  \n",
       "24  https://www.espn.com/nba/team/_/name/dal/dalla...  \n",
       "25  https://www.espn.com/nba/team/_/name/den/denve...  \n",
       "26  https://www.espn.com/nba/team/_/name/mia/miami...  \n",
       "27  https://www.espn.com/nba/team/_/name/sac/sacra...  "
      ]
     },
     "execution_count": 45,
     "metadata": {},
     "output_type": "execute_result"
    }
   ],
   "source": [
    "df_teams"
   ]
  },
  {
   "attachments": {},
   "cell_type": "markdown",
   "metadata": {},
   "source": [
    "Create tables in nba_transactions Database"
   ]
  },
  {
   "cell_type": "code",
   "execution_count": 46,
   "metadata": {},
   "outputs": [],
   "source": [
    "conn, cur = create_database()\n",
    "\n",
    "# Create table transactions\n",
    "transactions_create_table = (\"\"\"CREATE TABLE IF NOT EXISTS transactions\n",
    "                    (transaction_date timestamp,\n",
    "                    team_name VARCHAR,\n",
    "                    description VARCHAR\n",
    "                    )\"\"\")\n",
    "cur.execute(transactions_create_table)\n",
    "\n",
    "# Create table teams\n",
    "teams_create_table = (\"\"\"CREATE TABLE IF NOT EXISTS teams\n",
    "                    (id INT PRIMARY KEY,\n",
    "                    name VARCHAR,\n",
    "                    displayname VARCHAR,\n",
    "                    abbreviation VARCHAR,\n",
    "                    website VARCHAR\n",
    "                    )\"\"\")\n",
    "cur.execute(teams_create_table)\n"
   ]
  },
  {
   "attachments": {},
   "cell_type": "markdown",
   "metadata": {},
   "source": [
    "Insert values from Pandas to Postgres"
   ]
  },
  {
   "cell_type": "code",
   "execution_count": 47,
   "metadata": {},
   "outputs": [],
   "source": [
    "transactions_table_insert = (\"\"\"INSERT INTO transactions(\n",
    "                    transaction_date,\n",
    "                    team_name,\n",
    "                    description)\n",
    "                    VALUES (%s, %s, %s)\n",
    "                    \"\"\")"
   ]
  },
  {
   "cell_type": "code",
   "execution_count": 48,
   "metadata": {},
   "outputs": [],
   "source": [
    "try:\n",
    "    for i, row in df_transactions.iterrows():\n",
    "        cur.execute(transactions_table_insert, list(row))\n",
    "        \n",
    "except psycopg2.Error as e:\n",
    "    print(e)"
   ]
  },
  {
   "cell_type": "code",
   "execution_count": 49,
   "metadata": {},
   "outputs": [],
   "source": [
    "teams_table_insert = (\"\"\"INSERT INTO teams(\n",
    "                    id,\n",
    "                    name,\n",
    "                    displayname,\n",
    "                    abbreviation,\n",
    "                    website)\n",
    "                    VALUES (%s, %s, %s, %s, %s)\n",
    "                    \"\"\")"
   ]
  },
  {
   "cell_type": "code",
   "execution_count": 50,
   "metadata": {},
   "outputs": [],
   "source": [
    "try:\n",
    "    for i, row in df_teams.iterrows():\n",
    "        cur.execute(teams_table_insert, list(row))\n",
    "        \n",
    "except psycopg2.Error as e:\n",
    "    print(e)"
   ]
  }
 ],
 "metadata": {
  "kernelspec": {
   "display_name": "base",
   "language": "python",
   "name": "python3"
  },
  "language_info": {
   "codemirror_mode": {
    "name": "ipython",
    "version": 3
   },
   "file_extension": ".py",
   "mimetype": "text/x-python",
   "name": "python",
   "nbconvert_exporter": "python",
   "pygments_lexer": "ipython3",
   "version": "3.9.13"
  },
  "orig_nbformat": 4
 },
 "nbformat": 4,
 "nbformat_minor": 2
}
