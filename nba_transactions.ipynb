{
 "cells": [
  {
   "cell_type": "code",
   "execution_count": 1,
   "metadata": {},
   "outputs": [],
   "source": [
    "import requests\n",
    "import psycopg2\n",
    "import pandas as pd"
   ]
  },
  {
   "attachments": {},
   "cell_type": "markdown",
   "metadata": {},
   "source": [
    "Create Database in Postgres"
   ]
  },
  {
   "cell_type": "code",
   "execution_count": 2,
   "metadata": {},
   "outputs": [],
   "source": [
    "def create_database():\n",
    "    # Connect to default database\n",
    "    conn = psycopg2.connect(\"host=localhost port=5432 dbname=postgres user=postgres password=root\")\n",
    "    conn.set_session(autocommit=True)\n",
    "    cur = conn.cursor()\n",
    "\n",
    "    # Create nba_transactions database\n",
    "    cur.execute(\"DROP DATABASE IF EXISTS nba_transactions;\")\n",
    "    cur.execute(\"CREATE DATABASE nba_transactions;\")\n",
    "\n",
    "    # Close connection to default DB\n",
    "    conn.close()\n",
    "\n",
    "    # Connect to nba_transactions DB\n",
    "    conn = psycopg2.connect(\"host=localhost port=5432 dbname=nba_transactions user=postgres password=root\")\n",
    "    conn.set_session(autocommit=True)\n",
    "    cur = conn.cursor()\n",
    "\n",
    "    return conn, cur"
   ]
  },
  {
   "attachments": {},
   "cell_type": "markdown",
   "metadata": {},
   "source": [
    "Extract data from ESPN"
   ]
  },
  {
   "cell_type": "code",
   "execution_count": 3,
   "metadata": {},
   "outputs": [],
   "source": [
    "\n",
    "url = \"https://site.web.api.espn.com/apis/site/v2/sports/basketball/nba/transactions\"\n",
    "\n",
    "querystring = {\"region\":\"us\",\"lang\":\"en\",\"contentorigin\":\"espn\",\"limit\":\"1000\",\"page\":\"1\"}\n",
    "\n",
    "payload = \"\"\n",
    "headers = {\n",
    "    \"authority\": \"site.web.api.espn.com\",\n",
    "    \"accept\": \"*/*\",\n",
    "    \"accept-language\": \"en-US,en;q=0.9,he-IL;q=0.8,he;q=0.7\",\n",
    "    \"origin\": \"https://www.espn.com\",\n",
    "    \"referer\": \"https://www.espn.com/\",\n",
    "    \"sec-ch-ua\": \"^\\^Not.A/Brand^^;v=^\\^8^^, ^\\^Chromium^^;v=^\\^114^^, ^\\^Google\",\n",
    "    \"sec-ch-ua-mobile\": \"?0\",\n",
    "    \"sec-ch-ua-platform\": \"^\\^Windows^^\",\n",
    "    \"sec-fetch-dest\": \"empty\",\n",
    "    \"sec-fetch-mode\": \"cors\",\n",
    "    \"sec-fetch-site\": \"same-site\",\n",
    "    \"user-agent\": \"Mozilla/5.0 (Windows NT 10.0; Win64; x64) AppleWebKit/537.36 (KHTML, like Gecko) Chrome/114.0.0.0 Safari/537.36\"\n",
    "}\n",
    "\n",
    "r = requests.request(\"GET\", url, data=payload, headers=headers, params=querystring)\n"
   ]
  },
  {
   "cell_type": "code",
   "execution_count": 4,
   "metadata": {},
   "outputs": [],
   "source": [
    "# change output format into json.\n",
    "data = r.json()"
   ]
  },
  {
   "cell_type": "code",
   "execution_count": 5,
   "metadata": {},
   "outputs": [
    {
     "data": {
      "text/plain": [
       "dict_keys(['timestamp', 'status', 'season', 'requestedYear', 'count', 'pageIndex', 'pageSize', 'pageCount', 'transactions'])"
      ]
     },
     "execution_count": 5,
     "metadata": {},
     "output_type": "execute_result"
    }
   ],
   "source": [
    "data.keys()"
   ]
  },
  {
   "cell_type": "code",
   "execution_count": 6,
   "metadata": {},
   "outputs": [],
   "source": [
    "trans_data = data['transactions']"
   ]
  },
  {
   "cell_type": "code",
   "execution_count": 7,
   "metadata": {},
   "outputs": [
    {
     "data": {
      "text/plain": [
       "'2023-06-30T07:00Z'"
      ]
     },
     "execution_count": 7,
     "metadata": {},
     "output_type": "execute_result"
    }
   ],
   "source": [
    "#transaction date\n",
    "trans_data[0]['date']"
   ]
  },
  {
   "cell_type": "code",
   "execution_count": 8,
   "metadata": {},
   "outputs": [
    {
     "data": {
      "text/plain": [
       "'Waived F Trendon Watford.'"
      ]
     },
     "execution_count": 8,
     "metadata": {},
     "output_type": "execute_result"
    }
   ],
   "source": [
    "#description\n",
    "trans_data[0]['description']"
   ]
  },
  {
   "cell_type": "code",
   "execution_count": 9,
   "metadata": {},
   "outputs": [
    {
     "data": {
      "text/plain": [
       "{'id': '22',\n",
       " 'location': 'Portland',\n",
       " 'name': 'Trail Blazers',\n",
       " 'abbreviation': 'POR',\n",
       " 'displayName': 'Portland Trail Blazers',\n",
       " 'color': 'e03a3e',\n",
       " 'alternateColor': '000000',\n",
       " 'logos': [{'href': 'https://a.espncdn.com/i/teamlogos/nba/500/por.png',\n",
       "   'width': 500,\n",
       "   'height': 500,\n",
       "   'alt': '',\n",
       "   'rel': ['full', 'default'],\n",
       "   'lastUpdated': '2018-06-05T12:08Z'},\n",
       "  {'href': 'https://a.espncdn.com/i/teamlogos/nba/500-dark/por.png',\n",
       "   'width': 500,\n",
       "   'height': 500,\n",
       "   'alt': '',\n",
       "   'rel': ['full', 'dark'],\n",
       "   'lastUpdated': '2018-06-05T12:08Z'},\n",
       "  {'href': 'https://a.espncdn.com/i/teamlogos/nba/500/scoreboard/por.png',\n",
       "   'width': 500,\n",
       "   'height': 500,\n",
       "   'alt': '',\n",
       "   'rel': ['full', 'scoreboard'],\n",
       "   'lastUpdated': '2018-06-05T12:08Z'},\n",
       "  {'href': 'https://a.espncdn.com/i/teamlogos/nba/500-dark/scoreboard/por.png',\n",
       "   'width': 500,\n",
       "   'height': 500,\n",
       "   'alt': '',\n",
       "   'rel': ['full', 'scoreboard', 'dark'],\n",
       "   'lastUpdated': '2018-06-05T12:08Z'}],\n",
       " 'links': [{'language': 'en-US',\n",
       "   'rel': ['clubhouse', 'desktop', 'team'],\n",
       "   'href': 'https://www.espn.com/nba/team/_/name/por/portland-trail-blazers',\n",
       "   'text': 'Clubhouse',\n",
       "   'shortText': 'Clubhouse',\n",
       "   'isExternal': False,\n",
       "   'isPremium': False}]}"
      ]
     },
     "execution_count": 9,
     "metadata": {},
     "output_type": "execute_result"
    }
   ],
   "source": [
    "#team id\n",
    "trans_data[0]['team']"
   ]
  },
  {
   "cell_type": "code",
   "execution_count": 10,
   "metadata": {},
   "outputs": [
    {
     "data": {
      "text/plain": [
       "'Trail Blazers'"
      ]
     },
     "execution_count": 10,
     "metadata": {},
     "output_type": "execute_result"
    }
   ],
   "source": [
    "#team name\n",
    "trans_data[0]['team']['name']"
   ]
  },
  {
   "cell_type": "code",
   "execution_count": 11,
   "metadata": {},
   "outputs": [
    {
     "data": {
      "text/plain": [
       "'https://www.espn.com/nba/team/_/name/por/portland-trail-blazers'"
      ]
     },
     "execution_count": 11,
     "metadata": {},
     "output_type": "execute_result"
    }
   ],
   "source": [
    "#team website\n",
    "trans_data[0]['team']['links'][0]['href']"
   ]
  },
  {
   "cell_type": "code",
   "execution_count": 12,
   "metadata": {},
   "outputs": [],
   "source": [
    "# transaction table (transaction_date, team_name, description)\n",
    "transactions_list = []\n",
    "\n",
    "for row in trans_data:\n",
    "    transaction_date = row['date']\n",
    "    team_name = row['team']['displayName']\n",
    "    description = row['description']\n",
    "\n",
    "    transactions_element = {'transaction_date': transaction_date, 'team_name': team_name, 'description': description}\n",
    "    \n",
    "    transactions_list.append(transactions_element)\n",
    "    "
   ]
  },
  {
   "cell_type": "code",
   "execution_count": 13,
   "metadata": {},
   "outputs": [],
   "source": [
    "df_transactions = pd.DataFrame.from_dict(transactions_list)"
   ]
  },
  {
   "cell_type": "code",
   "execution_count": 14,
   "metadata": {},
   "outputs": [
    {
     "name": "stdout",
     "output_type": "stream",
     "text": [
      "<class 'pandas.core.frame.DataFrame'>\n",
      "RangeIndex: 114 entries, 0 to 113\n",
      "Data columns (total 3 columns):\n",
      " #   Column            Non-Null Count  Dtype \n",
      "---  ------            --------------  ----- \n",
      " 0   transaction_date  114 non-null    object\n",
      " 1   team_name         114 non-null    object\n",
      " 2   description       114 non-null    object\n",
      "dtypes: object(3)\n",
      "memory usage: 2.8+ KB\n"
     ]
    }
   ],
   "source": [
    "df_transactions.info()"
   ]
  },
  {
   "cell_type": "code",
   "execution_count": 15,
   "metadata": {},
   "outputs": [],
   "source": [
    "# change 'transaction_date' data type to datetime.\n",
    "df_transactions['transaction_date'] = pd.to_datetime(df_transactions['transaction_date'])"
   ]
  },
  {
   "cell_type": "code",
   "execution_count": 16,
   "metadata": {},
   "outputs": [
    {
     "name": "stdout",
     "output_type": "stream",
     "text": [
      "<class 'pandas.core.frame.DataFrame'>\n",
      "RangeIndex: 114 entries, 0 to 113\n",
      "Data columns (total 3 columns):\n",
      " #   Column            Non-Null Count  Dtype              \n",
      "---  ------            --------------  -----              \n",
      " 0   transaction_date  114 non-null    datetime64[ns, UTC]\n",
      " 1   team_name         114 non-null    object             \n",
      " 2   description       114 non-null    object             \n",
      "dtypes: datetime64[ns, UTC](1), object(2)\n",
      "memory usage: 2.8+ KB\n"
     ]
    }
   ],
   "source": [
    "df_transactions.info()"
   ]
  },
  {
   "cell_type": "code",
   "execution_count": 17,
   "metadata": {},
   "outputs": [],
   "source": [
    "# team table (team_id, team_name, displayname, team_web )\n",
    "team_list = []\n",
    "\n",
    "for row in trans_data:\n",
    "    id = row['team']['id']\n",
    "    name = row['team']['name']\n",
    "    displayname = row['team']['displayName']\n",
    "    abbreviation = row['team']['abbreviation']\n",
    "    website = row['team']['links'][0]['href']\n",
    "\n",
    "    team_element = {'id': id, 'name': name, 'displayname': displayname, 'abbreviation': abbreviation, 'website': website}\n",
    "\n",
    "    team_list.append(team_element)"
   ]
  },
  {
   "cell_type": "code",
   "execution_count": 18,
   "metadata": {},
   "outputs": [],
   "source": [
    "df_teams = pd.DataFrame.from_dict(team_list)"
   ]
  },
  {
   "cell_type": "code",
   "execution_count": 19,
   "metadata": {},
   "outputs": [
    {
     "data": {
      "text/html": [
       "<div>\n",
       "<style scoped>\n",
       "    .dataframe tbody tr th:only-of-type {\n",
       "        vertical-align: middle;\n",
       "    }\n",
       "\n",
       "    .dataframe tbody tr th {\n",
       "        vertical-align: top;\n",
       "    }\n",
       "\n",
       "    .dataframe thead th {\n",
       "        text-align: right;\n",
       "    }\n",
       "</style>\n",
       "<table border=\"1\" class=\"dataframe\">\n",
       "  <thead>\n",
       "    <tr style=\"text-align: right;\">\n",
       "      <th></th>\n",
       "      <th>id</th>\n",
       "      <th>name</th>\n",
       "      <th>displayname</th>\n",
       "      <th>abbreviation</th>\n",
       "      <th>website</th>\n",
       "    </tr>\n",
       "  </thead>\n",
       "  <tbody>\n",
       "    <tr>\n",
       "      <th>0</th>\n",
       "      <td>22</td>\n",
       "      <td>Trail Blazers</td>\n",
       "      <td>Portland Trail Blazers</td>\n",
       "      <td>POR</td>\n",
       "      <td>https://www.espn.com/nba/team/_/name/por/portl...</td>\n",
       "    </tr>\n",
       "    <tr>\n",
       "      <th>1</th>\n",
       "      <td>16</td>\n",
       "      <td>Timberwolves</td>\n",
       "      <td>Minnesota Timberwolves</td>\n",
       "      <td>MIN</td>\n",
       "      <td>https://www.espn.com/nba/team/_/name/min/minne...</td>\n",
       "    </tr>\n",
       "    <tr>\n",
       "      <th>2</th>\n",
       "      <td>13</td>\n",
       "      <td>Lakers</td>\n",
       "      <td>Los Angeles Lakers</td>\n",
       "      <td>LAL</td>\n",
       "      <td>https://www.espn.com/nba/team/_/name/lal/los-a...</td>\n",
       "    </tr>\n",
       "    <tr>\n",
       "      <th>3</th>\n",
       "      <td>16</td>\n",
       "      <td>Timberwolves</td>\n",
       "      <td>Minnesota Timberwolves</td>\n",
       "      <td>MIN</td>\n",
       "      <td>https://www.espn.com/nba/team/_/name/min/minne...</td>\n",
       "    </tr>\n",
       "    <tr>\n",
       "      <th>4</th>\n",
       "      <td>29</td>\n",
       "      <td>Grizzlies</td>\n",
       "      <td>Memphis Grizzlies</td>\n",
       "      <td>MEM</td>\n",
       "      <td>https://www.espn.com/nba/team/_/name/mem/memph...</td>\n",
       "    </tr>\n",
       "  </tbody>\n",
       "</table>\n",
       "</div>"
      ],
      "text/plain": [
       "   id           name             displayname abbreviation  \\\n",
       "0  22  Trail Blazers  Portland Trail Blazers          POR   \n",
       "1  16   Timberwolves  Minnesota Timberwolves          MIN   \n",
       "2  13         Lakers      Los Angeles Lakers          LAL   \n",
       "3  16   Timberwolves  Minnesota Timberwolves          MIN   \n",
       "4  29      Grizzlies       Memphis Grizzlies          MEM   \n",
       "\n",
       "                                             website  \n",
       "0  https://www.espn.com/nba/team/_/name/por/portl...  \n",
       "1  https://www.espn.com/nba/team/_/name/min/minne...  \n",
       "2  https://www.espn.com/nba/team/_/name/lal/los-a...  \n",
       "3  https://www.espn.com/nba/team/_/name/min/minne...  \n",
       "4  https://www.espn.com/nba/team/_/name/mem/memph...  "
      ]
     },
     "execution_count": 19,
     "metadata": {},
     "output_type": "execute_result"
    }
   ],
   "source": [
    "df_teams.head()"
   ]
  },
  {
   "cell_type": "code",
   "execution_count": 20,
   "metadata": {},
   "outputs": [],
   "source": [
    "df_teams.drop_duplicates(subset=['id'],inplace=True)"
   ]
  },
  {
   "cell_type": "code",
   "execution_count": 21,
   "metadata": {},
   "outputs": [],
   "source": [
    "df_teams.reset_index(drop=True,inplace=True)"
   ]
  },
  {
   "cell_type": "code",
   "execution_count": 22,
   "metadata": {},
   "outputs": [
    {
     "data": {
      "text/html": [
       "<div>\n",
       "<style scoped>\n",
       "    .dataframe tbody tr th:only-of-type {\n",
       "        vertical-align: middle;\n",
       "    }\n",
       "\n",
       "    .dataframe tbody tr th {\n",
       "        vertical-align: top;\n",
       "    }\n",
       "\n",
       "    .dataframe thead th {\n",
       "        text-align: right;\n",
       "    }\n",
       "</style>\n",
       "<table border=\"1\" class=\"dataframe\">\n",
       "  <thead>\n",
       "    <tr style=\"text-align: right;\">\n",
       "      <th></th>\n",
       "      <th>id</th>\n",
       "      <th>name</th>\n",
       "      <th>displayname</th>\n",
       "      <th>abbreviation</th>\n",
       "      <th>website</th>\n",
       "    </tr>\n",
       "  </thead>\n",
       "  <tbody>\n",
       "    <tr>\n",
       "      <th>0</th>\n",
       "      <td>22</td>\n",
       "      <td>Trail Blazers</td>\n",
       "      <td>Portland Trail Blazers</td>\n",
       "      <td>POR</td>\n",
       "      <td>https://www.espn.com/nba/team/_/name/por/portl...</td>\n",
       "    </tr>\n",
       "    <tr>\n",
       "      <th>1</th>\n",
       "      <td>16</td>\n",
       "      <td>Timberwolves</td>\n",
       "      <td>Minnesota Timberwolves</td>\n",
       "      <td>MIN</td>\n",
       "      <td>https://www.espn.com/nba/team/_/name/min/minne...</td>\n",
       "    </tr>\n",
       "    <tr>\n",
       "      <th>2</th>\n",
       "      <td>13</td>\n",
       "      <td>Lakers</td>\n",
       "      <td>Los Angeles Lakers</td>\n",
       "      <td>LAL</td>\n",
       "      <td>https://www.espn.com/nba/team/_/name/lal/los-a...</td>\n",
       "    </tr>\n",
       "    <tr>\n",
       "      <th>3</th>\n",
       "      <td>29</td>\n",
       "      <td>Grizzlies</td>\n",
       "      <td>Memphis Grizzlies</td>\n",
       "      <td>MEM</td>\n",
       "      <td>https://www.espn.com/nba/team/_/name/mem/memph...</td>\n",
       "    </tr>\n",
       "    <tr>\n",
       "      <th>4</th>\n",
       "      <td>27</td>\n",
       "      <td>Wizards</td>\n",
       "      <td>Washington Wizards</td>\n",
       "      <td>WSH</td>\n",
       "      <td>https://www.espn.com/nba/team/_/name/wsh/washi...</td>\n",
       "    </tr>\n",
       "  </tbody>\n",
       "</table>\n",
       "</div>"
      ],
      "text/plain": [
       "   id           name             displayname abbreviation  \\\n",
       "0  22  Trail Blazers  Portland Trail Blazers          POR   \n",
       "1  16   Timberwolves  Minnesota Timberwolves          MIN   \n",
       "2  13         Lakers      Los Angeles Lakers          LAL   \n",
       "3  29      Grizzlies       Memphis Grizzlies          MEM   \n",
       "4  27        Wizards      Washington Wizards          WSH   \n",
       "\n",
       "                                             website  \n",
       "0  https://www.espn.com/nba/team/_/name/por/portl...  \n",
       "1  https://www.espn.com/nba/team/_/name/min/minne...  \n",
       "2  https://www.espn.com/nba/team/_/name/lal/los-a...  \n",
       "3  https://www.espn.com/nba/team/_/name/mem/memph...  \n",
       "4  https://www.espn.com/nba/team/_/name/wsh/washi...  "
      ]
     },
     "execution_count": 22,
     "metadata": {},
     "output_type": "execute_result"
    }
   ],
   "source": [
    "df_teams.head()"
   ]
  },
  {
   "attachments": {},
   "cell_type": "markdown",
   "metadata": {},
   "source": [
    "Create tables in nba_transactions Database"
   ]
  },
  {
   "cell_type": "code",
   "execution_count": 23,
   "metadata": {},
   "outputs": [],
   "source": [
    "conn, cur = create_database()\n",
    "\n",
    "# Create table transactions\n",
    "transactions_create_table = (\"\"\"CREATE TABLE IF NOT EXISTS transactions\n",
    "                    (transaction_date timestamp,\n",
    "                    team_name VARCHAR,\n",
    "                    description VARCHAR\n",
    "                    )\"\"\")\n",
    "cur.execute(transactions_create_table)\n",
    "\n",
    "# Create table teams\n",
    "teams_create_table = (\"\"\"CREATE TABLE IF NOT EXISTS teams\n",
    "                    (id INT PRIMARY KEY,\n",
    "                    name VARCHAR,\n",
    "                    displayname VARCHAR,\n",
    "                    abbreviation VARCHAR,\n",
    "                    website VARCHAR\n",
    "                    )\"\"\")\n",
    "cur.execute(teams_create_table)\n"
   ]
  },
  {
   "attachments": {},
   "cell_type": "markdown",
   "metadata": {},
   "source": [
    "Insert values from Pandas to Postgres"
   ]
  },
  {
   "cell_type": "code",
   "execution_count": 24,
   "metadata": {},
   "outputs": [],
   "source": [
    "transactions_table_insert = (\"\"\"INSERT INTO transactions(\n",
    "                    transaction_date,\n",
    "                    team_name,\n",
    "                    description)\n",
    "                    VALUES (%s, %s, %s)\n",
    "                    \"\"\")"
   ]
  },
  {
   "cell_type": "code",
   "execution_count": 25,
   "metadata": {},
   "outputs": [],
   "source": [
    "try:\n",
    "    for i, row in df_transactions.iterrows():\n",
    "        cur.execute(transactions_table_insert, list(row))\n",
    "        \n",
    "except psycopg2.Error as e:\n",
    "    print(e)"
   ]
  },
  {
   "cell_type": "code",
   "execution_count": 26,
   "metadata": {},
   "outputs": [],
   "source": [
    "teams_table_insert = (\"\"\"INSERT INTO teams(\n",
    "                    id,\n",
    "                    name,\n",
    "                    displayname,\n",
    "                    abbreviation,\n",
    "                    website)\n",
    "                    VALUES (%s, %s, %s, %s, %s)\n",
    "                    \"\"\")"
   ]
  },
  {
   "cell_type": "code",
   "execution_count": 27,
   "metadata": {},
   "outputs": [],
   "source": [
    "try:\n",
    "    for i, row in df_teams.iterrows():\n",
    "        cur.execute(teams_table_insert, list(row))\n",
    "        \n",
    "except psycopg2.Error as e:\n",
    "    print(e)"
   ]
  }
 ],
 "metadata": {
  "kernelspec": {
   "display_name": "base",
   "language": "python",
   "name": "python3"
  },
  "language_info": {
   "codemirror_mode": {
    "name": "ipython",
    "version": 3
   },
   "file_extension": ".py",
   "mimetype": "text/x-python",
   "name": "python",
   "nbconvert_exporter": "python",
   "pygments_lexer": "ipython3",
   "version": "3.9.13"
  },
  "orig_nbformat": 4
 },
 "nbformat": 4,
 "nbformat_minor": 2
}
